{
 "cells": [
  {
   "cell_type": "markdown",
   "id": "3691128f",
   "metadata": {},
   "source": [
    "## Links úteis:\n",
    "- https://sbert.net/docs/cross_encoder/pretrained_models.html\n",
    "- https://sbert.net/docs/cross_encoder/training_overview.html#why-finetune\n",
    "- https://huggingface.co/cross-encoder/ms-marco-TinyBERT-L2-v2\n",
    "- https://huggingface.co/cross-encoder/models?sort=downloads"
   ]
  },
  {
   "cell_type": "code",
   "execution_count": 2,
   "id": "b2b2fde4",
   "metadata": {},
   "outputs": [
    {
     "name": "stderr",
     "output_type": "stream",
     "text": [
      "c:\\Users\\alber\\Desktop\\projetos\\Generative-IA\\venv-genai\\Lib\\site-packages\\tqdm\\auto.py:21: TqdmWarning: IProgress not found. Please update jupyter and ipywidgets. See https://ipywidgets.readthedocs.io/en/stable/user_install.html\n",
      "  from .autonotebook import tqdm as notebook_tqdm\n"
     ]
    }
   ],
   "source": [
    "from sentence_transformers import CrossEncoder"
   ]
  },
  {
   "cell_type": "code",
   "execution_count": 14,
   "id": "37ee24c2",
   "metadata": {},
   "outputs": [
    {
     "data": {
      "text/plain": [
       "array([ 8.607141, -4.320078], dtype=float32)"
      ]
     },
     "execution_count": 14,
     "metadata": {},
     "output_type": "execute_result"
    }
   ],
   "source": [
    "# Load a pre-trained CrossEncoder model\n",
    "model = CrossEncoder(\"cross-encoder/ms-marco-MiniLM-L-6-v2\")\n",
    "\n",
    "# Predict scores for a pair of sentences\n",
    "scores = model.predict([\n",
    "    (\"How many people live in Berlin?\", \"Berlin had a population of 3,520,031 registered inhabitants in an area of 891.82 square kilometers.\"),\n",
    "    (\"How many people live in Berlin?\", \"Berlin is well known for its museums.\"),\n",
    "])\n",
    "scores"
   ]
  },
  {
   "cell_type": "code",
   "execution_count": 16,
   "id": "036fc78d",
   "metadata": {},
   "outputs": [
    {
     "name": "stdout",
     "output_type": "stream",
     "text": [
      "Query: How many people live in Berlin?\n",
      "0.93\tBerlin had a population of 3,520,031 registered inhabitants in an area of 891.82 square kilometers.\n",
      "0.93\tIn 2014, the city state Berlin had 37,368 live births (+6.6%), a record number since 1991.\n",
      "0.87\tAn estimated 300,000-420,000 Muslims reside in Berlin, making up about 8-11 percent of the population.\n",
      "0.85\tThe urban area of Berlin comprised about 4.1 million people in 2014, making it the seventh most populous urban area in the European Union.\n",
      "0.42\tBerlin has a yearly total of about 135 million day visitors, which puts it in third place among the most-visited city destinations in the European Union.\n",
      "0.01\tIn 2015, the total labour force in Berlin was 1.85 million.\n",
      "0.01\tIn 2013 around 600,000 Berliners were registered in one of the more than 2,300 sport and fitness clubs.\n",
      "0.00\tBerlin is well known for its museums.\n",
      "0.00\tBerlin is subdivided into 12 boroughs or districts (Bezirke).\n",
      "0.00\tThe city of Paris had a population of 2,165,423 people within its administrative city limits as of January 1, 2019\n"
     ]
    }
   ],
   "source": [
    "# Load a pre-trained CrossEncoder model\n",
    "model = CrossEncoder(\"./models/TinyBERT-ms-marco-L6\")\n",
    "\n",
    "# Rank a list of passages for a query\n",
    "query = \"How many people live in Berlin?\"\n",
    "passages = [\n",
    "    \"Berlin had a population of 3,520,031 registered inhabitants in an area of 891.82 square kilometers.\",\n",
    "    \"Berlin is well known for its museums.\",\n",
    "    \"In 2014, the city state Berlin had 37,368 live births (+6.6%), a record number since 1991.\",\n",
    "    \"The urban area of Berlin comprised about 4.1 million people in 2014, making it the seventh most populous urban area in the European Union.\",\n",
    "    \"The city of Paris had a population of 2,165,423 people within its administrative city limits as of January 1, 2019\",\n",
    "    \"An estimated 300,000-420,000 Muslims reside in Berlin, making up about 8-11 percent of the population.\",\n",
    "    \"Berlin is subdivided into 12 boroughs or districts (Bezirke).\",\n",
    "    \"In 2015, the total labour force in Berlin was 1.85 million.\",\n",
    "    \"In 2013 around 600,000 Berliners were registered in one of the more than 2,300 sport and fitness clubs.\",\n",
    "    \"Berlin has a yearly total of about 135 million day visitors, which puts it in third place among the most-visited city destinations in the European Union.\",\n",
    "]\n",
    "ranks = model.rank(query, passages)\n",
    "\n",
    "# Print the scores\n",
    "print(\"Query:\", query)\n",
    "for rank in ranks:\n",
    "    print(f\"{rank['score']:.2f}\\t{passages[rank['corpus_id']]}\")"
   ]
  },
  {
   "cell_type": "code",
   "execution_count": 13,
   "id": "c96c9786",
   "metadata": {},
   "outputs": [
    {
     "name": "stderr",
     "output_type": "stream",
     "text": [
      "c:\\Users\\alber\\Desktop\\projetos\\Generative-IA\\venv-genai\\Lib\\site-packages\\huggingface_hub\\file_download.py:143: UserWarning: `huggingface_hub` cache-system uses symlinks by default to efficiently store duplicated files but your machine does not support them in C:\\Users\\alber\\.cache\\huggingface\\hub\\models--cross-encoder--ms-marco-TinyBERT-L6. Caching files will still work but in a degraded version that might require more space on your disk. This warning can be disabled by setting the `HF_HUB_DISABLE_SYMLINKS_WARNING` environment variable. For more details, see https://huggingface.co/docs/huggingface_hub/how-to-cache#limitations.\n",
      "To support symlinks on Windows, you either need to activate Developer Mode or to run Python as an administrator. In order to activate developer mode, see this article: https://docs.microsoft.com/en-us/windows/apps/get-started/enable-your-device-for-development\n",
      "  warnings.warn(message)\n",
      "Xet Storage is enabled for this repo, but the 'hf_xet' package is not installed. Falling back to regular HTTP download. For better performance, install the package with: `pip install huggingface_hub[hf_xet]` or `pip install hf_xet`\n"
     ]
    }
   ],
   "source": [
    "model = CrossEncoder(\"cross-encoder/ms-marco-TinyBERT-L6\")\n",
    "save_path = \"./models/TinyBERT-ms-marco-L6\"\n",
    "model.save_pretrained(save_path)"
   ]
  }
 ],
 "metadata": {
  "kernelspec": {
   "display_name": "venv-genai",
   "language": "python",
   "name": "python3"
  },
  "language_info": {
   "codemirror_mode": {
    "name": "ipython",
    "version": 3
   },
   "file_extension": ".py",
   "mimetype": "text/x-python",
   "name": "python",
   "nbconvert_exporter": "python",
   "pygments_lexer": "ipython3",
   "version": "3.12.10"
  }
 },
 "nbformat": 4,
 "nbformat_minor": 5
}
