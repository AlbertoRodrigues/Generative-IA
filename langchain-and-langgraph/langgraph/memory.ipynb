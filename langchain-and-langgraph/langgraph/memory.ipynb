{
 "cells": [
  {
   "cell_type": "code",
   "execution_count": 1,
   "id": "b9b3ad3d",
   "metadata": {},
   "outputs": [],
   "source": [
    "from langgraph.graph import StateGraph, END\n",
    "from langchain.chat_models import ChatOpenAI\n",
    "from langchain.prompts import ChatPromptTemplate\n",
    "import os\n",
    "from typing import Optional\n",
    "from dotenv import load_dotenv\n",
    "from IPython.display import  Image, display"
   ]
  },
  {
   "cell_type": "code",
   "execution_count": 2,
   "id": "aa8c9843",
   "metadata": {},
   "outputs": [
    {
     "name": "stderr",
     "output_type": "stream",
     "text": [
      "C:\\Users\\alber\\AppData\\Local\\Temp\\ipykernel_19056\\1903895123.py:3: LangChainDeprecationWarning: The class `ChatOpenAI` was deprecated in LangChain 0.0.10 and will be removed in 1.0. An updated version of the class exists in the :class:`~langchain-openai package and should be used instead. To use it run `pip install -U :class:`~langchain-openai` and import as `from :class:`~langchain_openai import ChatOpenAI``.\n",
      "  llm = ChatOpenAI(model=\"gpt-4.1-mini-2025-04-14\", openai_api_key=openai_api_key)\n"
     ]
    }
   ],
   "source": [
    "load_dotenv()\n",
    "openai_api_key=os.getenv('OPENAI_API_KEY')\n",
    "llm = ChatOpenAI(model=\"gpt-4.1-mini-2025-04-14\", openai_api_key=openai_api_key)"
   ]
  },
  {
   "cell_type": "code",
   "execution_count": 3,
   "id": "e7148590",
   "metadata": {},
   "outputs": [],
   "source": [
    "class State(dict):\n",
    "    mensagem: str\n",
    "    historico: Optional[list]\n",
    "    resposta: Optional[str]\n",
    "    resultado: Optional[str]\n",
    "\n",
    "# Função para criar o estado inicial\n",
    "def criar_estado_inicial(mensagem_usuario):\n",
    "    return {\n",
    "        \"mensagem\": mensagem_usuario,\n",
    "        \"historico\": [],\n",
    "        \"resposta\": None,\n",
    "        \"resultado\": None\n",
    "    }\n",
    "\n",
    "# Nó 1: Gerar resposta considerando histórico\n",
    "def gerar_resposta(state):\n",
    "    mensagens = state[\"historico\"] + [{\"role\": \"user\", \"content\": state[\"mensagem\"]}]\n",
    "    \n",
    "    resposta = llm.invoke(mensagens)\n",
    "    \n",
    "    # Atualizar estado\n",
    "    state[\"resposta\"] = resposta.content.strip()\n",
    "    state[\"historico\"].append({\"role\": \"user\", \"content\": state[\"mensagem\"]})\n",
    "    state[\"historico\"].append({\"role\": \"assistant\", \"content\": resposta.content.strip()})\n",
    "    state[\"resultado\"] = f\"Última resposta: {state['resposta']}\"\n",
    "    return state"
   ]
  },
  {
   "cell_type": "code",
   "execution_count": 4,
   "id": "fd736a35",
   "metadata": {},
   "outputs": [],
   "source": [
    "graph = StateGraph(State)\n",
    "\n",
    "graph.add_node(\"gerar_resposta\", gerar_resposta)\n",
    "graph.set_entry_point(\"gerar_resposta\")\n",
    "graph.add_edge(\"gerar_resposta\", END)\n",
    "\n",
    "app = graph.compile()"
   ]
  },
  {
   "cell_type": "code",
   "execution_count": 6,
   "id": "0c7845f0",
   "metadata": {},
   "outputs": [
    {
     "data": {
      "image/png": "[encoded data removed]",
      "text/plain": [
       "<IPython.core.display.Image object>"
      ]
     },
     "metadata": {},
     "output_type": "display_data"
    }
   ],
   "source": [
    "display(Image(app.get_graph().draw_mermaid_png()))"
   ]
  },
  {
   "cell_type": "code",
   "execution_count": 5,
   "id": "399ae80b",
   "metadata": {},
   "outputs": [
    {
     "name": "stdout",
     "output_type": "stream",
     "text": [
      "\n",
      "--- Resultado 1 ---\n",
      "Última resposta: Olá! Eu sou o ChatGPT, um assistente virtual criado pela OpenAI. Estou aqui para ajudar a responder suas perguntas, fornecer informações e conversar sobre diversos assuntos. Como posso ajudar você hoje?\n",
      "\n",
      "--- Resultado 2 ---\n",
      "Última resposta: Minha função é ajudar você fornecendo informações, respondendo perguntas, auxiliando na resolução de problemas, oferecendo sugestões e até mesmo conversando sobre diversos temas. Posso ajudar em áreas como educação, tecnologia, cultura, entretenimento, entre outras. Se precisar de algo, é só pedir!\n",
      "\n",
      "--- Resultado 3 ---\n",
      "Última resposta: LangGraph é uma ferramenta ou framework que geralmente está relacionada ao processamento de linguagem natural (PLN) e à construção de grafos de conhecimento a partir de dados textuais. Embora existam diferentes projetos e iniciativas com nomes semelhantes, em geral, LangGraph refere-se a sistemas que ajudam a estruturar informações extraídas de textos em forma de grafos, facilitando a análise, consulta e inferência sobre os dados.\n",
      "\n",
      "Esses grafos conectam entidades (como pessoas, locais, eventos) e conceitos através de relações, permitindo que máquinas compreendam melhor o contexto e as conexões entre as informações.\n",
      "\n",
      "Se você estiver se referindo a um projeto específico chamado LangGraph, poderia me dar mais detalhes para que eu possa fornecer uma resposta mais precisa?\n"
     ]
    }
   ],
   "source": [
    "# Primeira interação\n",
    "estado = criar_estado_inicial(\"Olá! Quem é você?\")\n",
    "resultado = app.invoke(estado)\n",
    "\n",
    "print(\"\\n--- Resultado 1 ---\")\n",
    "print(resultado[\"resultado\"])\n",
    "\n",
    "# Nova interação com histórico preservado\n",
    "estado[\"mensagem\"] = \"Qual é a sua função?\"\n",
    "resultado = app.invoke(estado)\n",
    "\n",
    "print(\"\\n--- Resultado 2 ---\")\n",
    "print(resultado[\"resultado\"])\n",
    "\n",
    "# Mais uma interação\n",
    "estado[\"mensagem\"] = \"Me conte algo sobre o LangGraph.\"\n",
    "resultado = app.invoke(estado)\n",
    "\n",
    "print(\"\\n--- Resultado 3 ---\")\n",
    "print(resultado[\"resultado\"])\n"
   ]
  },
  {
   "cell_type": "code",
   "execution_count": null,
   "id": "8b972f58",
   "metadata": {},
   "outputs": [],
   "source": []
  },
  {
   "cell_type": "code",
   "execution_count": null,
   "id": "543ee914",
   "metadata": {},
   "outputs": [],
   "source": []
  },
  {
   "cell_type": "code",
   "execution_count": null,
   "id": "f3dcab7c",
   "metadata": {},
   "outputs": [],
   "source": []
  }
 ],
 "metadata": {
  "kernelspec": {
   "display_name": "env_gen_ai",
   "language": "python",
   "name": "python3"
  },
  "language_info": {
   "codemirror_mode": {
    "name": "ipython",
    "version": 3
   },
   "file_extension": ".py",
   "mimetype": "text/x-python",
   "name": "python",
   "nbconvert_exporter": "python",
   "pygments_lexer": "ipython3",
   "version": "3.10.14"
  }
 },
 "nbformat": 4,
 "nbformat_minor": 5
}
