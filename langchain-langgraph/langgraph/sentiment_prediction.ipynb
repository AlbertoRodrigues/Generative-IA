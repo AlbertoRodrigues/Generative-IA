{
 "cells": [
  {
   "cell_type": "code",
   "execution_count": 2,
   "metadata": {},
   "outputs": [],
   "source": [
    "from langgraph.graph import StateGraph, END\n",
    "from langchain.chat_models import ChatOpenAI\n",
    "from langchain.prompts import ChatPromptTemplate\n",
    "import os\n",
    "from typing import Optional\n",
    "from dotenv import load_dotenv\n",
    "from IPython.display import  Image, display"
   ]
  },
  {
   "cell_type": "code",
   "execution_count": 3,
   "metadata": {},
   "outputs": [],
   "source": [
    "load_dotenv()\n",
    "openai_api_key=os.getenv('OPENAI_API_KEY')"
   ]
  },
  {
   "cell_type": "code",
   "execution_count": 15,
   "metadata": {},
   "outputs": [],
   "source": [
    "# Modelo LLM (pode usar gpt-4o, gpt-3.5, etc)\n",
    "llm = ChatOpenAI(model=\"gpt-4.1-mini-2025-04-14\", openai_api_key=openai_api_key)\n",
    "\n",
    "class State(dict):\n",
    "    mensagem: str\n",
    "    sentimento: str\n",
    "    resultado: str\n",
    "# Estado compartilhado entre os nós\n",
    "def criar_estado_inicial(mensagem_usuario):\n",
    "    return {\"mensagem\": mensagem_usuario, \"sentimento\": None, \"resultado\": None}\n",
    "\n",
    "# Nó 1: Analisar o sentimento\n",
    "def analisar_sentimento(state):\n",
    "    prompt = ChatPromptTemplate.from_template(\n",
    "        \"Classifique o sentimento da seguinte mensagem como 'positivo' ou 'negativo': {mensagem}. Use apenas uma palavra.\"\n",
    "    )\n",
    "    resposta = llm.invoke(prompt.format_messages(mensagem=state[\"mensagem\"]))\n",
    "    state[\"sentimento\"] = resposta.content.lower()\n",
    "    return state\n",
    "\n",
    "# Nó 2: Tratar mensagem positiva\n",
    "def tratar_positivo(state):\n",
    "    state[\"resultado\"] = \"Resposta positiva detectada. Agradecendo ao usuário.\"\n",
    "    return state\n",
    "\n",
    "# Nó 3: Tratar mensagem negativa\n",
    "def tratar_negativo(state):\n",
    "    state[\"resultado\"] = \"Resposta negativa detectada. Escalando para atendimento humano.\"\n",
    "    return state\n",
    "\n",
    "# Lógica condicional: para onde ir após a análise\n",
    "def escolher_proximo(state):\n",
    "    if \"positivo\" in state[\"sentimento\"]:\n",
    "        return \"tratar_positivo\"\n",
    "    else:\n",
    "        return \"tratar_negativo\"\n"
   ]
  },
  {
   "cell_type": "code",
   "execution_count": 16,
   "metadata": {},
   "outputs": [],
   "source": [
    "# Construção do grafo\n",
    "graph = StateGraph(State)\n",
    "graph.add_node(\"analisar_sentimento\", analisar_sentimento)\n",
    "graph.add_node(\"tratar_positivo\", tratar_positivo)\n",
    "graph.add_node(\"tratar_negativo\", tratar_negativo)\n",
    "graph.set_entry_point(\"analisar_sentimento\")\n",
    "graph.add_conditional_edges(\"analisar_sentimento\", escolher_proximo)\n",
    "graph.add_edge(\"tratar_positivo\", END)\n",
    "graph.add_edge(\"tratar_negativo\", END)\n",
    "\n",
    "# Compilar e executar\n",
    "app = graph.compile()"
   ]
  },
  {
   "cell_type": "code",
   "execution_count": 17,
   "metadata": {},
   "outputs": [
    {
     "data": {
      "text/plain": [
       "{'mensagem': 'Estou muito satisfeito com o atendimento!',\n",
       " 'sentimento': 'positivo',\n",
       " 'resultado': 'Resposta positiva detectada. Agradecendo ao usuário.'}"
      ]
     },
     "execution_count": 17,
     "metadata": {},
     "output_type": "execute_result"
    }
   ],
   "source": [
    "# Exemplo de uso:\n",
    "estado_inicial = criar_estado_inicial(\"Estou muito satisfeito com o atendimento!\")\n",
    "app.invoke(estado_inicial)"
   ]
  },
  {
   "cell_type": "code",
   "execution_count": 18,
   "metadata": {},
   "outputs": [
    {
     "data": {
      "text/plain": [
       "{'mensagem': 'Que ruim',\n",
       " 'sentimento': 'negativo',\n",
       " 'resultado': 'Resposta negativa detectada. Escalando para atendimento humano.'}"
      ]
     },
     "execution_count": 18,
     "metadata": {},
     "output_type": "execute_result"
    }
   ],
   "source": [
    "# Exemplo de uso:\n",
    "estado_inicial = criar_estado_inicial(\"Que ruim\")\n",
    "app.invoke(estado_inicial)"
   ]
  },
  {
   "cell_type": "code",
   "execution_count": 19,
   "metadata": {},
   "outputs": [
    {
     "data": {
      "image/png": "[encoded data removed]",
      "text/plain": [
       "<IPython.core.display.Image object>"
      ]
     },
     "metadata": {},
     "output_type": "display_data"
    }
   ],
   "source": [
    "display(Image(app.get_graph().draw_mermaid_png()))"
   ]
  },
  {
   "cell_type": "code",
   "execution_count": null,
   "metadata": {},
   "outputs": [],
   "source": []
  },
  {
   "cell_type": "code",
   "execution_count": null,
   "metadata": {},
   "outputs": [],
   "source": []
  },
  {
   "cell_type": "code",
   "execution_count": null,
   "metadata": {},
   "outputs": [],
   "source": []
  },
  {
   "cell_type": "code",
   "execution_count": null,
   "metadata": {},
   "outputs": [],
   "source": []
  },
  {
   "cell_type": "code",
   "execution_count": null,
   "metadata": {},
   "outputs": [],
   "source": []
  },
  {
   "cell_type": "code",
   "execution_count": null,
   "metadata": {},
   "outputs": [],
   "source": []
  }
 ],
 "metadata": {
  "kernelspec": {
   "display_name": "env_gen_ai",
   "language": "python",
   "name": "python3"
  },
  "language_info": {
   "codemirror_mode": {
    "name": "ipython",
    "version": 3
   },
   "file_extension": ".py",
   "mimetype": "text/x-python",
   "name": "python",
   "nbconvert_exporter": "python",
   "pygments_lexer": "ipython3",
   "version": "3.10.14"
  }
 },
 "nbformat": 4,
 "nbformat_minor": 2
}
