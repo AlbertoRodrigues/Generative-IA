{
 "cells": [
  {
   "cell_type": "markdown",
   "id": "8734bbe9",
   "metadata": {},
   "source": [
    "📚 LangGraph — Principais Funcionalidades na Construção de Grafos\n",
    "Introdução\n",
    "\n",
    "O LangGraph organiza fluxos de trabalho como grafos orientados, usando três componentes principais:\n",
    "\n",
    "    Nodes (nós): funções que transformam o estado.\n",
    "\n",
    "    Edges (arestas): definem o caminho entre os nós.\n",
    "\n",
    "    State (estado): carrega e compartilha informações entre os nós.\n",
    "\n",
    "O objetivo é criar fluxos dinâmicos, escaláveis e interpretáveis, especialmente para arquiteturas de agentes, RAG e workflows complexos."
   ]
  },
  {
   "cell_type": "markdown",
   "id": "cf89318e",
   "metadata": {},
   "source": [
    "🛠️ Passos para Construir um Grafo\n",
    "1. Criar o Grafo com StateGraph"
   ]
  },
  {
   "cell_type": "code",
   "execution_count": null,
   "id": "68eecc31",
   "metadata": {},
   "outputs": [],
   "source": [
    "from langgraph.graph import StateGraph, END\n",
    "\n",
    "class State(dict):\n",
    "    mensagem: str\n",
    "    resultado: str\n",
    "\n",
    "graph = StateGraph(State)\n"
   ]
  },
  {
   "cell_type": "markdown",
   "id": "f6d10a12",
   "metadata": {},
   "source": [
    "- StateGraph(State): inicia o grafo definindo o esquema de estado.\n",
    "\n",
    "- O State descreve quais campos existirão no state ao longo da execução."
   ]
  },
  {
   "cell_type": "markdown",
   "id": "819cd8d6",
   "metadata": {},
   "source": [
    "2. Adicionar um Node (add_node)"
   ]
  },
  {
   "cell_type": "code",
   "execution_count": null,
   "id": "c2908783",
   "metadata": {},
   "outputs": [],
   "source": [
    "def gerar_resposta(state):\n",
    "    state[\"resultado\"] = f\"Resposta para: {state['mensagem']}\"\n",
    "    return state\n",
    "\n",
    "graph.add_node(\"gerar_resposta\", gerar_resposta)\n"
   ]
  },
  {
   "cell_type": "markdown",
   "id": "a19c9786",
   "metadata": {},
   "source": [
    "- Um Node é qualquer função que recebe o state, transforma ou enriquece ele, e retorna o novo state.\n",
    "- \"gerar_resposta\" é o nome interno do nó para referência posterior.\n",
    "\n",
    "3. Definir o Ponto de Entrada (set_entry_point)"
   ]
  },
  {
   "cell_type": "code",
   "execution_count": null,
   "id": "47638a37",
   "metadata": {},
   "outputs": [],
   "source": [
    "graph.set_entry_point(\"gerar_resposta\")"
   ]
  },
  {
   "cell_type": "markdown",
   "id": "de00afdb",
   "metadata": {},
   "source": [
    "- Define onde a execução do grafo começa.\n",
    "4. Criar Arestas Fixas (add_edge)"
   ]
  },
  {
   "cell_type": "code",
   "execution_count": null,
   "id": "ae3238e3",
   "metadata": {},
   "outputs": [],
   "source": [
    "graph.add_edge(\"gerar_resposta\", END)"
   ]
  },
  {
   "cell_type": "markdown",
   "id": "ff147c92",
   "metadata": {},
   "source": [
    "- Define uma conexão fixa entre dois nós.\n",
    "\n",
    "- END é o símbolo especial que encerra a execução do grafo.\n",
    "\n",
    "5. Criar Arestas Condicionais (add_conditional_edges)"
   ]
  },
  {
   "cell_type": "code",
   "execution_count": null,
   "id": "2c18277f",
   "metadata": {},
   "outputs": [],
   "source": [
    "def decidir_proximo(state):\n",
    "    if \"positivo\" in state[\"resultado\"]:\n",
    "        return \"encaminhar_sucesso\"\n",
    "    else:\n",
    "        return \"encaminhar_falha\"\n",
    "\n",
    "graph.add_conditional_edges(\"gerar_resposta\", decidir_proximo)\n"
   ]
  },
  {
   "cell_type": "markdown",
   "id": "f236f146",
   "metadata": {},
   "source": [
    "- Usa uma função para decidir dinamicamente o próximo nó com base no state.\n",
    "\n",
    "6. Compilar o Grafo (compile)"
   ]
  },
  {
   "cell_type": "code",
   "execution_count": null,
   "id": "9cd73217",
   "metadata": {},
   "outputs": [],
   "source": [
    "app = graph.compile()"
   ]
  },
  {
   "cell_type": "markdown",
   "id": "b96c0cf0",
   "metadata": {},
   "source": [
    "- Compila o grafo em um objeto Runnable.\n",
    "\n",
    "- Após compilação, o grafo pode ser invocado (invoke).\n",
    "\n",
    "7. Executar o Grafo (invoke)"
   ]
  },
  {
   "cell_type": "code",
   "execution_count": null,
   "id": "46e70a28",
   "metadata": {},
   "outputs": [],
   "source": [
    "estado_inicial = {\"mensagem\": \"Olá, tudo bem?\", \"resultado\": None}\n",
    "resultado = app.invoke(estado_inicial)\n",
    "\n",
    "print(resultado[\"resultado\"])\n"
   ]
  },
  {
   "cell_type": "markdown",
   "id": "817cabcb",
   "metadata": {},
   "source": [
    "- Executa o grafo a partir do state inicial.\n",
    "\n",
    "- O LangGraph gerencia automaticamente a movimentação entre nós e atualização do estado."
   ]
  },
  {
   "cell_type": "markdown",
   "id": "23470f58",
   "metadata": {},
   "source": []
  }
 ],
 "metadata": {
  "kernelspec": {
   "display_name": "venv-genai",
   "language": "python",
   "name": "python3"
  },
  "language_info": {
   "codemirror_mode": {
    "name": "ipython",
    "version": 3
   },
   "file_extension": ".py",
   "mimetype": "text/x-python",
   "name": "python",
   "nbconvert_exporter": "python",
   "pygments_lexer": "ipython3",
   "version": "3.12.10"
  }
 },
 "nbformat": 4,
 "nbformat_minor": 5
}
