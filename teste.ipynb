{
 "cells": [
  {
   "cell_type": "code",
   "execution_count": null,
   "id": "01c0ecdd",
   "metadata": {},
   "outputs": [
    {
     "name": "stderr",
     "output_type": "stream",
     "text": [
      "c:\\Users\\alber\\Desktop\\projetos\\Generative-IA\\venv-genai2\\Lib\\site-packages\\huggingface_hub\\file_download.py:143: UserWarning: `huggingface_hub` cache-system uses symlinks by default to efficiently store duplicated files but your machine does not support them in C:\\Users\\alber\\.cache\\huggingface\\hub\\models--Babelscape--wikineural-multilingual-ner. Caching files will still work but in a degraded version that might require more space on your disk. This warning can be disabled by setting the `HF_HUB_DISABLE_SYMLINKS_WARNING` environment variable. For more details, see https://huggingface.co/docs/huggingface_hub/how-to-cache#limitations.\n",
      "To support symlinks on Windows, you either need to activate Developer Mode or to run Python as an administrator. In order to activate developer mode, see this article: https://docs.microsoft.com/en-us/windows/apps/get-started/enable-your-device-for-development\n",
      "  warnings.warn(message)\n",
      "Device set to use cpu\n"
     ]
    },
    {
     "name": "stdout",
     "output_type": "stream",
     "text": [
      "[{'entity_group': 'PER', 'score': np.float32(0.96688986), 'word': 'Wolfgang', 'start': 11, 'end': 19}, {'entity_group': 'LOC', 'score': np.float32(0.9996282), 'word': 'Berlin', 'start': 34, 'end': 40}]\n"
     ]
    },
    {
     "name": "stderr",
     "output_type": "stream",
     "text": [
      "c:\\Users\\alber\\Desktop\\projetos\\Generative-IA\\venv-genai2\\Lib\\site-packages\\transformers\\pipelines\\token_classification.py:181: UserWarning: `grouped_entities` is deprecated and will be removed in version v5.0.0, defaulted to `aggregation_strategy=\"AggregationStrategy.SIMPLE\"` instead.\n",
      "  warnings.warn(\n"
     ]
    }
   ],
   "source": [
    "from transformers import AutoTokenizer, AutoModelForTokenClassification\n",
    "from transformers import pipeline"
   ]
  },
  {
   "cell_type": "code",
   "execution_count": null,
   "id": "377daa57",
   "metadata": {},
   "outputs": [],
   "source": [
    "tokenizer = AutoTokenizer.from_pretrained(\"Babelscape/wikineural-multilingual-ner\")\n",
    "model = AutoModelForTokenClassification.from_pretrained(\"Babelscape/wikineural-multilingual-ner\")\n",
    "\n",
    "nlp = pipeline(\"ner\", model=model, tokenizer=tokenizer, grouped_entities=True)"
   ]
  },
  {
   "cell_type": "code",
   "execution_count": 31,
   "id": "dfac0048",
   "metadata": {},
   "outputs": [
    {
     "name": "stdout",
     "output_type": "stream",
     "text": [
      "[{'entity_group': 'PER', 'score': np.float32(0.8182017), 'word': 'João', 'start': 11, 'end': 15}, {'entity_group': 'LOC', 'score': np.float32(0.9997442), 'word': 'São Paulo', 'start': 26, 'end': 35}]\n"
     ]
    }
   ],
   "source": [
    "example = \"Meu nome é João e moro em São Paulo. Meu email é joao.souza@gmail.com\"\n",
    "\n",
    "ner_results = nlp(example)\n",
    "print(ner_results)"
   ]
  },
  {
   "cell_type": "code",
   "execution_count": null,
   "id": "4c13173a",
   "metadata": {},
   "outputs": [],
   "source": [
    "from transformers import (\n",
    "    AutoModelForTokenClassification,\n",
    "    TrainingArguments,\n",
    "    Trainer,\n",
    "    DataCollatorForTokenClassification\n",
    ")\n",
    "\n",
    "model = AutoModelForTokenClassification.from_pretrained(\n",
    "    model_name, num_labels=num_entity_labels\n",
    ")\n",
    "args = TrainingArguments(\n",
    "    output_dir=\"./ner_finetuned\",\n",
    "    per_device_train_batch_size=16,\n",
    "    per_device_eval_batch_size=16,\n",
    "    learning_rate=5e-5,\n",
    "    num_train_epochs=3,\n",
    "    logging_steps=50,\n",
    "    evaluation_strategy=\"steps\",\n",
    "    eval_steps=200,\n",
    "    save_steps=200\n",
    ")\n",
    "data_collator = DataCollatorForTokenClassification(tokenizer)\n",
    "trainer = Trainer(\n",
    "    model=model,\n",
    "    args=args,\n",
    "    train_dataset=train_dataset,\n",
    "    eval_dataset=eval_dataset,\n",
    "    data_collator=data_collator,\n",
    "    tokenizer=tokenizer\n",
    ")\n",
    "trainer.train()\n"
   ]
  },
  {
   "cell_type": "code",
   "execution_count": null,
   "id": "2a1b4896",
   "metadata": {},
   "outputs": [],
   "source": []
  },
  {
   "cell_type": "code",
   "execution_count": 29,
   "id": "5ad0b1a8",
   "metadata": {},
   "outputs": [],
   "source": [
    "from sentence_transformers import SentenceTransformer\n",
    "import faiss\n",
    "import numpy as np\n",
    "from sklearn.metrics.pairwise import cosine_similarity\n",
    "from transformers import pipeline"
   ]
  },
  {
   "cell_type": "code",
   "execution_count": 12,
   "id": "9b1ed0c5",
   "metadata": {},
   "outputs": [],
   "source": [
    "questions = [\n",
    "    \"Qual foi a quantidade vendida de Leite Integral?\",\n",
    "    \"Qual o valor total de vendas de Arroz Tipo 1?\",\n",
    "    \"Quais produtos vencerão antes de 2025-12-01?\",\n",
    "    \"Qual fornecedor tem o maior total de vendas reais?\",\n",
    "    \"Quantos Pães de Forma foram vendidos até agora?\",\n",
    "    \"Liste os produtos do tipo 'Óleo' e suas quantidades vendidas.\",\n",
    "    \"Qual o preço unitário do Feijão Preto?\",\n",
    "    \"Quais produtos têm estoque vencido (data de vencimento anterior a hoje)?\",\n",
    "    \"Qual a soma das vendas reais para produtos do fornecedor 'Padaria Central'?\",\n",
    "    \"Quais produtos têm quantidade vendida maior que 100 unidades?\"\n",
    "]\n",
    "\n",
    "# 2) SQL correspondentes\n",
    "sql_queries = [\n",
    "    \"SELECT quantidade_vendida FROM produtos WHERE nome_produto = 'Leite Integral';\",\n",
    "    \"SELECT SUM(vendas_reais) FROM produtos WHERE nome_produto = 'Arroz Tipo 1';\",\n",
    "    \"SELECT nome_produto, data_vencimento FROM produtos WHERE data_vencimento < '2025-12-01';\",\n",
    "    \"SELECT fornecedor, SUM(vendas_reais) as total_vendas FROM produtos GROUP BY fornecedor ORDER BY total_vendas DESC LIMIT 1;\",\n",
    "    \"SELECT quantidade_vendida FROM produtos WHERE nome_produto = 'Pão de Forma';\",\n",
    "    \"SELECT nome_produto, quantidade_vendida FROM produtos WHERE tipo = 'Óleo';\",\n",
    "    \"SELECT preco_unitario FROM produtos WHERE nome_produto = 'Feijão Preto';\",\n",
    "    \"SELECT nome_produto, data_vencimento FROM produtos WHERE data_vencimento < CURRENT_DATE;\",\n",
    "    \"SELECT SUM(vendas_reais) FROM produtos WHERE fornecedor = 'Padaria Central';\",\n",
    "    \"SELECT nome_produto, quantidade_vendida FROM produtos WHERE quantidade_vendida > 100;\"\n",
    "]\n",
    "\n",
    "# 3) Mapeamento Pergunta -> SQL\n",
    "sql_mapping = dict(zip(questions, sql_queries))"
   ]
  },
  {
   "cell_type": "code",
   "execution_count": null,
   "id": "5d101b68",
   "metadata": {},
   "outputs": [
    {
     "name": "stderr",
     "output_type": "stream",
     "text": [
      "c:\\Users\\alber\\Desktop\\projetos\\Generative-IA\\venv-genai2\\Lib\\site-packages\\huggingface_hub\\file_download.py:143: UserWarning: `huggingface_hub` cache-system uses symlinks by default to efficiently store duplicated files but your machine does not support them in C:\\Users\\alber\\Desktop\\projetos\\Generative-IA\\models\\models--sentence-transformers--all-MiniLM-L6-v2. Caching files will still work but in a degraded version that might require more space on your disk. This warning can be disabled by setting the `HF_HUB_DISABLE_SYMLINKS_WARNING` environment variable. For more details, see https://huggingface.co/docs/huggingface_hub/how-to-cache#limitations.\n",
      "To support symlinks on Windows, you either need to activate Developer Mode or to run Python as an administrator. In order to activate developer mode, see this article: https://docs.microsoft.com/en-us/windows/apps/get-started/enable-your-device-for-development\n",
      "  warnings.warn(message)\n",
      "Xet Storage is enabled for this repo, but the 'hf_xet' package is not installed. Falling back to regular HTTP download. For better performance, install the package with: `pip install huggingface_hub[hf_xet]` or `pip install hf_xet`\n"
     ]
    }
   ],
   "source": [
    "# 3) Carregar o modelo multilíngue\n",
    "model = SentenceTransformer('sentence-transformers/paraphrase-multilingual-MiniLM-L12-v2')"
   ]
  },
  {
   "cell_type": "code",
   "execution_count": 4,
   "id": "90bf155b",
   "metadata": {},
   "outputs": [],
   "source": [
    "# 4) Gerar embeddings em float32\n",
    "embs = model.encode(questions, convert_to_numpy=True, show_progress_bar=False).astype('float32')"
   ]
  },
  {
   "cell_type": "code",
   "execution_count": 5,
   "id": "16117480",
   "metadata": {},
   "outputs": [],
   "source": [
    "# 5) Construir índice ANN (IVF Flat)\n",
    "d = embs.shape[1]          # dimensão dos embeddings\n",
    "n_clusters = 5             # ajuste conforme volume de dados\n",
    "quantizer = faiss.IndexFlatL2(d)\n",
    "index = faiss.IndexIVFFlat(quantizer, d, n_clusters, faiss.METRIC_L2)\n",
    "\n",
    "index.train(embs)          # treina o k-means\n",
    "index.add(embs)            # adiciona os embeddings\n",
    "index.nprobe = 2           # quantos clusters vasculhar"
   ]
  },
  {
   "cell_type": "code",
   "execution_count": 18,
   "id": "9c64aed9",
   "metadata": {},
   "outputs": [
    {
     "name": "stdout",
     "output_type": "stream",
     "text": [
      "Query: Quanto vendemos de Leite Integral até agora?\n",
      "\n",
      "Top 3 resultados (índice, pergunta, distância L2):\n",
      "1. (idx 0) Qual foi a quantidade vendida de Leite Integral? — distância 0.2380\n",
      "2. (idx 4) Quantos Pães de Forma foram vendidos até agora? — distância 0.9728\n",
      "3. (idx 6) Qual o preço unitário do Feijão Preto? — distância 1.2577\n"
     ]
    }
   ],
   "source": [
    "# 6) Exemplo de busca\n",
    "query = \"Quanto vendemos de Leite Integral até agora?\"\n",
    "q_emb = model.encode([query], convert_to_numpy=True).astype('float32')\n",
    "# Busca aproximada dos 3 vizinhos mais próximos\n",
    "D, I = index.search(q_emb, k=3)\n",
    "\n",
    "# 7) Exibir resultados\n",
    "print(\"Query:\", query)\n",
    "print(\"\\nTop 3 resultados (índice, pergunta, distância L2):\")\n",
    "for rank, idx in enumerate(I[0], start=1):\n",
    "    print(f\"{rank}. (idx {idx}) {questions[idx]} — distância {D[0][rank-1]:.4f}\")"
   ]
  },
  {
   "cell_type": "code",
   "execution_count": 10,
   "metadata": {},
   "outputs": [
    {
     "name": "stdout",
     "output_type": "stream",
     "text": [
      "Reranking (idx, score):\n",
      "  idx=0, pergunta='Qual foi a quantidade vendida de Leite Integral?' → score=0.8810\n",
      "  idx=4, pergunta='Quantos Pães de Forma foram vendidos até agora?' → score=0.5136\n",
      "  idx=6, pergunta='Qual o preço unitário do Feijão Preto?' → score=0.3712\n"
     ]
    }
   ],
   "source": [
    "# 1) Reextraia os embeddings float32 dos candidatos\n",
    "candidate_embs = embs[I[0]]  # shape (k, D)\n",
    "\n",
    "# 2) Calcule cosine similarity\n",
    "scores = cosine_similarity(q_emb, candidate_embs)[0]  # shape (k,)\n",
    "\n",
    "# 3) Reordene os candidatos por score\n",
    "order = np.argsort(-scores)\n",
    "top_k_ordered = [(I[0][i], scores[i]) for i in order]\n",
    "\n",
    "print(\"Reranking (idx, score):\")\n",
    "for idx, score in top_k_ordered:\n",
    "    print(f\"  idx={idx}, pergunta='{questions[idx]}' → score={score:.4f}\")"
   ]
  },
  {
   "cell_type": "code",
   "execution_count": 13,
   "id": "95e78fe6",
   "metadata": {},
   "outputs": [
    {
     "name": "stdout",
     "output_type": "stream",
     "text": [
      "Usando cache: SELECT quantidade_vendida FROM produtos WHERE nome_produto = 'Leite Integral';\n"
     ]
    }
   ],
   "source": [
    "tau = 0.85\n",
    "best_idx, best_score = top_k_ordered[0]\n",
    "\n",
    "if best_score >= tau:\n",
    "    # Hit no cache\n",
    "    cached_question = questions[best_idx]\n",
    "    cached_sql      = sql_mapping[cached_question]\n",
    "    print(\"Usando cache:\", cached_sql)\n",
    "else:\n",
    "    # Sem hit confiável\n",
    "    print(\"Nenhum candidato passa no limiar; seguir para o LLM.\")\n"
   ]
  },
  {
   "cell_type": "code",
   "execution_count": null,
   "id": "10be029d",
   "metadata": {},
   "outputs": [],
   "source": []
  },
  {
   "cell_type": "code",
   "execution_count": 22,
   "id": "41c594bd",
   "metadata": {},
   "outputs": [
    {
     "name": "stderr",
     "output_type": "stream",
     "text": [
      "Device set to use cpu\n"
     ]
    }
   ],
   "source": [
    "ner = pipeline(\"ner\", model=\"Davlan/bert-base-multilingual-cased-ner-hrl\",\n",
    "               aggregation_strategy=\"simple\")"
   ]
  },
  {
   "cell_type": "code",
   "execution_count": 27,
   "id": "a40c2800",
   "metadata": {},
   "outputs": [],
   "source": [
    "def parse_question(text):\n",
    "    # 1) Identifica intent\n",
    "    #intent = intent_classifier(text)[0]['label']\n",
    "    \n",
    "    # 2) Roda NER e monta dicionário de slots\n",
    "    entities = ner(text)\n",
    "    slots = {}\n",
    "    for ent in entities:\n",
    "        label = ent['entity_group']  # ex: 'ORG', 'DATE', 'MISC'\n",
    "        # mapeie labels para slots do seu template, por ex:\n",
    "        if label in ('ORG','MISC'):\n",
    "            slots['PRODUTO'] = ent['word']\n",
    "        elif label == 'DATE':\n",
    "            slots['DATA'] = ent['word']\n",
    "        # etc.\n",
    "    return slots\n"
   ]
  },
  {
   "cell_type": "code",
   "execution_count": 28,
   "id": "4122fd4a",
   "metadata": {},
   "outputs": [
    {
     "data": {
      "text/plain": [
       "{}"
      ]
     },
     "execution_count": 28,
     "metadata": {},
     "output_type": "execute_result"
    }
   ],
   "source": [
    "parse_question(query)"
   ]
  },
  {
   "cell_type": "code",
   "execution_count": null,
   "id": "b385d65d",
   "metadata": {},
   "outputs": [],
   "source": []
  },
  {
   "cell_type": "code",
   "execution_count": null,
   "id": "9ac34b81",
   "metadata": {},
   "outputs": [],
   "source": []
  },
  {
   "cell_type": "code",
   "execution_count": null,
   "id": "04d52795",
   "metadata": {},
   "outputs": [],
   "source": []
  },
  {
   "cell_type": "code",
   "execution_count": null,
   "id": "26be4b7b",
   "metadata": {},
   "outputs": [],
   "source": []
  }
 ],
 "metadata": {
  "kernelspec": {
   "display_name": "venv-genai2",
   "language": "python",
   "name": "python3"
  },
  "language_info": {
   "codemirror_mode": {
    "name": "ipython",
    "version": 3
   },
   "file_extension": ".py",
   "mimetype": "text/x-python",
   "name": "python",
   "nbconvert_exporter": "python",
   "pygments_lexer": "ipython3",
   "version": "3.12.10"
  }
 },
 "nbformat": 4,
 "nbformat_minor": 5
}
