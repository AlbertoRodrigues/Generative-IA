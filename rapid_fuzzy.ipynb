{
 "cells": [
  {
   "cell_type": "code",
   "execution_count": 2,
   "id": "0be81271",
   "metadata": {},
   "outputs": [],
   "source": [
    "from rapidfuzz import fuzz"
   ]
  },
  {
   "cell_type": "code",
   "execution_count": 3,
   "id": "3cf66518",
   "metadata": {},
   "outputs": [
    {
     "name": "stdout",
     "output_type": "stream",
     "text": [
      "100.0\n"
     ]
    }
   ],
   "source": [
    "a = \"investimentos\"\n",
    "b = \"Quais são os melhores investimentos para 2025?\"\n",
    "\n",
    "score = fuzz.partial_ratio(a, b)\n",
    "print(score)  # 100 (porque \"investimentos\" está inteiro em b)"
   ]
  },
  {
   "cell_type": "code",
   "execution_count": 4,
   "id": "0e7b490b",
   "metadata": {},
   "outputs": [
    {
     "name": "stdout",
     "output_type": "stream",
     "text": [
      "100.0\n"
     ]
    }
   ],
   "source": [
    "a = \"investimento\"\n",
    "b = \"Quais são os melhores investimentos para 2025?\"\n",
    "\n",
    "score = fuzz.partial_ratio(a, b)\n",
    "print(score)  # <100 (deve dar uns 95~96, por conta do 's' extra)\n"
   ]
  },
  {
   "cell_type": "code",
   "execution_count": 5,
   "id": "a48de16c",
   "metadata": {},
   "outputs": [
    {
     "name": "stdout",
     "output_type": "stream",
     "text": [
      "78.26086956521739\n"
     ]
    }
   ],
   "source": [
    "a = \"conta corrente\"\n",
    "b = \"Quero abrir uma conta digital, mas não é corrente\"\n",
    "\n",
    "score = fuzz.partial_ratio(a, b)\n",
    "print(score)  # Score menor (~73-80), pois \"conta\" e \"corrente\" não aparecem juntos.\n"
   ]
  },
  {
   "cell_type": "code",
   "execution_count": 6,
   "id": "a61e428a",
   "metadata": {},
   "outputs": [
    {
     "name": "stdout",
     "output_type": "stream",
     "text": [
      "92.3076923076923\n"
     ]
    }
   ],
   "source": [
    "a = \"investimentos\"\n",
    "b = \"Quais são os melhores investimetnos para 2025?\"\n",
    "\n",
    "score = fuzz.partial_ratio(a, b)\n",
    "print(score)  # Score ~96 (Levenshtein identifica o typo)\n"
   ]
  },
  {
   "cell_type": "code",
   "execution_count": 7,
   "id": "261db70a",
   "metadata": {},
   "outputs": [
    {
     "name": "stdout",
     "output_type": "stream",
     "text": [
      "\n",
      "--- Substring exata ---\n",
      "A: investimentos\n",
      "B: Quais são os melhores investimentos para 2025?\n",
      "ratio           : 44.067796610169495\n",
      "partial_ratio   : 100.0\n",
      "token_sort_ratio: 44.067796610169495\n",
      "token_set_ratio : 100.0\n",
      "WRatio          : 90.0\n",
      "\n",
      "--- Query com typo ---\n",
      "A: investimento\n",
      "B: Quais são os melhores investimentos para 2025?\n",
      "ratio           : 41.379310344827594\n",
      "partial_ratio   : 100.0\n",
      "token_sort_ratio: 41.379310344827594\n",
      "token_set_ratio : 41.37931034482759\n",
      "WRatio          : 90.0\n",
      "\n",
      "--- Substring fragmentada ---\n",
      "A: conta corrente\n",
      "B: Quero abrir uma conta digital, mas não é corrente\n",
      "ratio           : 44.44444444444444\n",
      "partial_ratio   : 78.26086956521739\n",
      "token_sort_ratio: 44.44444444444444\n",
      "token_set_ratio : 100.0\n",
      "WRatio          : 85.5\n",
      "\n",
      "--- Query contida com stopwords ---\n",
      "A: abrir conta\n",
      "B: Como faço para abrir uma conta no Itaú?\n",
      "ratio           : 43.99999999999999\n",
      "partial_ratio   : 63.63636363636363\n",
      "token_sort_ratio: 43.99999999999999\n",
      "token_set_ratio : 100.0\n",
      "WRatio          : 85.5\n",
      "\n",
      "--- Query menor do que qualquer pedaço da string ---\n",
      "A: XPTO\n",
      "B: Nenhuma palavra aqui é XPTO\n",
      "ratio           : 25.806451612903224\n",
      "partial_ratio   : 100.0\n",
      "token_sort_ratio: 25.806451612903224\n",
      "token_set_ratio : 100.0\n",
      "WRatio          : 90.0\n",
      "\n",
      "--- Typos na string maior ---\n",
      "A: investimentos\n",
      "B: Quais são os melhores investimetnos para 2025?\n",
      "ratio           : 40.67796610169492\n",
      "partial_ratio   : 92.3076923076923\n",
      "token_sort_ratio: 40.67796610169492\n",
      "token_set_ratio : 40.67796610169491\n",
      "WRatio          : 83.07692307692308\n"
     ]
    }
   ],
   "source": [
    "from rapidfuzz import fuzz\n",
    "\n",
    "exemplos = [\n",
    "    # (a, b, descrição)\n",
    "    (\"investimentos\", \"Quais são os melhores investimentos para 2025?\", \"Substring exata\"),\n",
    "    (\"investimento\", \"Quais são os melhores investimentos para 2025?\", \"Query com typo\"),\n",
    "    (\"conta corrente\", \"Quero abrir uma conta digital, mas não é corrente\", \"Substring fragmentada\"),\n",
    "    (\"abrir conta\", \"Como faço para abrir uma conta no Itaú?\", \"Query contida com stopwords\"),\n",
    "    (\"XPTO\", \"Nenhuma palavra aqui é XPTO\", \"Query menor do que qualquer pedaço da string\"),\n",
    "    (\"investimentos\", \"Quais são os melhores investimetnos para 2025?\", \"Typos na string maior\"),\n",
    "]\n",
    "\n",
    "scorers = [\n",
    "    (\"ratio\", fuzz.ratio),\n",
    "    (\"partial_ratio\", fuzz.partial_ratio),\n",
    "    (\"token_sort_ratio\", fuzz.token_sort_ratio),\n",
    "    (\"token_set_ratio\", fuzz.token_set_ratio),\n",
    "    (\"WRatio\", fuzz.WRatio),\n",
    "]\n",
    "\n",
    "for a, b, desc in exemplos:\n",
    "    print(f\"\\n--- {desc} ---\")\n",
    "    print(f\"A: {a}\")\n",
    "    print(f\"B: {b}\")\n",
    "    for name, scorer in scorers:\n",
    "        score = scorer(a, b)\n",
    "        print(f\"{name:<16}: {score}\")\n"
   ]
  },
  {
   "cell_type": "code",
   "execution_count": 8,
   "id": "1e4c97c6",
   "metadata": {},
   "outputs": [
    {
     "name": "stdout",
     "output_type": "stream",
     "text": [
      "100.0 | Quero abrir conta corrente conjunta\n",
      " 97.4 | Abrir conta corrente\n",
      " 86.5 | Quero fechar minha conta corrente.\n",
      " 65.0 | Como abrir uma conta no Itaú?\n",
      " 58.1 | Não quero mais a conta\n"
     ]
    }
   ],
   "source": [
    "from rapidfuzz import process, fuzz\n",
    "\n",
    "# Lista de strings do seu \"banco\"\n",
    "lista = [\n",
    "    \"Como abrir uma conta no Itaú?\",\n",
    "    \"Quais são os melhores investimentos para 2025?\",\n",
    "    \"Quero fechar minha conta corrente.\",\n",
    "    \"Como investir em CDB do Itaú?\",\n",
    "    \"Preciso de ajuda para recuperar minha senha\",\n",
    "    \"Quero abrir conta corrente conjunta\",\n",
    "    \"Qual o rendimento do CDB?\",\n",
    "    \"Quais taxas existem para conta universitária?\",\n",
    "    \"Abrir conta corrente\",\n",
    "    \"Não quero mais a conta\"\n",
    "]\n",
    "\n",
    "# String de consulta (query)\n",
    "query = \"abrir conta corrente\"\n",
    "\n",
    "# Usando process.extract para buscar o top-5 mais similares via partial_ratio\n",
    "top_k = 5\n",
    "resultados = process.extract(\n",
    "    query,           # sua query\n",
    "    lista,           # lista de comparação\n",
    "    scorer=fuzz.partial_ratio,\n",
    "    limit=top_k      # quantos resultados quer ver\n",
    ")\n",
    "\n",
    "# Printando os resultados\n",
    "for string, score, idx in resultados:\n",
    "    print(f\"{score:>5.1f} | {string}\")\n",
    "\n"
   ]
  },
  {
   "cell_type": "code",
   "execution_count": 9,
   "id": "c002dc7f",
   "metadata": {},
   "outputs": [
    {
     "name": "stdout",
     "output_type": "stream",
     "text": [
      "100.0 | Quero abrir conta corrente conjunta\n",
      " 97.4 | Abrir conta corrente\n",
      " 86.5 | Quero fechar minha conta corrente.\n"
     ]
    }
   ],
   "source": [
    "from rapidfuzz import process, fuzz\n",
    "\n",
    "lista = [\n",
    "    \"Como abrir uma conta no Itaú?\",\n",
    "    \"Quais são os melhores investimentos para 2025?\",\n",
    "    \"Quero fechar minha conta corrente.\",\n",
    "    \"Como investir em CDB do Itaú?\",\n",
    "    \"Preciso de ajuda para recuperar minha senha\",\n",
    "    \"Quero abrir conta corrente conjunta\",\n",
    "    \"Qual o rendimento do CDB?\",\n",
    "    \"Quais taxas existem para conta universitária?\",\n",
    "    \"Abrir conta corrente\",\n",
    "    \"Não quero mais a conta\"\n",
    "]\n",
    "\n",
    "query = \"abrir conta corrente\"\n",
    "limiar = 85  # threshold mínimo aceitável\n",
    "\n",
    "# Extrai todos os resultados (limit=None) e filtra por score >= limiar\n",
    "todos_resultados = process.extract(\n",
    "    query,\n",
    "    lista,\n",
    "    scorer=fuzz.partial_ratio,\n",
    "    limit=None\n",
    ")\n",
    "\n",
    "resultados_filtrados = [(s, score, idx) for s, score, idx in todos_resultados if score >= limiar]\n",
    "\n",
    "for string, score, idx in resultados_filtrados:\n",
    "    print(f\"{score:>5.1f} | {string}\")\n"
   ]
  },
  {
   "cell_type": "code",
   "execution_count": null,
   "id": "de60c45c",
   "metadata": {},
   "outputs": [],
   "source": []
  }
 ],
 "metadata": {
  "kernelspec": {
   "display_name": "venv-genai",
   "language": "python",
   "name": "python3"
  },
  "language_info": {
   "codemirror_mode": {
    "name": "ipython",
    "version": 3
   },
   "file_extension": ".py",
   "mimetype": "text/x-python",
   "name": "python",
   "nbconvert_exporter": "python",
   "pygments_lexer": "ipython3",
   "version": "3.12.10"
  }
 },
 "nbformat": 4,
 "nbformat_minor": 5
}
