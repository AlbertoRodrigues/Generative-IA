{
 "cells": [
  {
   "cell_type": "code",
   "execution_count": 1,
   "metadata": {},
   "outputs": [],
   "source": [
    "from openai import OpenAI\n",
    "from dotenv import load_dotenv\n",
    "import os"
   ]
  },
  {
   "cell_type": "code",
   "execution_count": 2,
   "metadata": {},
   "outputs": [],
   "source": [
    "load_dotenv()\n",
    "\n",
    "api_key = os.getenv('OPENAI_API_KEY')\n",
    "client = OpenAI(api_key = api_key)"
   ]
  },
  {
   "cell_type": "code",
   "execution_count": 4,
   "metadata": {},
   "outputs": [],
   "source": [
    "response = client.chat.completions.create(\n",
    "  model=\"o1-mini-2024-09-12\",\n",
    "  #reasoning_effort=\"low\",\n",
    "  messages=[\n",
    "    {\"role\": \"user\", \"content\": \"\"\"\n",
    "Teste\n",
    "\"\"\"}\n",
    "  ],\n",
    "#temperature=0,\n",
    ")"
   ]
  },
  {
   "cell_type": "code",
   "execution_count": 5,
   "metadata": {},
   "outputs": [
    {
     "name": "stdout",
     "output_type": "stream",
     "text": [
      "Olá! Parece que você está fazendo um teste. Como posso ajudar hoje?\n"
     ]
    }
   ],
   "source": [
    "print(response.choices[0].message.content)"
   ]
  },
  {
   "cell_type": "markdown",
   "metadata": {},
   "source": [
    "#### Agente que melhora Prompts"
   ]
  },
  {
   "cell_type": "code",
   "execution_count": 5,
   "metadata": {},
   "outputs": [],
   "source": [
    "response = client.chat.completions.create(\n",
    "  model=\"gpt-4o-mini-2024-07-18\",\n",
    "  messages=[\n",
    "    {\"role\": \"system\", \"content\": \"Você é um Escritor de Prompts especialista para Modelos de Linguagem de Grande Escala.\"},\n",
    "    {\"role\": \"user\", \"content\": f\"\"\"\n",
    "Seu objetivo é melhorar o prompt fornecido abaixo para {tarefa}:\n",
    "\n",
    "Prompt: {lazy_prompt}\n",
    "\n",
    "Aqui estão várias dicas para escrever ótimos prompts:\n",
    "\n",
    "Comece o prompt afirmando que ele é especializado no assunto.\n",
    "\n",
    "Coloque as instruções no início do prompt e use ### ou para separar a instrução e o contexto.\n",
    "\n",
    "Seja específico, descritivo e o mais detalhado possível sobre o contexto desejado, resultado, comprimento, formato, estilo, etc.\n",
    "\n",
    "Aqui está um exemplo de um ótimo prompt:\n",
    "\n",
    "Como um criador de conteúdo no YouTube, desenvolva um roteiro envolvente que gire em torno do tema \"Explorando Ruínas Antigas.\"\n",
    "\n",
    "Seu roteiro deve abranger descobertas emocionantes, insights históricos e um senso de aventura.\n",
    "\n",
    "Inclua uma mistura de narração em tela, visuais envolventes e possivelmente interações com co-apresentadores ou especialistas.\n",
    "\n",
    "O roteiro deve resultar em um vídeo de aproximadamente 10-15 minutos, proporcionando aos espectadores uma jornada cativante pelos segredos do passado.\n",
    "\n",
    "Exemplo:\n",
    "\n",
    "\"Bem-vindos de volta, entusiastas da história, ao nosso canal! Hoje, embarcamos em uma expedição emocionante...\"\n",
    "\n",
    "Agora, melhore o prompt.\n",
    "\n",
    "PROMPT MELHORADO:\n",
    "\"\"\"}\n",
    "  ]\n",
    ")"
   ]
  },
  {
   "cell_type": "code",
   "execution_count": 6,
   "metadata": {},
   "outputs": [
    {
     "name": "stdout",
     "output_type": "stream",
     "text": [
      "Como um especialista em elaboração de currículos, crie um currículo profissional em formato PDF que tenha, no máximo, 2 páginas. \n",
      "\n",
      "### Instruções:\n",
      "1. Traduza e adapte as informações fornecidas para o português, mantendo uma linguagem formal, porém simples e acessível.\n",
      "2. Inclua meu número de contato: 85 99634-5795.\n",
      "3. Destaque minhas experiências técnicas, que incluem: Desenvolvimento e Deploy de Modelos de Machine Learning e Aplicações de IA Generativa, com foco em chatbots conversacionais.\n",
      "4. Inclua somente as experiências relevantes das seguintes instituições: Itaú Unibanco, Turing USP e Gauss UFC.\n",
      "\n",
      "### Contexto:\n",
      "O currículo deve apresentar uma estrutura clara e organizada, facilitando a leitura e a compreensão. Utilize uma fonte profissional e mantenha um design limpo, priorizando a experiência e as habilidades técnicas mencionadas. \n",
      "\n",
      "Garanta que o resultado final seja visualmente atraente e evidencie minhas qualificações de maneira eficaz.\n"
     ]
    }
   ],
   "source": [
    "print(response.choices[0].message.content)"
   ]
  },
  {
   "cell_type": "code",
   "execution_count": null,
   "metadata": {},
   "outputs": [],
   "source": []
  }
 ],
 "metadata": {
  "kernelspec": {
   "display_name": "env_gen_ai",
   "language": "python",
   "name": "python3"
  },
  "language_info": {
   "codemirror_mode": {
    "name": "ipython",
    "version": 3
   },
   "file_extension": ".py",
   "mimetype": "text/x-python",
   "name": "python",
   "nbconvert_exporter": "python",
   "pygments_lexer": "ipython3",
   "version": "3.10.14"
  }
 },
 "nbformat": 4,
 "nbformat_minor": 2
}
