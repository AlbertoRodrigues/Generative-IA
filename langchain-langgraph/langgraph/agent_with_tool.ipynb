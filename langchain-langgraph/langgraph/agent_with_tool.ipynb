{
 "cells": [
  {
   "cell_type": "code",
   "execution_count": 2,
   "id": "93ff77e1",
   "metadata": {},
   "outputs": [],
   "source": [
    "from langgraph.graph import StateGraph, END, START\n",
    "from langchain_openai import ChatOpenAI\n",
    "import os\n",
    "from typing import Optional\n",
    "from dotenv import load_dotenv\n",
    "from IPython.display import  Image, display\n",
    "from typing import Dict, Any\n",
    "from langchain.tools import StructuredTool\n",
    "from langgraph.prebuilt import ToolNode, create_react_agent\n",
    "from langchain_core.messages import AIMessage, ToolMessage"
   ]
  },
  {
   "cell_type": "code",
   "execution_count": 14,
   "id": "8fdf4095",
   "metadata": {},
   "outputs": [],
   "source": [
    "load_dotenv()\n",
    "openai_api_key=os.getenv('OPENAI_API_KEY')\n",
    "llm = ChatOpenAI(model=\"gpt-4.1-mini-2025-04-14\", temperature=0)"
   ]
  },
  {
   "cell_type": "code",
   "execution_count": 4,
   "id": "99effadc",
   "metadata": {},
   "outputs": [],
   "source": [
    "def get_investment_assets() -> Dict[str, Any]:\n",
    "    assets = [\n",
    "        {\n",
    "            \"nome\": \"Tesouro Selic 2029\",\n",
    "            \"descricao\": \"Título público pós-fixado atrelado à taxa Selic. Alta liquidez, baixo risco, indicado para reserva de emergência.\",\n",
    "            \"rentabilidade\": \"Selic + 0.10% ao ano\",\n",
    "            \"isento_ir\": False,\n",
    "            \"liquidez\": \"Diária\",\n",
    "            \"prazo\": \"Vencimento em 2029\",\n",
    "            \"risco\": \"Baixíssimo (soberano)\"\n",
    "        },\n",
    "        {\n",
    "            \"nome\": \"CDB Banco Itaúvest\",\n",
    "            \"descricao\": \"Certificado de Depósito Bancário emitido por banco médio. Protegido pelo FGC até R$ 250 mil por CPF e instituição.\",\n",
    "            \"rentabilidade\": \"120% do CDI\",\n",
    "            \"isento_ir\": False,\n",
    "            \"liquidez\": \"Após 6 meses\",\n",
    "            \"prazo\": \"3 anos\",\n",
    "            \"risco\": \"Médio (dependente do emissor)\"\n",
    "        },\n",
    "        {\n",
    "            \"nome\": \"FII XPML11\",\n",
    "            \"descricao\": \"Fundo Imobiliário que investe em lajes corporativas de alto padrão em São Paulo.\",\n",
    "            \"rentabilidade\": \"Dividend Yield médio de 8% a.a.\",\n",
    "            \"isento_ir\": True,\n",
    "            \"liquidez\": \"Negociação em bolsa (B3)\",\n",
    "            \"prazo\": \"Indeterminado\",\n",
    "            \"risco\": \"Médio (vacância, preços de imóveis)\"\n",
    "        }\n",
    "    ]\n",
    "    return {\"ativos\": assets}\n",
    "\n",
    "# Criando a Tool\n",
    "investment_tool = StructuredTool.from_function(\n",
    "    func=get_investment_assets,\n",
    "    name=\"investment_assets_tool\",\n",
    "    description=(\n",
    "        \"\"\"Retorna informações detalhadas sobre três ativos de investimento específicos: Tesouro Selic 2029, FII XPML11 e \n",
    "        CDB Banco Itaúvest. Os dados de cada ativo inclui descrição, rentabilidade, isenção de IR, liquidez, prazo e risco.\"\"\"\n",
    "    )\n",
    ")\n"
   ]
  },
  {
   "cell_type": "code",
   "execution_count": 5,
   "id": "20802cf3",
   "metadata": {},
   "outputs": [],
   "source": [
    "investment_prompt = \"\"\"\n",
    "Você é um agente financeiro especializado em responder perguntas sobre investimentos.\n",
    "\n",
    "Instruções:\n",
    "1. Se a pergunta envolver **ativos de investimento específicos** (Tesouro Selic, CDB, FII), utilize a tool `investment_assets_tool`.\n",
    "2. Se a pergunta envolver **conceitos de investimento** (como Taxa Selic, IPCA ou Bolsa de Valores do Brasil), utilize apenas as informações \n",
    "abaixo nos conceitos de investimentos.\n",
    "3. Caso a pergunta não se enquadre em nenhum dos dois casos acima, utilize o conhecimento base do LLM.\n",
    "\n",
    "Conceitos de Investimento:\n",
    "\n",
    "- **Taxa Selic**:  \n",
    "  É a taxa básica de juros da economia brasileira, definida pelo Banco Central. Serve como referência para empréstimos, financiamentos e aplicações de renda fixa. Quando a Selic sobe, o crédito fica mais caro e a rentabilidade de títulos pós-fixados aumenta.\n",
    "\n",
    "- **IPCA (Índice Nacional de Preços ao Consumidor Amplo)**:  \n",
    "  É o principal índice de inflação do Brasil, calculado pelo IBGE. Mede a variação de preços de bens e serviços consumidos pelas famílias. Serve como referência para reajustes de contratos, metas do governo e indexação de títulos públicos como o Tesouro IPCA+.\n",
    "\n",
    "- **Bolsa de Valores do Brasil (B3)**:  \n",
    "  É o mercado organizado onde são negociadas ações, fundos imobiliários e derivativos. Permite que empresas captem recursos e investidores se tornem sócios. O principal índice é o Ibovespa, que reflete o desempenho médio das ações mais negociadas.\n",
    "\"\"\"\n"
   ]
  },
  {
   "cell_type": "code",
   "execution_count": 6,
   "id": "813e7b0c",
   "metadata": {},
   "outputs": [],
   "source": [
    "# Define o agente com tool\n",
    "agent = create_react_agent(\n",
    "    model=llm,\n",
    "    tools=[investment_tool],\n",
    "    name=\"assistant\",\n",
    "    prompt=investment_prompt\n",
    ")"
   ]
  },
  {
   "cell_type": "code",
   "execution_count": 11,
   "id": "d3120efe",
   "metadata": {},
   "outputs": [],
   "source": [
    "question = \"O que é xpml11?\"\n",
    "msgs = {\"messages\": [{\"role\": \"user\", \"content\": question}]}"
   ]
  },
  {
   "cell_type": "code",
   "execution_count": null,
   "id": "82abecc6",
   "metadata": {},
   "outputs": [
    {
     "name": "stdout",
     "output_type": "stream",
     "text": [
      "{'messages': [HumanMessage(content='O que é xpml11?', additional_kwargs={}, response_metadata={}, id='1d7ef7df-0b08-408f-833a-38c0f6858c10'), AIMessage(content='', additional_kwargs={'tool_calls': [{'id': 'call_SDeNecOJmd8Kd6hPJiI4O78p', 'function': {'arguments': '{}', 'name': 'investment_assets_tool'}, 'type': 'function'}], 'refusal': None}, response_metadata={'token_usage': {'completion_tokens': 13, 'prompt_tokens': 424, 'total_tokens': 437, 'completion_tokens_details': {'accepted_prediction_tokens': 0, 'audio_tokens': 0, 'reasoning_tokens': 0, 'rejected_prediction_tokens': 0}, 'prompt_tokens_details': {'audio_tokens': 0, 'cached_tokens': 0}}, 'model_name': 'gpt-4.1-2025-04-14', 'system_fingerprint': 'fp_3502f4eb73', 'id': 'chatcmpl-CKU2OTVRFuLlO6uIvhhzuCTePprlc', 'service_tier': 'default', 'finish_reason': 'tool_calls', 'logprobs': None}, name='assistant', id='run--2aaaaaac-fb80-495f-9493-0e1048eed1c9-0', tool_calls=[{'name': 'investment_assets_tool', 'args': {}, 'id': 'call_SDeNecOJmd8Kd6hPJiI4O78p', 'type': 'tool_call'}], usage_metadata={'input_tokens': 424, 'output_tokens': 13, 'total_tokens': 437, 'input_token_details': {'audio': 0, 'cache_read': 0}, 'output_token_details': {'audio': 0, 'reasoning': 0}}), ToolMessage(content='{\"ativos\": [{\"nome\": \"Tesouro Selic 2029\", \"descricao\": \"Título público pós-fixado atrelado à taxa Selic. Alta liquidez, baixo risco, indicado para reserva de emergência.\", \"rentabilidade\": \"Selic + 0.10% ao ano\", \"isento_ir\": false, \"liquidez\": \"Diária\", \"prazo\": \"Vencimento em 2029\", \"risco\": \"Baixíssimo (soberano)\"}, {\"nome\": \"CDB Banco Itaúvest\", \"descricao\": \"Certificado de Depósito Bancário emitido por banco médio. Protegido pelo FGC até R$ 250 mil por CPF e instituição.\", \"rentabilidade\": \"120% do CDI\", \"isento_ir\": false, \"liquidez\": \"Após 6 meses\", \"prazo\": \"3 anos\", \"risco\": \"Médio (dependente do emissor)\"}, {\"nome\": \"FII XPML11\", \"descricao\": \"Fundo Imobiliário que investe em lajes corporativas de alto padrão em São Paulo.\", \"rentabilidade\": \"Dividend Yield médio de 8% a.a.\", \"isento_ir\": true, \"liquidez\": \"Negociação em bolsa (B3)\", \"prazo\": \"Indeterminado\", \"risco\": \"Médio (vacância, preços de imóveis)\"}]}', name='investment_assets_tool', id='6c7425f5-2bd7-4859-b494-f6a6b4e586f6', tool_call_id='call_SDeNecOJmd8Kd6hPJiI4O78p'), AIMessage(content='XPML11 é um Fundo de Investimento Imobiliário (FII) negociado na Bolsa de Valores do Brasil (B3). Ele investe principalmente em lajes corporativas de alto padrão localizadas em São Paulo.\\n\\nPrincipais características do XPML11:\\n- Rentabilidade: Dividend Yield médio de 8% ao ano.\\n- Isenção de IR: Os rendimentos distribuídos são isentos de Imposto de Renda para pessoas físicas.\\n- Liquidez: Pode ser comprado e vendido diariamente na bolsa.\\n- Prazo: Indeterminado (não tem data de vencimento).\\n- Risco: Médio, relacionado à vacância dos imóveis e à variação dos preços no mercado imobiliário.\\n\\nÉ uma opção para quem busca renda passiva mensal e diversificação no setor imobiliário.', additional_kwargs={'refusal': None}, response_metadata={'token_usage': {'completion_tokens': 162, 'prompt_tokens': 745, 'total_tokens': 907, 'completion_tokens_details': {'accepted_prediction_tokens': 0, 'audio_tokens': 0, 'reasoning_tokens': 0, 'rejected_prediction_tokens': 0}, 'prompt_tokens_details': {'audio_tokens': 0, 'cached_tokens': 0}}, 'model_name': 'gpt-4.1-2025-04-14', 'system_fingerprint': 'fp_3502f4eb73', 'id': 'chatcmpl-CKU2PFWdS0mMfGoelGRGs5gSoxLo3', 'service_tier': 'default', 'finish_reason': 'stop', 'logprobs': None}, name='assistant', id='run--c97d9361-d86a-45d5-9c7b-4bb4693d3916-0', usage_metadata={'input_tokens': 745, 'output_tokens': 162, 'total_tokens': 907, 'input_token_details': {'audio': 0, 'cache_read': 0}, 'output_token_details': {'audio': 0, 'reasoning': 0}})]}\n"
     ]
    }
   ],
   "source": [
    "response = agent.invoke(msgs)\n",
    "print(response)"
   ]
  },
  {
   "cell_type": "code",
   "execution_count": null,
   "id": "78712efe",
   "metadata": {},
   "outputs": [
    {
     "name": "stdout",
     "output_type": "stream",
     "text": [
      "🔧 Retorno da tool: {\"ativos\": [{\"nome\": \"Tesouro Selic 2029\", \"descricao\": \"Título público pós-fixado atrelado à taxa Selic. Alta liquidez, baixo risco, indicado para reserva de emergência.\", \"rentabilidade\": \"Selic + 0.10% ao ano\", \"isento_ir\": false, \"liquidez\": \"Diária\", \"prazo\": \"Vencimento em 2029\", \"risco\": \"Baixíssimo (soberano)\"}, {\"nome\": \"CDB Banco Itaúvest\", \"descricao\": \"Certificado de Depósito Bancário emitido por banco médio. Protegido pelo FGC até R$ 250 mil por CPF e instituição.\", \"rentabilidade\": \"120% do CDI\", \"isento_ir\": false, \"liquidez\": \"Após 6 meses\", \"prazo\": \"3 anos\", \"risco\": \"Médio (dependente do emissor)\"}, {\"nome\": \"FII XPML11\", \"descricao\": \"Fundo Imobiliário que investe em lajes corporativas de alto padrão em São Paulo.\", \"rentabilidade\": \"Dividend Yield médio de 8% a.a.\", \"isento_ir\": true, \"liquidez\": \"Negociação em bolsa (B3)\", \"prazo\": \"Indeterminado\", \"risco\": \"Médio (vacância, preços de imóveis)\"}]}\n",
      "🧠 Resposta do agente: XPML11 é um Fundo de Investimento Imobiliário (FII) negociado na Bolsa de Valores do Brasil (B3). Ele investe principalmente em lajes corporativas de alto padrão localizadas em São Paulo.\n",
      "\n",
      "Principais características do XPML11:\n",
      "- Rentabilidade: Dividend Yield médio de 8% ao ano.\n",
      "- Isenção de IR: Os rendimentos distribuídos são isentos de Imposto de Renda para pessoas físicas.\n",
      "- Liquidez: Pode ser comprado e vendido diariamente na bolsa.\n",
      "- Prazo: Indeterminado (não tem data de vencimento).\n",
      "- Risco: Médio, relacionado à vacância dos imóveis e à variação dos preços no mercado imobiliário.\n",
      "\n",
      "É uma opção para quem busca renda passiva mensal e diversificação no setor imobiliário.\n"
     ]
    }
   ],
   "source": [
    "for msg in response[\"messages\"]:\n",
    "    if isinstance(msg, AIMessage) and msg.content.strip():\n",
    "        print(\"🧠 Resposta do agente:\", msg.content)\n",
    "    elif isinstance(msg, ToolMessage) and msg.content.strip():\n",
    "        print(\"🔧 Retorno da tool:\", msg.content)"
   ]
  },
  {
   "cell_type": "code",
   "execution_count": 15,
   "id": "65e41ae1",
   "metadata": {},
   "outputs": [
    {
     "name": "stdout",
     "output_type": "stream",
     "text": [
      "🔧 Resposta da tool: {\"ativos\": [{\"nome\": \"Tesouro Selic 2029\", \"descricao\": \"Título público pós-fixado atrelado à taxa Selic. Alta liquidez, baixo risco, indicado para reserva de emergência.\", \"rentabilidade\": \"Selic + 0.10% ao ano\", \"isento_ir\": false, \"liquidez\": \"Diária\", \"prazo\": \"Vencimento em 2029\", \"risco\": \"Baixíssimo (soberano)\"}, {\"nome\": \"CDB Banco Itaúvest\", \"descricao\": \"Certificado de Depósito Bancário emitido por banco médio. Protegido pelo FGC até R$ 250 mil por CPF e instituição.\", \"rentabilidade\": \"120% do CDI\", \"isento_ir\": false, \"liquidez\": \"Após 6 meses\", \"prazo\": \"3 anos\", \"risco\": \"Médio (dependente do emissor)\"}, {\"nome\": \"FII XPML11\", \"descricao\": \"Fundo Imobiliário que investe em lajes corporativas de alto padrão em São Paulo.\", \"rentabilidade\": \"Dividend Yield médio de 8% a.a.\", \"isento_ir\": true, \"liquidez\": \"Negociação em bolsa (B3)\", \"prazo\": \"Indeterminado\", \"risco\": \"Médio (vacância, preços de imóveis)\"}]}\n",
      "🧠 Resposta do agente: XPML11 é um Fundo de Investimento Imobiliário (FII) negociado na Bolsa de Valores do Brasil (B3). Ele investe principalmente em lajes corporativas de alto padrão localizadas em São Paulo.\n",
      "\n",
      "Principais características do XPML11:\n",
      "- Rentabilidade: Dividend Yield médio de 8% ao ano.\n",
      "- Isenção de Imposto de Renda: Sim, para pessoas físicas.\n",
      "- Liquidez: Pode ser comprado e vendido diariamente na bolsa.\n",
      "- Prazo: Indeterminado (não tem data de vencimento).\n",
      "- Risco: Médio, relacionado à vacância dos imóveis e à variação dos preços no mercado imobiliário.\n",
      "\n",
      "Esse tipo de fundo é indicado para quem busca renda passiva através de aluguéis e diversificação no setor imobiliário.\n"
     ]
    }
   ],
   "source": [
    "for chunk in agent.stream(msgs):\n",
    "    # Pega o conteúdo do agente\n",
    "    if 'agent' in chunk:\n",
    "        for message in chunk['agent']['messages']:\n",
    "            if isinstance(message, AIMessage) and message.content.strip():\n",
    "                print(\"🧠 Resposta do agente:\", message.content)\n",
    "\n",
    "    # Pega o conteúdo da tool (resposta bruta da função)\n",
    "    if 'tools' in chunk:\n",
    "        for message in chunk['tools']['messages']:\n",
    "            if isinstance(message, ToolMessage) and message.content.strip():\n",
    "                print(\"🔧 Resposta da tool:\", message.content)\n"
   ]
  },
  {
   "cell_type": "code",
   "execution_count": null,
   "id": "d9ce07e4",
   "metadata": {},
   "outputs": [
    {
     "data": {
      "text/plain": [
       "{'messages': [HumanMessage(content='O que é xpml11?', additional_kwargs={}, response_metadata={}, id='d7cef59b-375d-4fbb-88d6-50c049a266cf'),\n",
       "  AIMessage(content='', additional_kwargs={'tool_calls': [{'id': 'call_qltlH2SLV43tCoNSGDDP1O5F', 'function': {'arguments': '{}', 'name': 'investment_assets_tool'}, 'type': 'function'}], 'refusal': None}, response_metadata={'token_usage': {'completion_tokens': 13, 'prompt_tokens': 424, 'total_tokens': 437, 'completion_tokens_details': {'accepted_prediction_tokens': 0, 'audio_tokens': 0, 'reasoning_tokens': 0, 'rejected_prediction_tokens': 0}, 'prompt_tokens_details': {'audio_tokens': 0, 'cached_tokens': 0}}, 'model_name': 'gpt-4.1-2025-04-14', 'system_fingerprint': 'fp_3502f4eb73', 'id': 'chatcmpl-CKTWtOvk9vt5UPpqE8BlTmaHu96QX', 'service_tier': 'default', 'finish_reason': 'tool_calls', 'logprobs': None}, name='assistant', id='run--5b46675b-3bb2-4bac-8e49-41197d8aa366-0', tool_calls=[{'name': 'investment_assets_tool', 'args': {}, 'id': 'call_qltlH2SLV43tCoNSGDDP1O5F', 'type': 'tool_call'}], usage_metadata={'input_tokens': 424, 'output_tokens': 13, 'total_tokens': 437, 'input_token_details': {'audio': 0, 'cache_read': 0}, 'output_token_details': {'audio': 0, 'reasoning': 0}}),\n",
       "  ToolMessage(content='{\"ativos\": [{\"nome\": \"Tesouro Selic 2029\", \"descricao\": \"Título público pós-fixado atrelado à taxa Selic. Alta liquidez, baixo risco, indicado para reserva de emergência.\", \"rentabilidade\": \"Selic + 0.10% ao ano\", \"isento_ir\": false, \"liquidez\": \"Diária\", \"prazo\": \"Vencimento em 2029\", \"risco\": \"Baixíssimo (soberano)\"}, {\"nome\": \"CDB Banco Itaúvest\", \"descricao\": \"Certificado de Depósito Bancário emitido por banco médio. Protegido pelo FGC até R$ 250 mil por CPF e instituição.\", \"rentabilidade\": \"120% do CDI\", \"isento_ir\": false, \"liquidez\": \"Após 6 meses\", \"prazo\": \"3 anos\", \"risco\": \"Médio (dependente do emissor)\"}, {\"nome\": \"FII XPML11\", \"descricao\": \"Fundo Imobiliário que investe em lajes corporativas de alto padrão em São Paulo.\", \"rentabilidade\": \"Dividend Yield médio de 8% a.a.\", \"isento_ir\": true, \"liquidez\": \"Negociação em bolsa (B3)\", \"prazo\": \"Indeterminado\", \"risco\": \"Médio (vacância, preços de imóveis)\"}]}', name='investment_assets_tool', id='eef53b4d-672b-428b-93f0-c745d7421201', tool_call_id='call_qltlH2SLV43tCoNSGDDP1O5F'),\n",
       "  AIMessage(content='XPML11 é um Fundo de Investimento Imobiliário (FII) negociado na Bolsa de Valores do Brasil (B3). Ele investe principalmente em lajes corporativas de alto padrão localizadas em São Paulo.\\n\\nPrincipais características do XPML11:\\n- Rentabilidade: Dividend Yield médio de 8% ao ano.\\n- Isenção de Imposto de Renda: Sim, para pessoas físicas.\\n- Liquidez: Pode ser comprado e vendido diariamente na bolsa.\\n- Prazo: Indeterminado (não tem data de vencimento).\\n- Risco: Médio, relacionado à vacância dos imóveis e à variação dos preços no mercado imobiliário.\\n\\nEsse FII é indicado para quem busca renda passiva mensal e diversificação no setor imobiliário.', additional_kwargs={'refusal': None}, response_metadata={'token_usage': {'completion_tokens': 156, 'prompt_tokens': 745, 'total_tokens': 901, 'completion_tokens_details': {'accepted_prediction_tokens': 0, 'audio_tokens': 0, 'reasoning_tokens': 0, 'rejected_prediction_tokens': 0}, 'prompt_tokens_details': {'audio_tokens': 0, 'cached_tokens': 0}}, 'model_name': 'gpt-4.1-2025-04-14', 'system_fingerprint': 'fp_3502f4eb73', 'id': 'chatcmpl-CKTWuCpLTsmR0IV3Gd4zFRuvCLjKB', 'service_tier': 'default', 'finish_reason': 'stop', 'logprobs': None}, name='assistant', id='run--bae69015-eb73-4126-8f80-b4d5c4300413-0', usage_metadata={'input_tokens': 745, 'output_tokens': 156, 'total_tokens': 901, 'input_token_details': {'audio': 0, 'cache_read': 0}, 'output_token_details': {'audio': 0, 'reasoning': 0}})]}"
      ]
     },
     "execution_count": 43,
     "metadata": {},
     "output_type": "execute_result"
    }
   ],
   "source": []
  },
  {
   "cell_type": "code",
   "execution_count": null,
   "id": "ebcad1f8",
   "metadata": {},
   "outputs": [],
   "source": [
    "for chunk in agent.stream(msgs):\n",
    "    print(chunk)"
   ]
  },
  {
   "cell_type": "code",
   "execution_count": null,
   "id": "28f10e62",
   "metadata": {},
   "outputs": [],
   "source": []
  },
  {
   "cell_type": "code",
   "execution_count": 28,
   "id": "b9213fce",
   "metadata": {},
   "outputs": [],
   "source": [
    "from langchain_core.runnables.graph import CurveStyle, MermaidDrawMethod, NodeStyles"
   ]
  },
  {
   "cell_type": "code",
   "execution_count": 30,
   "id": "25fa0943",
   "metadata": {},
   "outputs": [],
   "source": [
    "import nest_asyncio"
   ]
  },
  {
   "cell_type": "code",
   "execution_count": null,
   "id": "177872a5",
   "metadata": {},
   "outputs": [],
   "source": [
    "\n",
    "\n"
   ]
  },
  {
   "cell_type": "code",
   "execution_count": 32,
   "id": "69a8de45",
   "metadata": {},
   "outputs": [
    {
     "name": "stderr",
     "output_type": "stream",
     "text": [
      "[INFO] Starting Chromium download.\n"
     ]
    },
    {
     "ename": "OSError",
     "evalue": "Chromium downloadable not found at https://storage.googleapis.com/chromium-browser-snapshots/Win_x64/1181205/chrome-win.zip: Received <?xml version='1.0' encoding='UTF-8'?><Error><Code>NoSuchKey</Code><Message>The specified key does not exist.</Message><Details>No such object: chromium-browser-snapshots/Win_x64/1181205/chrome-win.zip</Details></Error>.\n",
     "output_type": "error",
     "traceback": [
      "\u001b[31m---------------------------------------------------------------------------\u001b[39m",
      "\u001b[31mOSError\u001b[39m                                   Traceback (most recent call last)",
      "\u001b[36mCell\u001b[39m\u001b[36m \u001b[39m\u001b[32mIn[32]\u001b[39m\u001b[32m, line 4\u001b[39m\n\u001b[32m      1\u001b[39m nest_asyncio.apply()\n\u001b[32m      2\u001b[39m display(\n\u001b[32m      3\u001b[39m     Image(\n\u001b[32m----> \u001b[39m\u001b[32m4\u001b[39m         \u001b[43magent\u001b[49m\u001b[43m.\u001b[49m\u001b[43mget_graph\u001b[49m\u001b[43m(\u001b[49m\u001b[43m)\u001b[49m\u001b[43m.\u001b[49m\u001b[43mdraw_mermaid_png\u001b[49m\u001b[43m(\u001b[49m\n\u001b[32m      5\u001b[39m \u001b[43m            \u001b[49m\u001b[43mcurve_style\u001b[49m\u001b[43m=\u001b[49m\u001b[43mCurveStyle\u001b[49m\u001b[43m.\u001b[49m\u001b[43mLINEAR\u001b[49m\u001b[43m,\u001b[49m\n\u001b[32m      6\u001b[39m \u001b[43m            \u001b[49m\u001b[43mnode_colors\u001b[49m\u001b[43m=\u001b[49m\u001b[43mNodeStyles\u001b[49m\u001b[43m(\u001b[49m\u001b[43mfirst\u001b[49m\u001b[43m=\u001b[49m\u001b[33;43m\"\u001b[39;49m\u001b[33;43m#ffdfba\u001b[39;49m\u001b[33;43m\"\u001b[39;49m\u001b[43m,\u001b[49m\u001b[43m \u001b[49m\u001b[43mlast\u001b[49m\u001b[43m=\u001b[49m\u001b[33;43m\"\u001b[39;49m\u001b[33;43m#baffc9\u001b[39;49m\u001b[33;43m\"\u001b[39;49m\u001b[43m,\u001b[49m\u001b[43m \u001b[49m\u001b[43mdefault\u001b[49m\u001b[43m=\u001b[49m\u001b[33;43m\"\u001b[39;49m\u001b[33;43m#fad7de\u001b[39;49m\u001b[33;43m\"\u001b[39;49m\u001b[43m)\u001b[49m\u001b[43m,\u001b[49m\n\u001b[32m      7\u001b[39m \u001b[43m            \u001b[49m\u001b[43mwrap_label_n_words\u001b[49m\u001b[43m=\u001b[49m\u001b[32;43m9\u001b[39;49m\u001b[43m,\u001b[49m\n\u001b[32m      8\u001b[39m \u001b[43m            \u001b[49m\u001b[43moutput_file_path\u001b[49m\u001b[43m=\u001b[49m\u001b[38;5;28;43;01mNone\u001b[39;49;00m\u001b[43m,\u001b[49m\n\u001b[32m      9\u001b[39m \u001b[43m            \u001b[49m\u001b[43mdraw_method\u001b[49m\u001b[43m=\u001b[49m\u001b[43mMermaidDrawMethod\u001b[49m\u001b[43m.\u001b[49m\u001b[43mPYPPETEER\u001b[49m\u001b[43m,\u001b[49m\n\u001b[32m     10\u001b[39m \u001b[43m            \u001b[49m\u001b[43mbackground_color\u001b[49m\u001b[43m=\u001b[49m\u001b[33;43m\"\u001b[39;49m\u001b[33;43mwhite\u001b[39;49m\u001b[33;43m\"\u001b[39;49m\u001b[43m,\u001b[49m\n\u001b[32m     11\u001b[39m \u001b[43m            \u001b[49m\u001b[43mpadding\u001b[49m\u001b[43m=\u001b[49m\u001b[32;43m10\u001b[39;49m\u001b[43m,\u001b[49m\n\u001b[32m     12\u001b[39m \u001b[43m        \u001b[49m\u001b[43m)\u001b[49m\n\u001b[32m     13\u001b[39m     )\n\u001b[32m     14\u001b[39m )\n",
      "\u001b[36mFile \u001b[39m\u001b[32mc:\\Users\\alber\\Desktop\\projetos\\Generative-IA\\venv-genai\\Lib\\site-packages\\langchain_core\\runnables\\graph.py:685\u001b[39m, in \u001b[36mGraph.draw_mermaid_png\u001b[39m\u001b[34m(self, curve_style, node_colors, wrap_label_n_words, output_file_path, draw_method, background_color, padding, max_retries, retry_delay, frontmatter_config)\u001b[39m\n\u001b[32m    677\u001b[39m \u001b[38;5;28;01mfrom\u001b[39;00m\u001b[38;5;250m \u001b[39m\u001b[34;01mlangchain_core\u001b[39;00m\u001b[34;01m.\u001b[39;00m\u001b[34;01mrunnables\u001b[39;00m\u001b[34;01m.\u001b[39;00m\u001b[34;01mgraph_mermaid\u001b[39;00m\u001b[38;5;250m \u001b[39m\u001b[38;5;28;01mimport\u001b[39;00m draw_mermaid_png\n\u001b[32m    679\u001b[39m mermaid_syntax = \u001b[38;5;28mself\u001b[39m.draw_mermaid(\n\u001b[32m    680\u001b[39m     curve_style=curve_style,\n\u001b[32m    681\u001b[39m     node_colors=node_colors,\n\u001b[32m    682\u001b[39m     wrap_label_n_words=wrap_label_n_words,\n\u001b[32m    683\u001b[39m     frontmatter_config=frontmatter_config,\n\u001b[32m    684\u001b[39m )\n\u001b[32m--> \u001b[39m\u001b[32m685\u001b[39m \u001b[38;5;28;01mreturn\u001b[39;00m \u001b[43mdraw_mermaid_png\u001b[49m\u001b[43m(\u001b[49m\n\u001b[32m    686\u001b[39m \u001b[43m    \u001b[49m\u001b[43mmermaid_syntax\u001b[49m\u001b[43m=\u001b[49m\u001b[43mmermaid_syntax\u001b[49m\u001b[43m,\u001b[49m\n\u001b[32m    687\u001b[39m \u001b[43m    \u001b[49m\u001b[43moutput_file_path\u001b[49m\u001b[43m=\u001b[49m\u001b[43moutput_file_path\u001b[49m\u001b[43m,\u001b[49m\n\u001b[32m    688\u001b[39m \u001b[43m    \u001b[49m\u001b[43mdraw_method\u001b[49m\u001b[43m=\u001b[49m\u001b[43mdraw_method\u001b[49m\u001b[43m,\u001b[49m\n\u001b[32m    689\u001b[39m \u001b[43m    \u001b[49m\u001b[43mbackground_color\u001b[49m\u001b[43m=\u001b[49m\u001b[43mbackground_color\u001b[49m\u001b[43m,\u001b[49m\n\u001b[32m    690\u001b[39m \u001b[43m    \u001b[49m\u001b[43mpadding\u001b[49m\u001b[43m=\u001b[49m\u001b[43mpadding\u001b[49m\u001b[43m,\u001b[49m\n\u001b[32m    691\u001b[39m \u001b[43m    \u001b[49m\u001b[43mmax_retries\u001b[49m\u001b[43m=\u001b[49m\u001b[43mmax_retries\u001b[49m\u001b[43m,\u001b[49m\n\u001b[32m    692\u001b[39m \u001b[43m    \u001b[49m\u001b[43mretry_delay\u001b[49m\u001b[43m=\u001b[49m\u001b[43mretry_delay\u001b[49m\u001b[43m,\u001b[49m\n\u001b[32m    693\u001b[39m \u001b[43m\u001b[49m\u001b[43m)\u001b[49m\n",
      "\u001b[36mFile \u001b[39m\u001b[32mc:\\Users\\alber\\Desktop\\projetos\\Generative-IA\\venv-genai\\Lib\\site-packages\\langchain_core\\runnables\\graph_mermaid.py:287\u001b[39m, in \u001b[36mdraw_mermaid_png\u001b[39m\u001b[34m(mermaid_syntax, output_file_path, draw_method, background_color, padding, max_retries, retry_delay)\u001b[39m\n\u001b[32m    284\u001b[39m \u001b[38;5;28;01mif\u001b[39;00m draw_method == MermaidDrawMethod.PYPPETEER:\n\u001b[32m    285\u001b[39m     \u001b[38;5;28;01mimport\u001b[39;00m\u001b[38;5;250m \u001b[39m\u001b[34;01masyncio\u001b[39;00m\n\u001b[32m--> \u001b[39m\u001b[32m287\u001b[39m     img_bytes = \u001b[43masyncio\u001b[49m\u001b[43m.\u001b[49m\u001b[43mrun\u001b[49m\u001b[43m(\u001b[49m\n\u001b[32m    288\u001b[39m \u001b[43m        \u001b[49m\u001b[43m_render_mermaid_using_pyppeteer\u001b[49m\u001b[43m(\u001b[49m\n\u001b[32m    289\u001b[39m \u001b[43m            \u001b[49m\u001b[43mmermaid_syntax\u001b[49m\u001b[43m,\u001b[49m\u001b[43m \u001b[49m\u001b[43moutput_file_path\u001b[49m\u001b[43m,\u001b[49m\u001b[43m \u001b[49m\u001b[43mbackground_color\u001b[49m\u001b[43m,\u001b[49m\u001b[43m \u001b[49m\u001b[43mpadding\u001b[49m\n\u001b[32m    290\u001b[39m \u001b[43m        \u001b[49m\u001b[43m)\u001b[49m\n\u001b[32m    291\u001b[39m \u001b[43m    \u001b[49m\u001b[43m)\u001b[49m\n\u001b[32m    292\u001b[39m \u001b[38;5;28;01melif\u001b[39;00m draw_method == MermaidDrawMethod.API:\n\u001b[32m    293\u001b[39m     img_bytes = _render_mermaid_using_api(\n\u001b[32m    294\u001b[39m         mermaid_syntax,\n\u001b[32m    295\u001b[39m         output_file_path=output_file_path,\n\u001b[32m   (...)\u001b[39m\u001b[32m    298\u001b[39m         retry_delay=retry_delay,\n\u001b[32m    299\u001b[39m     )\n",
      "\u001b[36mFile \u001b[39m\u001b[32mc:\\Users\\alber\\Desktop\\projetos\\Generative-IA\\venv-genai\\Lib\\site-packages\\nest_asyncio.py:30\u001b[39m, in \u001b[36m_patch_asyncio.<locals>.run\u001b[39m\u001b[34m(main, debug)\u001b[39m\n\u001b[32m     28\u001b[39m task = asyncio.ensure_future(main)\n\u001b[32m     29\u001b[39m \u001b[38;5;28;01mtry\u001b[39;00m:\n\u001b[32m---> \u001b[39m\u001b[32m30\u001b[39m     \u001b[38;5;28;01mreturn\u001b[39;00m \u001b[43mloop\u001b[49m\u001b[43m.\u001b[49m\u001b[43mrun_until_complete\u001b[49m\u001b[43m(\u001b[49m\u001b[43mtask\u001b[49m\u001b[43m)\u001b[49m\n\u001b[32m     31\u001b[39m \u001b[38;5;28;01mfinally\u001b[39;00m:\n\u001b[32m     32\u001b[39m     \u001b[38;5;28;01mif\u001b[39;00m \u001b[38;5;129;01mnot\u001b[39;00m task.done():\n",
      "\u001b[36mFile \u001b[39m\u001b[32mc:\\Users\\alber\\Desktop\\projetos\\Generative-IA\\venv-genai\\Lib\\site-packages\\nest_asyncio.py:98\u001b[39m, in \u001b[36m_patch_loop.<locals>.run_until_complete\u001b[39m\u001b[34m(self, future)\u001b[39m\n\u001b[32m     95\u001b[39m \u001b[38;5;28;01mif\u001b[39;00m \u001b[38;5;129;01mnot\u001b[39;00m f.done():\n\u001b[32m     96\u001b[39m     \u001b[38;5;28;01mraise\u001b[39;00m \u001b[38;5;167;01mRuntimeError\u001b[39;00m(\n\u001b[32m     97\u001b[39m         \u001b[33m'\u001b[39m\u001b[33mEvent loop stopped before Future completed.\u001b[39m\u001b[33m'\u001b[39m)\n\u001b[32m---> \u001b[39m\u001b[32m98\u001b[39m \u001b[38;5;28;01mreturn\u001b[39;00m \u001b[43mf\u001b[49m\u001b[43m.\u001b[49m\u001b[43mresult\u001b[49m\u001b[43m(\u001b[49m\u001b[43m)\u001b[49m\n",
      "\u001b[36mFile \u001b[39m\u001b[32m~\\AppData\\Local\\Programs\\Python\\Python312\\Lib\\asyncio\\futures.py:202\u001b[39m, in \u001b[36mFuture.result\u001b[39m\u001b[34m(self)\u001b[39m\n\u001b[32m    200\u001b[39m \u001b[38;5;28mself\u001b[39m.__log_traceback = \u001b[38;5;28;01mFalse\u001b[39;00m\n\u001b[32m    201\u001b[39m \u001b[38;5;28;01mif\u001b[39;00m \u001b[38;5;28mself\u001b[39m._exception \u001b[38;5;129;01mis\u001b[39;00m \u001b[38;5;129;01mnot\u001b[39;00m \u001b[38;5;28;01mNone\u001b[39;00m:\n\u001b[32m--> \u001b[39m\u001b[32m202\u001b[39m     \u001b[38;5;28;01mraise\u001b[39;00m \u001b[38;5;28mself\u001b[39m._exception.with_traceback(\u001b[38;5;28mself\u001b[39m._exception_tb)\n\u001b[32m    203\u001b[39m \u001b[38;5;28;01mreturn\u001b[39;00m \u001b[38;5;28mself\u001b[39m._result\n",
      "\u001b[36mFile \u001b[39m\u001b[32m~\\AppData\\Local\\Programs\\Python\\Python312\\Lib\\asyncio\\tasks.py:314\u001b[39m, in \u001b[36mTask.__step_run_and_handle_result\u001b[39m\u001b[34m(***failed resolving arguments***)\u001b[39m\n\u001b[32m    310\u001b[39m \u001b[38;5;28;01mtry\u001b[39;00m:\n\u001b[32m    311\u001b[39m     \u001b[38;5;28;01mif\u001b[39;00m exc \u001b[38;5;129;01mis\u001b[39;00m \u001b[38;5;28;01mNone\u001b[39;00m:\n\u001b[32m    312\u001b[39m         \u001b[38;5;66;03m# We use the `send` method directly, because coroutines\u001b[39;00m\n\u001b[32m    313\u001b[39m         \u001b[38;5;66;03m# don't have `__iter__` and `__next__` methods.\u001b[39;00m\n\u001b[32m--> \u001b[39m\u001b[32m314\u001b[39m         result = \u001b[43mcoro\u001b[49m\u001b[43m.\u001b[49m\u001b[43msend\u001b[49m\u001b[43m(\u001b[49m\u001b[38;5;28;43;01mNone\u001b[39;49;00m\u001b[43m)\u001b[49m\n\u001b[32m    315\u001b[39m     \u001b[38;5;28;01melse\u001b[39;00m:\n\u001b[32m    316\u001b[39m         result = coro.throw(exc)\n",
      "\u001b[36mFile \u001b[39m\u001b[32mc:\\Users\\alber\\Desktop\\projetos\\Generative-IA\\venv-genai\\Lib\\site-packages\\langchain_core\\runnables\\graph_mermaid.py:325\u001b[39m, in \u001b[36m_render_mermaid_using_pyppeteer\u001b[39m\u001b[34m(mermaid_syntax, output_file_path, background_color, padding, device_scale_factor)\u001b[39m\n\u001b[32m    322\u001b[39m     msg = \u001b[33m\"\u001b[39m\u001b[33mInstall Pyppeteer to use the Pyppeteer method: `pip install pyppeteer`.\u001b[39m\u001b[33m\"\u001b[39m\n\u001b[32m    323\u001b[39m     \u001b[38;5;28;01mraise\u001b[39;00m \u001b[38;5;167;01mImportError\u001b[39;00m(msg) \u001b[38;5;28;01mfrom\u001b[39;00m\u001b[38;5;250m \u001b[39m\u001b[34;01me\u001b[39;00m\n\u001b[32m--> \u001b[39m\u001b[32m325\u001b[39m browser = \u001b[38;5;28;01mawait\u001b[39;00m launch()\n\u001b[32m    326\u001b[39m page = \u001b[38;5;28;01mawait\u001b[39;00m browser.newPage()\n\u001b[32m    328\u001b[39m \u001b[38;5;66;03m# Setup Mermaid JS\u001b[39;00m\n",
      "\u001b[36mFile \u001b[39m\u001b[32mc:\\Users\\alber\\Desktop\\projetos\\Generative-IA\\venv-genai\\Lib\\site-packages\\pyppeteer\\launcher.py:307\u001b[39m, in \u001b[36mlaunch\u001b[39m\u001b[34m(options, **kwargs)\u001b[39m\n\u001b[32m    239\u001b[39m \u001b[38;5;28;01masync\u001b[39;00m \u001b[38;5;28;01mdef\u001b[39;00m\u001b[38;5;250m \u001b[39m\u001b[34mlaunch\u001b[39m(options: \u001b[38;5;28mdict\u001b[39m = \u001b[38;5;28;01mNone\u001b[39;00m, **kwargs: Any) -> Browser:\n\u001b[32m    240\u001b[39m \u001b[38;5;250m    \u001b[39m\u001b[33;03m\"\"\"Start chrome process and return :class:`~pyppeteer.browser.Browser`.\u001b[39;00m\n\u001b[32m    241\u001b[39m \u001b[33;03m    This function is a shortcut to :meth:`Launcher(options, **kwargs).launch`.\u001b[39;00m\n\u001b[32m    242\u001b[39m \u001b[33;03m    Available options are:\u001b[39;00m\n\u001b[32m   (...)\u001b[39m\u001b[32m    305\u001b[39m \u001b[33;03m        option with extreme caution.\u001b[39;00m\n\u001b[32m    306\u001b[39m \u001b[33;03m    \"\"\"\u001b[39;00m\n\u001b[32m--> \u001b[39m\u001b[32m307\u001b[39m     \u001b[38;5;28;01mreturn\u001b[39;00m \u001b[38;5;28;01mawait\u001b[39;00m \u001b[43mLauncher\u001b[49m\u001b[43m(\u001b[49m\u001b[43moptions\u001b[49m\u001b[43m,\u001b[49m\u001b[43m \u001b[49m\u001b[43m*\u001b[49m\u001b[43m*\u001b[49m\u001b[43mkwargs\u001b[49m\u001b[43m)\u001b[49m.launch()\n",
      "\u001b[36mFile \u001b[39m\u001b[32mc:\\Users\\alber\\Desktop\\projetos\\Generative-IA\\venv-genai\\Lib\\site-packages\\pyppeteer\\launcher.py:120\u001b[39m, in \u001b[36mLauncher.__init__\u001b[39m\u001b[34m(self, options, **kwargs)\u001b[39m\n\u001b[32m    118\u001b[39m \u001b[38;5;28;01mif\u001b[39;00m \u001b[38;5;129;01mnot\u001b[39;00m \u001b[38;5;28mself\u001b[39m.chromeExecutable:\n\u001b[32m    119\u001b[39m     \u001b[38;5;28;01mif\u001b[39;00m \u001b[38;5;129;01mnot\u001b[39;00m check_chromium():\n\u001b[32m--> \u001b[39m\u001b[32m120\u001b[39m         \u001b[43mdownload_chromium\u001b[49m\u001b[43m(\u001b[49m\u001b[43m)\u001b[49m\n\u001b[32m    121\u001b[39m     \u001b[38;5;28mself\u001b[39m.chromeExecutable = \u001b[38;5;28mstr\u001b[39m(chromium_executable())\n\u001b[32m    123\u001b[39m \u001b[38;5;28mself\u001b[39m.cmd = [\u001b[38;5;28mself\u001b[39m.chromeExecutable] + \u001b[38;5;28mself\u001b[39m.chromeArguments\n",
      "\u001b[36mFile \u001b[39m\u001b[32mc:\\Users\\alber\\Desktop\\projetos\\Generative-IA\\venv-genai\\Lib\\site-packages\\pyppeteer\\chromium_downloader.py:138\u001b[39m, in \u001b[36mdownload_chromium\u001b[39m\u001b[34m()\u001b[39m\n\u001b[32m    136\u001b[39m \u001b[38;5;28;01mdef\u001b[39;00m\u001b[38;5;250m \u001b[39m\u001b[34mdownload_chromium\u001b[39m() -> \u001b[38;5;28;01mNone\u001b[39;00m:\n\u001b[32m    137\u001b[39m \u001b[38;5;250m    \u001b[39m\u001b[33;03m\"\"\"Download and extract chromium.\"\"\"\u001b[39;00m\n\u001b[32m--> \u001b[39m\u001b[32m138\u001b[39m     extract_zip(\u001b[43mdownload_zip\u001b[49m\u001b[43m(\u001b[49m\u001b[43mget_url\u001b[49m\u001b[43m(\u001b[49m\u001b[43m)\u001b[49m\u001b[43m)\u001b[49m, DOWNLOADS_FOLDER / REVISION)\n",
      "\u001b[36mFile \u001b[39m\u001b[32mc:\\Users\\alber\\Desktop\\projetos\\Generative-IA\\venv-genai\\Lib\\site-packages\\pyppeteer\\chromium_downloader.py:82\u001b[39m, in \u001b[36mdownload_zip\u001b[39m\u001b[34m(url)\u001b[39m\n\u001b[32m     80\u001b[39m r = http.request(\u001b[33m'\u001b[39m\u001b[33mGET\u001b[39m\u001b[33m'\u001b[39m, url, preload_content=\u001b[38;5;28;01mFalse\u001b[39;00m)\n\u001b[32m     81\u001b[39m \u001b[38;5;28;01mif\u001b[39;00m r.status >= \u001b[32m400\u001b[39m:\n\u001b[32m---> \u001b[39m\u001b[32m82\u001b[39m     \u001b[38;5;28;01mraise\u001b[39;00m \u001b[38;5;167;01mOSError\u001b[39;00m(\u001b[33mf\u001b[39m\u001b[33m'\u001b[39m\u001b[33mChromium downloadable not found at \u001b[39m\u001b[38;5;132;01m{\u001b[39;00murl\u001b[38;5;132;01m}\u001b[39;00m\u001b[33m: \u001b[39m\u001b[33m'\u001b[39m \u001b[33mf\u001b[39m\u001b[33m'\u001b[39m\u001b[33mReceived \u001b[39m\u001b[38;5;132;01m{\u001b[39;00mr.data.decode()\u001b[38;5;132;01m}\u001b[39;00m\u001b[33m.\u001b[39m\u001b[38;5;130;01m\\n\u001b[39;00m\u001b[33m'\u001b[39m)\n\u001b[32m     84\u001b[39m \u001b[38;5;66;03m# 10 * 1024\u001b[39;00m\n\u001b[32m     85\u001b[39m _data = BytesIO()\n",
      "\u001b[31mOSError\u001b[39m: Chromium downloadable not found at https://storage.googleapis.com/chromium-browser-snapshots/Win_x64/1181205/chrome-win.zip: Received <?xml version='1.0' encoding='UTF-8'?><Error><Code>NoSuchKey</Code><Message>The specified key does not exist.</Message><Details>No such object: chromium-browser-snapshots/Win_x64/1181205/chrome-win.zip</Details></Error>.\n"
     ]
    }
   ],
   "source": [
    "nest_asyncio.apply()\n",
    "display(\n",
    "    Image(\n",
    "        agent.get_graph().draw_mermaid_png(\n",
    "            curve_style=CurveStyle.LINEAR,\n",
    "            node_colors=NodeStyles(first=\"#ffdfba\", last=\"#baffc9\", default=\"#fad7de\"),\n",
    "            wrap_label_n_words=9,\n",
    "            output_file_path=None,\n",
    "            draw_method=MermaidDrawMethod.PYPPETEER,\n",
    "            background_color=\"white\",\n",
    "            padding=10,\n",
    "        )\n",
    "    )\n",
    ")"
   ]
  },
  {
   "cell_type": "code",
   "execution_count": 26,
   "id": "38b85beb",
   "metadata": {},
   "outputs": [
    {
     "ename": "ImportError",
     "evalue": "Install pygraphviz to draw graphs: `pip install pygraphviz`.",
     "output_type": "error",
     "traceback": [
      "\u001b[31m---------------------------------------------------------------------------\u001b[39m",
      "\u001b[31mModuleNotFoundError\u001b[39m                       Traceback (most recent call last)",
      "\u001b[36mFile \u001b[39m\u001b[32mc:\\Users\\alber\\Desktop\\projetos\\Generative-IA\\venv-genai\\Lib\\site-packages\\langchain_core\\runnables\\graph_png.py:138\u001b[39m, in \u001b[36mPngDrawer.draw\u001b[39m\u001b[34m(self, graph, output_path)\u001b[39m\n\u001b[32m    137\u001b[39m \u001b[38;5;28;01mtry\u001b[39;00m:\n\u001b[32m--> \u001b[39m\u001b[32m138\u001b[39m     \u001b[38;5;28;01mimport\u001b[39;00m\u001b[38;5;250m \u001b[39m\u001b[34;01mpygraphviz\u001b[39;00m\u001b[38;5;250m \u001b[39m\u001b[38;5;28;01mas\u001b[39;00m\u001b[38;5;250m \u001b[39m\u001b[34;01mpgv\u001b[39;00m  \u001b[38;5;66;03m# type: ignore[import-not-found]\u001b[39;00m\n\u001b[32m    139\u001b[39m \u001b[38;5;28;01mexcept\u001b[39;00m \u001b[38;5;167;01mImportError\u001b[39;00m \u001b[38;5;28;01mas\u001b[39;00m exc:\n",
      "\u001b[31mModuleNotFoundError\u001b[39m: No module named 'pygraphviz'",
      "\nThe above exception was the direct cause of the following exception:\n",
      "\u001b[31mImportError\u001b[39m                               Traceback (most recent call last)",
      "\u001b[36mCell\u001b[39m\u001b[36m \u001b[39m\u001b[32mIn[26]\u001b[39m\u001b[32m, line 1\u001b[39m\n\u001b[32m----> \u001b[39m\u001b[32m1\u001b[39m display(Image(\u001b[43magent\u001b[49m\u001b[43m.\u001b[49m\u001b[43mget_graph\u001b[49m\u001b[43m(\u001b[49m\u001b[43m)\u001b[49m\u001b[43m.\u001b[49m\u001b[43mdraw_png\u001b[49m\u001b[43m(\u001b[49m\u001b[43m)\u001b[49m))\n",
      "\u001b[36mFile \u001b[39m\u001b[32mc:\\Users\\alber\\Desktop\\projetos\\Generative-IA\\venv-genai\\Lib\\site-packages\\langchain_core\\runnables\\graph.py:566\u001b[39m, in \u001b[36mGraph.draw_png\u001b[39m\u001b[34m(self, output_file_path, fontname, labels)\u001b[39m\n\u001b[32m    553\u001b[39m \u001b[38;5;28;01mfrom\u001b[39;00m\u001b[38;5;250m \u001b[39m\u001b[34;01mlangchain_core\u001b[39;00m\u001b[34;01m.\u001b[39;00m\u001b[34;01mrunnables\u001b[39;00m\u001b[34;01m.\u001b[39;00m\u001b[34;01mgraph_png\u001b[39;00m\u001b[38;5;250m \u001b[39m\u001b[38;5;28;01mimport\u001b[39;00m PngDrawer\n\u001b[32m    555\u001b[39m default_node_labels = {node.id: node.name \u001b[38;5;28;01mfor\u001b[39;00m node \u001b[38;5;129;01min\u001b[39;00m \u001b[38;5;28mself\u001b[39m.nodes.values()}\n\u001b[32m    557\u001b[39m \u001b[38;5;28;01mreturn\u001b[39;00m \u001b[43mPngDrawer\u001b[49m\u001b[43m(\u001b[49m\n\u001b[32m    558\u001b[39m \u001b[43m    \u001b[49m\u001b[43mfontname\u001b[49m\u001b[43m,\u001b[49m\n\u001b[32m    559\u001b[39m \u001b[43m    \u001b[49m\u001b[43mLabelsDict\u001b[49m\u001b[43m(\u001b[49m\n\u001b[32m    560\u001b[39m \u001b[43m        \u001b[49m\u001b[43mnodes\u001b[49m\u001b[43m=\u001b[49m\u001b[43m{\u001b[49m\n\u001b[32m    561\u001b[39m \u001b[43m            \u001b[49m\u001b[43m*\u001b[49m\u001b[43m*\u001b[49m\u001b[43mdefault_node_labels\u001b[49m\u001b[43m,\u001b[49m\n\u001b[32m    562\u001b[39m \u001b[43m            \u001b[49m\u001b[43m*\u001b[49m\u001b[43m*\u001b[49m\u001b[43m(\u001b[49m\u001b[43mlabels\u001b[49m\u001b[43m[\u001b[49m\u001b[33;43m\"\u001b[39;49m\u001b[33;43mnodes\u001b[39;49m\u001b[33;43m\"\u001b[39;49m\u001b[43m]\u001b[49m\u001b[43m \u001b[49m\u001b[38;5;28;43;01mif\u001b[39;49;00m\u001b[43m \u001b[49m\u001b[43mlabels\u001b[49m\u001b[43m \u001b[49m\u001b[38;5;129;43;01mis\u001b[39;49;00m\u001b[43m \u001b[49m\u001b[38;5;129;43;01mnot\u001b[39;49;00m\u001b[43m \u001b[49m\u001b[38;5;28;43;01mNone\u001b[39;49;00m\u001b[43m \u001b[49m\u001b[38;5;28;43;01melse\u001b[39;49;00m\u001b[43m \u001b[49m\u001b[43m{\u001b[49m\u001b[43m}\u001b[49m\u001b[43m)\u001b[49m\u001b[43m,\u001b[49m\n\u001b[32m    563\u001b[39m \u001b[43m        \u001b[49m\u001b[43m}\u001b[49m\u001b[43m,\u001b[49m\n\u001b[32m    564\u001b[39m \u001b[43m        \u001b[49m\u001b[43medges\u001b[49m\u001b[43m=\u001b[49m\u001b[43mlabels\u001b[49m\u001b[43m[\u001b[49m\u001b[33;43m\"\u001b[39;49m\u001b[33;43medges\u001b[39;49m\u001b[33;43m\"\u001b[39;49m\u001b[43m]\u001b[49m\u001b[43m \u001b[49m\u001b[38;5;28;43;01mif\u001b[39;49;00m\u001b[43m \u001b[49m\u001b[43mlabels\u001b[49m\u001b[43m \u001b[49m\u001b[38;5;129;43;01mis\u001b[39;49;00m\u001b[43m \u001b[49m\u001b[38;5;129;43;01mnot\u001b[39;49;00m\u001b[43m \u001b[49m\u001b[38;5;28;43;01mNone\u001b[39;49;00m\u001b[43m \u001b[49m\u001b[38;5;28;43;01melse\u001b[39;49;00m\u001b[43m \u001b[49m\u001b[43m{\u001b[49m\u001b[43m}\u001b[49m\u001b[43m,\u001b[49m\n\u001b[32m    565\u001b[39m \u001b[43m    \u001b[49m\u001b[43m)\u001b[49m\u001b[43m,\u001b[49m\n\u001b[32m--> \u001b[39m\u001b[32m566\u001b[39m \u001b[43m\u001b[49m\u001b[43m)\u001b[49m\u001b[43m.\u001b[49m\u001b[43mdraw\u001b[49m\u001b[43m(\u001b[49m\u001b[38;5;28;43mself\u001b[39;49m\u001b[43m,\u001b[49m\u001b[43m \u001b[49m\u001b[43moutput_file_path\u001b[49m\u001b[43m)\u001b[49m\n",
      "\u001b[36mFile \u001b[39m\u001b[32mc:\\Users\\alber\\Desktop\\projetos\\Generative-IA\\venv-genai\\Lib\\site-packages\\langchain_core\\runnables\\graph_png.py:141\u001b[39m, in \u001b[36mPngDrawer.draw\u001b[39m\u001b[34m(self, graph, output_path)\u001b[39m\n\u001b[32m    139\u001b[39m \u001b[38;5;28;01mexcept\u001b[39;00m \u001b[38;5;167;01mImportError\u001b[39;00m \u001b[38;5;28;01mas\u001b[39;00m exc:\n\u001b[32m    140\u001b[39m     msg = \u001b[33m\"\u001b[39m\u001b[33mInstall pygraphviz to draw graphs: `pip install pygraphviz`.\u001b[39m\u001b[33m\"\u001b[39m\n\u001b[32m--> \u001b[39m\u001b[32m141\u001b[39m     \u001b[38;5;28;01mraise\u001b[39;00m \u001b[38;5;167;01mImportError\u001b[39;00m(msg) \u001b[38;5;28;01mfrom\u001b[39;00m\u001b[38;5;250m \u001b[39m\u001b[34;01mexc\u001b[39;00m\n\u001b[32m    143\u001b[39m \u001b[38;5;66;03m# Create a directed graph\u001b[39;00m\n\u001b[32m    144\u001b[39m viz = pgv.AGraph(directed=\u001b[38;5;28;01mTrue\u001b[39;00m, nodesep=\u001b[32m0.9\u001b[39m, ranksep=\u001b[32m1.0\u001b[39m)\n",
      "\u001b[31mImportError\u001b[39m: Install pygraphviz to draw graphs: `pip install pygraphviz`."
     ]
    }
   ],
   "source": [
    "display(Image(agent.get_graph().draw_png()))"
   ]
  },
  {
   "cell_type": "code",
   "execution_count": null,
   "id": "e98d83d5",
   "metadata": {},
   "outputs": [],
   "source": []
  },
  {
   "cell_type": "code",
   "execution_count": null,
   "id": "b5e80801",
   "metadata": {},
   "outputs": [],
   "source": [
    "# Exemplo de execução\n",
    "query = \"O que é IPCA?\"\n",
    "for s in app.stream({\"messages\": [(\"user\", query)]}):\n",
    "    print(s)"
   ]
  },
  {
   "cell_type": "code",
   "execution_count": null,
   "id": "21569147",
   "metadata": {},
   "outputs": [],
   "source": []
  }
 ],
 "metadata": {
  "kernelspec": {
   "display_name": "venv-genai",
   "language": "python",
   "name": "python3"
  },
  "language_info": {
   "codemirror_mode": {
    "name": "ipython",
    "version": 3
   },
   "file_extension": ".py",
   "mimetype": "text/x-python",
   "name": "python",
   "nbconvert_exporter": "python",
   "pygments_lexer": "ipython3",
   "version": "3.12.10"
  }
 },
 "nbformat": 4,
 "nbformat_minor": 5
}
