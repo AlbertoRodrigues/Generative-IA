{
 "cells": [
  {
   "cell_type": "markdown",
   "id": "deba7a75",
   "metadata": {},
   "source": [
    "## Continuar no capitulo 2 pegando exemplos. Explicar melhor o contexto nesse notebook"
   ]
  },
  {
   "cell_type": "markdown",
   "id": "4aa78123",
   "metadata": {},
   "source": [
    "https://campus.datacamp.com/courses/developing-ai-systems-with-the-openai-api/function-calling?ex=5"
   ]
  },
  {
   "cell_type": "code",
   "execution_count": 1,
   "id": "57920af9",
   "metadata": {},
   "outputs": [],
   "source": [
    "from openai import OpenAI"
   ]
  },
  {
   "cell_type": "code",
   "execution_count": 2,
   "id": "e8e91a7e",
   "metadata": {},
   "outputs": [],
   "source": [
    "client = OpenAI(api_key = \"API-KEY\")"
   ]
  },
  {
   "cell_type": "code",
   "execution_count": null,
   "id": "1e82b630",
   "metadata": {},
   "outputs": [],
   "source": [
    "message_listing = \\\n",
    "[{'role': 'system',\n",
    "  'content': \"Don't make assumptions about what values to plug into functions. Ask for clarification if a user request \\\n",
    "  is ambiguous.\"},\n",
    " {'role': 'user',\n",
    "  'content': 'Step into this beautiful two-story, single-family home located in Springfield, USA,\\\n",
    "  priced at $350,000. This charming property features 4 bedrooms, 2.5 bathrooms, a spacious living room with a \\\n",
    "  cozy fireplace, a modern kitchen with stainless steel appliances, and a large backyard perfect for family gatherings.\\\n",
    "  The master bedroom includes an en-suite bathroom and a walk-in closet. Enjoy the convenience of an attached two-car \\\n",
    "  garage and a recently updated HVAC system. Located near top-rated schools, parks, and shopping centers, this home is \\\n",
    "  ideal for families looking for comfort and convenience.'}]"
   ]
  },
  {
   "cell_type": "code",
   "execution_count": 5,
   "id": "85788d10",
   "metadata": {},
   "outputs": [],
   "source": [
    "function_definition = \\\n",
    "[{'type': 'function',\n",
    "  'function': {'name': 'real_estate_info',\n",
    "   'description': 'Get the information about homes for sale from the body of the input text',\n",
    "   'parameters': {'type': 'object',\n",
    "    'properties': {'home type': {'type': 'string', 'description': 'Home type'},\n",
    "     'location': {'type': 'string', 'description': 'Location'},\n",
    "     'price': {'type': 'integer', 'description': 'Price'},\n",
    "     'bedrooms': {'type': 'integer', 'description': 'Number of bedrooms'}}}}}]"
   ]
  },
  {
   "cell_type": "code",
   "execution_count": 6,
   "id": "db03b908",
   "metadata": {},
   "outputs": [],
   "source": [
    "response= client.chat.completions.create(\n",
    "    model=\"gpt-3.5-turbo\",\n",
    "    # Add the message\n",
    "    messages=message_listing,\n",
    "    # Add your function definition\n",
    "    tools=function_definition\n",
    ")"
   ]
  },
  {
   "cell_type": "code",
   "execution_count": 7,
   "id": "39e04dbe",
   "metadata": {},
   "outputs": [
    {
     "name": "stdout",
     "output_type": "stream",
     "text": [
      "{\"home type\":\"single-family\",\"location\":\"Springfield, USA\",\"price\":350000,\"bedrooms\":4}\n"
     ]
    }
   ],
   "source": [
    "print(response.choices[0].message.tool_calls[0].function.arguments)"
   ]
  },
  {
   "cell_type": "code",
   "execution_count": null,
   "id": "46ba42f2",
   "metadata": {},
   "outputs": [],
   "source": []
  },
  {
   "cell_type": "code",
   "execution_count": null,
   "id": "cc7f6c99",
   "metadata": {},
   "outputs": [],
   "source": []
  }
 ],
 "metadata": {
  "kernelspec": {
   "display_name": "Python 3 (ipykernel)",
   "language": "python",
   "name": "python3"
  },
  "language_info": {
   "codemirror_mode": {
    "name": "ipython",
    "version": 3
   },
   "file_extension": ".py",
   "mimetype": "text/x-python",
   "name": "python",
   "nbconvert_exporter": "python",
   "pygments_lexer": "ipython3",
   "version": "3.9.7"
  }
 },
 "nbformat": 4,
 "nbformat_minor": 5
}
