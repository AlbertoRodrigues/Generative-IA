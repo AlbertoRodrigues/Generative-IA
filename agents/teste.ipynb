{
 "cells": [
  {
   "cell_type": "code",
   "execution_count": 3,
   "metadata": {},
   "outputs": [],
   "source": [
    "from openai import OpenAI\n",
    "from dotenv import load_dotenv\n",
    "import os"
   ]
  },
  {
   "cell_type": "code",
   "execution_count": 7,
   "metadata": {},
   "outputs": [],
   "source": [
    "load_dotenv()\n",
    "\n",
    "api_key = os.getenv('OPENAI_API_KEY')\n",
    "api_key\n",
    "#client = OpenAI(api_key = api_key)"
   ]
  },
  {
   "cell_type": "code",
   "execution_count": 5,
   "metadata": {},
   "outputs": [
    {
     "ename": "NameError",
     "evalue": "name 'client' is not defined",
     "output_type": "error",
     "traceback": [
      "\u001b[31m---------------------------------------------------------------------------\u001b[39m",
      "\u001b[31mNameError\u001b[39m                                 Traceback (most recent call last)",
      "\u001b[36mCell\u001b[39m\u001b[36m \u001b[39m\u001b[32mIn[5]\u001b[39m\u001b[32m, line 1\u001b[39m\n\u001b[32m----> \u001b[39m\u001b[32m1\u001b[39m response = \u001b[43mclient\u001b[49m.chat.completions.create(\n\u001b[32m      2\u001b[39m   model=\u001b[33m\"\u001b[39m\u001b[33mgpt-4.1-nano-2025-04-14\u001b[39m\u001b[33m\"\u001b[39m,\n\u001b[32m      3\u001b[39m   \u001b[38;5;66;03m#reasoning_effort=\"low\",\u001b[39;00m\n\u001b[32m      4\u001b[39m   messages=[\n\u001b[32m      5\u001b[39m     {\u001b[33m\"\u001b[39m\u001b[33mrole\u001b[39m\u001b[33m\"\u001b[39m: \u001b[33m\"\u001b[39m\u001b[33muser\u001b[39m\u001b[33m\"\u001b[39m, \u001b[33m\"\u001b[39m\u001b[33mcontent\u001b[39m\u001b[33m\"\u001b[39m: \u001b[33m\"\"\"\u001b[39m\n\u001b[32m      6\u001b[39m \u001b[33mEscreva um código de 10 linhas\u001b[39m\n\u001b[32m      7\u001b[39m \u001b[33m\"\"\"\u001b[39m}\n\u001b[32m      8\u001b[39m   ],\n\u001b[32m      9\u001b[39m temperature=\u001b[32m0\u001b[39m,\n\u001b[32m     10\u001b[39m )\n",
      "\u001b[31mNameError\u001b[39m: name 'client' is not defined"
     ]
    }
   ],
   "source": [
    "response = client.chat.completions.create(\n",
    "  model=\"gpt-4.1-nano-2025-04-14\",\n",
    "  #reasoning_effort=\"low\",\n",
    "  messages=[\n",
    "    {\"role\": \"user\", \"content\": \"\"\"\n",
    "Escreva um código de 10 linhas\n",
    "\"\"\"}\n",
    "  ],\n",
    "temperature=0,\n",
    ")"
   ]
  },
  {
   "cell_type": "code",
   "execution_count": null,
   "metadata": {},
   "outputs": [
    {
     "name": "stdout",
     "output_type": "stream",
     "text": [
      "Olá! Parece que você digitou \"Teste\". Como posso ajudar você hoje?\n"
     ]
    }
   ],
   "source": [
    "print(response.choices[0].message.content)"
   ]
  },
  {
   "cell_type": "markdown",
   "metadata": {},
   "source": [
    "#### Agente que melhora Prompts"
   ]
  },
  {
   "cell_type": "code",
   "execution_count": 5,
   "metadata": {},
   "outputs": [],
   "source": [
    "response = client.chat.completions.create(\n",
    "  model=\"gpt-4o-mini-2024-07-18\",\n",
    "  messages=[\n",
    "    {\"role\": \"system\", \"content\": \"Você é um Escritor de Prompts especialista para Modelos de Linguagem de Grande Escala.\"},\n",
    "    {\"role\": \"user\", \"content\": f\"\"\"\n",
    "Seu objetivo é melhorar o prompt fornecido abaixo para {tarefa}:\n",
    "\n",
    "Prompt: {lazy_prompt}\n",
    "\n",
    "Aqui estão várias dicas para escrever ótimos prompts:\n",
    "\n",
    "Comece o prompt afirmando que ele é especializado no assunto.\n",
    "\n",
    "Coloque as instruções no início do prompt e use ### ou para separar a instrução e o contexto.\n",
    "\n",
    "Seja específico, descritivo e o mais detalhado possível sobre o contexto desejado, resultado, comprimento, formato, estilo, etc.\n",
    "\n",
    "Aqui está um exemplo de um ótimo prompt:\n",
    "\n",
    "Como um criador de conteúdo no YouTube, desenvolva um roteiro envolvente que gire em torno do tema \"Explorando Ruínas Antigas.\"\n",
    "\n",
    "Seu roteiro deve abranger descobertas emocionantes, insights históricos e um senso de aventura.\n",
    "\n",
    "Inclua uma mistura de narração em tela, visuais envolventes e possivelmente interações com co-apresentadores ou especialistas.\n",
    "\n",
    "O roteiro deve resultar em um vídeo de aproximadamente 10-15 minutos, proporcionando aos espectadores uma jornada cativante pelos segredos do passado.\n",
    "\n",
    "Exemplo:\n",
    "\n",
    "\"Bem-vindos de volta, entusiastas da história, ao nosso canal! Hoje, embarcamos em uma expedição emocionante...\"\n",
    "\n",
    "Agora, melhore o prompt.\n",
    "\n",
    "PROMPT MELHORADO:\n",
    "\"\"\"}\n",
    "  ]\n",
    ")"
   ]
  },
  {
   "cell_type": "code",
   "execution_count": 6,
   "metadata": {},
   "outputs": [
    {
     "name": "stdout",
     "output_type": "stream",
     "text": [
      "Como um especialista em elaboração de currículos, crie um currículo profissional em formato PDF que tenha, no máximo, 2 páginas. \n",
      "\n",
      "### Instruções:\n",
      "1. Traduza e adapte as informações fornecidas para o português, mantendo uma linguagem formal, porém simples e acessível.\n",
      "2. Inclua meu número de contato: 85 99634-5795.\n",
      "3. Destaque minhas experiências técnicas, que incluem: Desenvolvimento e Deploy de Modelos de Machine Learning e Aplicações de IA Generativa, com foco em chatbots conversacionais.\n",
      "4. Inclua somente as experiências relevantes das seguintes instituições: Itaú Unibanco, Turing USP e Gauss UFC.\n",
      "\n",
      "### Contexto:\n",
      "O currículo deve apresentar uma estrutura clara e organizada, facilitando a leitura e a compreensão. Utilize uma fonte profissional e mantenha um design limpo, priorizando a experiência e as habilidades técnicas mencionadas. \n",
      "\n",
      "Garanta que o resultado final seja visualmente atraente e evidencie minhas qualificações de maneira eficaz.\n"
     ]
    }
   ],
   "source": [
    "print(response.choices[0].message.content)"
   ]
  },
  {
   "cell_type": "code",
   "execution_count": null,
   "metadata": {},
   "outputs": [],
   "source": []
  }
 ],
 "metadata": {
  "kernelspec": {
   "display_name": "venv-genai",
   "language": "python",
   "name": "python3"
  },
  "language_info": {
   "codemirror_mode": {
    "name": "ipython",
    "version": 3
   },
   "file_extension": ".py",
   "mimetype": "text/x-python",
   "name": "python",
   "nbconvert_exporter": "python",
   "pygments_lexer": "ipython3",
   "version": "3.12.10"
  }
 },
 "nbformat": 4,
 "nbformat_minor": 2
}
