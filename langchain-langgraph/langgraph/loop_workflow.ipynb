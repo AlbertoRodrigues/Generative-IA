{
 "cells": [
  {
   "cell_type": "code",
   "execution_count": 1,
   "id": "69e25db6",
   "metadata": {},
   "outputs": [],
   "source": [
    "from langgraph.graph import StateGraph, END\n",
    "from langchain.chat_models import ChatOpenAI\n",
    "from langchain.prompts import ChatPromptTemplate\n",
    "import os\n",
    "from typing import Optional\n",
    "from dotenv import load_dotenv\n",
    "from IPython.display import  Image, display"
   ]
  },
  {
   "cell_type": "code",
   "execution_count": 7,
   "id": "d08bcb2a",
   "metadata": {},
   "outputs": [
    {
     "name": "stderr",
     "output_type": "stream",
     "text": [
      "C:\\Users\\alber\\AppData\\Local\\Temp\\ipykernel_14456\\1903895123.py:3: LangChainDeprecationWarning: The class `ChatOpenAI` was deprecated in LangChain 0.0.10 and will be removed in 1.0. An updated version of the class exists in the :class:`~langchain-openai package and should be used instead. To use it run `pip install -U :class:`~langchain-openai` and import as `from :class:`~langchain_openai import ChatOpenAI``.\n",
      "  llm = ChatOpenAI(model=\"gpt-4.1-mini-2025-04-14\", openai_api_key=openai_api_key)\n"
     ]
    }
   ],
   "source": [
    "load_dotenv()\n",
    "openai_api_key=os.getenv('OPENAI_API_KEY')\n",
    "llm = ChatOpenAI(model=\"gpt-4.1-mini-2025-04-14\", openai_api_key=openai_api_key)"
   ]
  },
  {
   "cell_type": "code",
   "execution_count": 3,
   "id": "631f8216",
   "metadata": {},
   "outputs": [],
   "source": [
    "# Definição do estado\n",
    "class State(dict):\n",
    "    mensagem: str\n",
    "    resumo: Optional[str]\n",
    "    valido: Optional[bool]\n",
    "    resultado: Optional[str]\n",
    "\n",
    "# Criar o estado inicial\n",
    "def criar_estado_inicial(texto):\n",
    "    return {\n",
    "        \"mensagem\": texto,\n",
    "        \"resumo\": None,\n",
    "        \"valido\": None,\n",
    "        \"resultado\": None\n",
    "    }\n",
    "\n",
    "# Nó 1: Gerar resumo\n",
    "def gerar_resumo(state):\n",
    "    prompt = ChatPromptTemplate.from_template(\n",
    "        \"Resuma o texto abaixo em até 30 palavras:\\n{mensagem}\"\n",
    "    )\n",
    "    resposta = llm.invoke(prompt.format_messages(mensagem=state[\"mensagem\"]))\n",
    "    state[\"resumo\"] = resposta.content.strip()\n",
    "    return state\n",
    "\n",
    "# Nó 2: Verificar resumo\n",
    "def verificar_resumo(state):\n",
    "    palavras = state[\"resumo\"].split()\n",
    "    if len(palavras) <= 30:\n",
    "        state[\"valido\"] = True\n",
    "        state[\"resultado\"] = f\"Resumo aprovado com {len(palavras)} palavras:\\n{state['resumo']}\"\n",
    "    else:\n",
    "        state[\"valido\"] = False\n",
    "    return state\n",
    "\n",
    "# Função condicional: decidir próximo passo\n",
    "def decidir_proximo(state):\n",
    "    if state[\"valido\"]:\n",
    "        return \"finalizar\"\n",
    "    else:\n",
    "        return \"gerar_resumo\"\n",
    "\n",
    "# Nó 3: Finalizar\n",
    "def finalizar(state):\n",
    "    return state"
   ]
  },
  {
   "cell_type": "code",
   "execution_count": 4,
   "id": "f762232b",
   "metadata": {},
   "outputs": [],
   "source": [
    "graph = StateGraph(State)\n",
    "\n",
    "graph.add_node(\"gerar_resumo\", gerar_resumo)\n",
    "graph.add_node(\"verificar_resumo\", verificar_resumo)\n",
    "graph.add_node(\"finalizar\", finalizar)\n",
    "\n",
    "graph.set_entry_point(\"gerar_resumo\")\n",
    "graph.add_edge(\"gerar_resumo\", \"verificar_resumo\")\n",
    "graph.add_conditional_edges(\"verificar_resumo\", decidir_proximo)\n",
    "graph.add_edge(\"finalizar\", END)\n",
    "\n",
    "app = graph.compile()\n"
   ]
  },
  {
   "cell_type": "code",
   "execution_count": 5,
   "id": "736d07ef",
   "metadata": {},
   "outputs": [
    {
     "data": {
      "image/png": "[encoded data removed]",
      "text/plain": [
       "<IPython.core.display.Image object>"
      ]
     },
     "metadata": {},
     "output_type": "display_data"
    }
   ],
   "source": [
    "display(Image(app.get_graph().draw_mermaid_png()))"
   ]
  },
  {
   "cell_type": "code",
   "execution_count": 8,
   "id": "b946a2a7",
   "metadata": {},
   "outputs": [
    {
     "name": "stdout",
     "output_type": "stream",
     "text": [
      "\n",
      "--- Resultado Final ---\n",
      "Resumo aprovado com 20 palavras:\n",
      "LangGraph é um framework para criar agentes baseados em grafos, suportando execução condicional, paralela, ciclos e integração com ferramentas externas.\n"
     ]
    }
   ],
   "source": [
    "texto = (\n",
    "    \"LangGraph é um framework que facilita a criação de agentes baseados em grafos, \"\n",
    "    \"permitindo execução condicional, paralela e ciclos de interação, além de integração com ferramentas externas.\"\n",
    ")\n",
    "\n",
    "estado = criar_estado_inicial(texto)\n",
    "resultado = app.invoke(estado)\n",
    "\n",
    "print(\"\\n--- Resultado Final ---\")\n",
    "print(resultado[\"resultado\"])\n"
   ]
  },
  {
   "cell_type": "code",
   "execution_count": null,
   "id": "cb5a42ee",
   "metadata": {},
   "outputs": [],
   "source": []
  }
 ],
 "metadata": {
  "kernelspec": {
   "display_name": "env_gen_ai",
   "language": "python",
   "name": "python3"
  },
  "language_info": {
   "codemirror_mode": {
    "name": "ipython",
    "version": 3
   },
   "file_extension": ".py",
   "mimetype": "text/x-python",
   "name": "python",
   "nbconvert_exporter": "python",
   "pygments_lexer": "ipython3",
   "version": "3.10.14"
  }
 },
 "nbformat": 4,
 "nbformat_minor": 5
}
