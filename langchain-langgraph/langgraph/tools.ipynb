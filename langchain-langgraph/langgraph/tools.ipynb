{
 "cells": [
  {
   "cell_type": "code",
   "execution_count": 1,
   "id": "d7cfe965",
   "metadata": {},
   "outputs": [],
   "source": [
    "!pip install --quiet wikipedia==1.4.0 langchain-core==0.3.59"
   ]
  },
  {
   "cell_type": "code",
   "execution_count": 2,
   "id": "05947220",
   "metadata": {},
   "outputs": [],
   "source": [
    "from typing import Annotated\n",
    "import wikipedia\n",
    "from langchain_core.tools import tool"
   ]
  },
  {
   "cell_type": "code",
   "execution_count": 3,
   "id": "2c42dc1b",
   "metadata": {},
   "outputs": [],
   "source": [
    "@tool\n",
    "def wikipedia_tool(\n",
    "    query: Annotated[str, \"The Wikipedia search to execute to find key summary information.\"],\n",
    "):\n",
    "    \"\"\"Use this to search Wikipedia for factual information.\"\"\"\n",
    "    try:\n",
    "        # Step 1: Search using query\n",
    "        results = wikipedia.search(query)\n",
    "        \n",
    "        if not results:\n",
    "            return \"No results found on Wikipedia.\"\n",
    "        \n",
    "        # Step 2: Retrieve page title\n",
    "        title = results[0]\n",
    "\n",
    "        # Step 3: Fetch summary\n",
    "        summary = wikipedia.summary(title, sentences=8, auto_suggest=False, redirect=True)\n",
    "    except BaseException as e:\n",
    "        return f\"Failed to execute. Error: {repr(e)}\"\n",
    "    return f\"Successfully executed:\\nWikipedia summary: {summary}\""
   ]
  },
  {
   "cell_type": "code",
   "execution_count": 4,
   "id": "e78f2880",
   "metadata": {},
   "outputs": [
    {
     "name": "stdout",
     "output_type": "stream",
     "text": [
      "Successfully executed:\n",
      "Wikipedia summary: Apple Inc. is an American multinational corporation and technology company headquartered in Cupertino, California, in Silicon Valley. It is best known for its consumer electronics, software, and services. Founded in 1976 as Apple Computer Company by Steve Jobs, Steve Wozniak and Ronald Wayne, the company was incorporated by Jobs and Wozniak as Apple Computer, Inc. the following year. It was renamed Apple Inc. in 2007 as the company had expanded its focus from computers to consumer electronics. Apple is considered part of the Big Tech group, alongside Nvidia, Microsoft, Alphabet, Amazon, and Meta.\n"
     ]
    }
   ],
   "source": [
    "# Test with Apple query\n",
    "company_name = \"Apple Inc.\"\n",
    "wiki_summary = wikipedia_tool.invoke(f\"{company_name}\")\n",
    "print(wiki_summary)"
   ]
  },
  {
   "cell_type": "code",
   "execution_count": 5,
   "id": "8ea0d30e",
   "metadata": {},
   "outputs": [],
   "source": [
    "!pip install --quiet langchain-core==0.3.59"
   ]
  },
  {
   "cell_type": "code",
   "execution_count": 6,
   "id": "594aa101",
   "metadata": {},
   "outputs": [],
   "source": [
    "import os\n",
    "from typing import Annotated\n",
    "import pandas as pd\n",
    "from langchain_core.tools import tool"
   ]
  },
  {
   "cell_type": "code",
   "execution_count": 7,
   "id": "eb670ab2",
   "metadata": {},
   "outputs": [],
   "source": [
    "@tool\n",
    "def stock_data_tool(\n",
    "    company_ticker: Annotated[str, \"The ticker symbol of the company to retrieve their stock performance data.\"], \n",
    "    num_days: Annotated[int, \"The number of days of stock data required to respond to the user query.\"]\n",
    ") -> str:\n",
    "    \"\"\"\n",
    "    Use this to look-up stock performance data for companies to retrieve a table from a CSV. You may need to convert company names into ticker symbols to call this function, e.g, Apple Inc. -> AAPL, and you may need to convert weeks, months, and years, into days.\n",
    "    \"\"\"\n",
    "    \n",
    "    # Load the CSV for the company requested\n",
    "    file_path = f\"data/{company_ticker}.csv\"\n",
    "\n",
    "    if os.path.exists(file_path) is False:\n",
    "        return f\"Sorry, but data for company {company_ticker} is not available. Please try Apple, Amazon, Meta, Microsoft, Netflix, or Tesla.\"\n",
    "    \n",
    "    stock_df = pd.read_csv(file_path, index_col='Date', parse_dates=True)\n",
    "\n",
    "    # Ensure the index is in date format\n",
    "    stock_df.index = stock_df.index.date\n",
    "    \n",
    "    # Maximum num_days supported by the dataset\n",
    "    max_num_days = (stock_df.index.max() - stock_df.index.min()).days\n",
    "    \n",
    "    if num_days > max_num_days:\n",
    "        return \"Sorry, but this time period exceeds the data available. Please reduce it to continue.\"\n",
    "    \n",
    "    # Get the most recent date in the DataFrame\n",
    "    final_date = stock_df.index.max()\n",
    "\n",
    "    # Filter the DataFrame to get the last num_days of stock data\n",
    "    filtered_df = stock_df[stock_df.index > (final_date - pd.Timedelta(days=num_days))]\n",
    "\n",
    "    return f\"Successfully executed the stock performance data retrieval tool to retrieve the last *{num_days} days* of data for company **{company_ticker}**:\\n\\n{filtered_df.to_markdown()}\""
   ]
  },
  {
   "cell_type": "code",
   "execution_count": 9,
   "id": "997e1801",
   "metadata": {},
   "outputs": [
    {
     "name": "stdout",
     "output_type": "stream",
     "text": [
      "Successfully executed the stock performance data retrieval tool to retrieve the last *4 days* of data for company **META**:\n",
      "\n",
      "|            | Close/Last   |   Volume | Open    | High    | Low       |\n",
      "|:-----------|:-------------|---------:|:--------|:--------|:----------|\n",
      "| 2025-05-28 | $643.58      |  9042874 | $642.60 | $650.88 | $642.5472 |\n",
      "| 2025-05-27 | $642.32      |  9508367 | $635.41 | $643.08 | $632.75   |\n"
     ]
    }
   ],
   "source": [
    "retrieved_data = stock_data_tool.invoke({\"company_ticker\": \"META\", \"num_days\": 4})\n",
    "print(retrieved_data)"
   ]
  },
  {
   "cell_type": "code",
   "execution_count": 10,
   "id": "b47a63ad",
   "metadata": {},
   "outputs": [],
   "source": [
    "!pip install --quiet langchain-core==0.3.59 langchain-experimental==0.3.4"
   ]
  },
  {
   "cell_type": "code",
   "execution_count": 11,
   "id": "24c10529",
   "metadata": {},
   "outputs": [],
   "source": [
    "from langchain_core.tools import tool\n",
    "from typing import Annotated\n",
    "from langchain_experimental.utilities import PythonREPL"
   ]
  },
  {
   "cell_type": "code",
   "execution_count": 12,
   "id": "802856ba",
   "metadata": {},
   "outputs": [],
   "source": [
    "repl = PythonREPL()"
   ]
  },
  {
   "cell_type": "code",
   "execution_count": 13,
   "id": "25e44f90",
   "metadata": {},
   "outputs": [
    {
     "name": "stderr",
     "output_type": "stream",
     "text": [
      "<>:11: SyntaxWarning: invalid escape sequence '\\`'\n",
      "<>:11: SyntaxWarning: invalid escape sequence '\\`'\n",
      "<>:11: SyntaxWarning: invalid escape sequence '\\`'\n",
      "<>:11: SyntaxWarning: invalid escape sequence '\\`'\n",
      "<>:11: SyntaxWarning: invalid escape sequence '\\`'\n",
      "<>:11: SyntaxWarning: invalid escape sequence '\\`'\n",
      "C:\\Users\\alber\\AppData\\Local\\Temp\\ipykernel_2548\\2913511864.py:11: SyntaxWarning: invalid escape sequence '\\`'\n",
      "  return f\"Successfully executed the Python REPL tool.\\n\\nPython code executed:\\n\\`\\`\\`python\\n{code}\\n\\`\\`\\`\\n\\nCode output:\\n\\`\\`\\`\\n{result}\\`\\`\\`\"\n",
      "C:\\Users\\alber\\AppData\\Local\\Temp\\ipykernel_2548\\2913511864.py:11: SyntaxWarning: invalid escape sequence '\\`'\n",
      "  return f\"Successfully executed the Python REPL tool.\\n\\nPython code executed:\\n\\`\\`\\`python\\n{code}\\n\\`\\`\\`\\n\\nCode output:\\n\\`\\`\\`\\n{result}\\`\\`\\`\"\n",
      "C:\\Users\\alber\\AppData\\Local\\Temp\\ipykernel_2548\\2913511864.py:11: SyntaxWarning: invalid escape sequence '\\`'\n",
      "  return f\"Successfully executed the Python REPL tool.\\n\\nPython code executed:\\n\\`\\`\\`python\\n{code}\\n\\`\\`\\`\\n\\nCode output:\\n\\`\\`\\`\\n{result}\\`\\`\\`\"\n"
     ]
    }
   ],
   "source": [
    "@tool\n",
    "def python_repl_tool(\n",
    "    code: Annotated[str, \"The python code to execute to generate your chart.\"],\n",
    "):\n",
    "    \"\"\"Use this to execute python code. If you want to see the output of a value,\n",
    "    you should print it out with `print(...)`. This is visible to the user. The chart should be displayed using `plt.show()`.\"\"\"\n",
    "    try:\n",
    "        result = repl.run(code)\n",
    "    except BaseException as e:\n",
    "        return f\"Failed to execute. Error: {repr(e)}\"\n",
    "    return f\"Successfully executed the Python REPL tool.\\n\\nPython code executed:\\n\\`\\`\\`python\\n{code}\\n\\`\\`\\`\\n\\nCode output:\\n\\`\\`\\`\\n{result}\\`\\`\\`\""
   ]
  },
  {
   "cell_type": "code",
   "execution_count": 14,
   "id": "ec18ca5d",
   "metadata": {},
   "outputs": [
    {
     "name": "stderr",
     "output_type": "stream",
     "text": [
      "Python REPL can execute arbitrary code. Use with caution.\n"
     ]
    },
    {
     "name": "stdout",
     "output_type": "stream",
     "text": [
      "Successfully executed the Python REPL tool.\n",
      "\n",
      "Python code executed:\n",
      "\\`\\`\\`python\n",
      "\n",
      "import numpy as np\n",
      "\n",
      "arr = np.arange(0, 9)\n",
      "print(arr)\n",
      "print(2 * arr)\n",
      "\n",
      "\\`\\`\\`\n",
      "\n",
      "Code output:\n",
      "\\`\\`\\`\n",
      "[0 1 2 3 4 5 6 7 8]\n",
      "[ 0  2  4  6  8 10 12 14 16]\n",
      "\\`\\`\\`\n"
     ]
    }
   ],
   "source": [
    "code = f\"\"\"\n",
    "import numpy as np\n",
    "\n",
    "arr = np.arange(0, 9)\n",
    "print(arr)\n",
    "print(2 * arr)\n",
    "\"\"\"\n",
    "\n",
    "print(python_repl_tool.invoke({\"code\": code}))"
   ]
  },
  {
   "cell_type": "code",
   "execution_count": null,
   "id": "e317cf8e",
   "metadata": {},
   "outputs": [],
   "source": []
  },
  {
   "cell_type": "code",
   "execution_count": null,
   "id": "7f29caf2",
   "metadata": {},
   "outputs": [],
   "source": []
  }
 ],
 "metadata": {
  "kernelspec": {
   "display_name": "venv-genai",
   "language": "python",
   "name": "python3"
  },
  "language_info": {
   "codemirror_mode": {
    "name": "ipython",
    "version": 3
   },
   "file_extension": ".py",
   "mimetype": "text/x-python",
   "name": "python",
   "nbconvert_exporter": "python",
   "pygments_lexer": "ipython3",
   "version": "3.12.10"
  }
 },
 "nbformat": 4,
 "nbformat_minor": 5
}
