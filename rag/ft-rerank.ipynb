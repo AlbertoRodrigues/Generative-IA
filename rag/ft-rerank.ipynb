{
 "cells": [
  {
   "cell_type": "code",
   "execution_count": 33,
   "id": "f3afef10",
   "metadata": {},
   "outputs": [
    {
     "name": "stderr",
     "output_type": "stream",
     "text": [
      "c:\\Users\\alber\\Desktop\\projetos\\Generative-IA\\venv-genai\\Lib\\site-packages\\torch\\utils\\data\\dataloader.py:665: UserWarning: 'pin_memory' argument is set as true but no accelerator is found, then device pinned memory won't be used.\n",
      "  warnings.warn(warn_msg)\n"
     ]
    },
    {
     "data": {
      "text/html": [
       "\n",
       "    <div>\n",
       "      \n",
       "      <progress value='3' max='3' style='width:300px; height:20px; vertical-align: middle;'></progress>\n",
       "      [3/3 00:00, Epoch 3/3]\n",
       "    </div>\n",
       "    <table border=\"1\" class=\"dataframe\">\n",
       "  <thead>\n",
       " <tr style=\"text-align: left;\">\n",
       "      <th>Step</th>\n",
       "      <th>Training Loss</th>\n",
       "    </tr>\n",
       "  </thead>\n",
       "  <tbody>\n",
       "  </tbody>\n",
       "</table><p>"
      ],
      "text/plain": [
       "<IPython.core.display.HTML object>"
      ]
     },
     "metadata": {},
     "output_type": "display_data"
    },
    {
     "data": {
      "text/plain": [
       "TrainOutput(global_step=3, training_loss=0.6599229176839193, metrics={'train_runtime': 1.2103, 'train_samples_per_second': 4.957, 'train_steps_per_second': 2.479, 'total_flos': 0.0, 'train_loss': 0.6599229176839193, 'epoch': 3.0})"
      ]
     },
     "execution_count": 33,
     "metadata": {},
     "output_type": "execute_result"
    }
   ],
   "source": [
    "from sentence_transformers.cross_encoder import CrossEncoder, CrossEncoderTrainer, losses\n",
    "from datasets import Dataset\n",
    "\n",
    "model = CrossEncoder(\"models/MiniLM-ms-marco-L2-v2\")\n",
    "train_dataset = Dataset.from_dict({\n",
    "    \"query\": [\"What are pandas?\", \"What is the capital of France?\"],\n",
    "    \"docs\": [\n",
    "        [\"Pandas are a kind of bear.\", \"Pandas are kind of like fish.\"],\n",
    "        [\"The capital of France is Paris.\", \"Paris is the capital of France.\", \"Paris is quite large.\"],\n",
    "    ],\n",
    "    \"labels\": [[1, 0], [1, 1, 0]],\n",
    "})\n",
    "loss = losses.RankNetLoss(model)\n",
    "\n",
    "trainer = CrossEncoderTrainer(\n",
    "    model=model,\n",
    "    train_dataset=train_dataset,\n",
    "    loss=loss,\n",
    ")\n",
    "trainer.train()\n"
   ]
  },
  {
   "cell_type": "code",
   "execution_count": 34,
   "id": "3b845425",
   "metadata": {},
   "outputs": [],
   "source": [
    "model.save(\"models/ce-minilm-l2-ranknet-listwise\")\n"
   ]
  },
  {
   "cell_type": "code",
   "execution_count": 37,
   "id": "f77d696f",
   "metadata": {},
   "outputs": [
    {
     "name": "stdout",
     "output_type": "stream",
     "text": [
      "Documento                                Score (pretrained) Score (finetuned)\n",
      "Paris is the capital of France.          8.2788            8.3409\n",
      "Marseille is a city in France.           -3.5645           -3.8661\n",
      "Berlin is the capital of Germany.        -2.9833           -2.9342\n"
     ]
    }
   ],
   "source": [
    "from sentence_transformers.cross_encoder import CrossEncoder\n",
    "\n",
    "# Dados de exemplo (mesmo formato do seu treino/listwise)\n",
    "query = \"What is the capital of France?\"\n",
    "docs = [\n",
    "    \"Paris is the capital of France.\",\n",
    "    \"Marseille is a city in France.\",\n",
    "    \"Berlin is the capital of Germany.\"\n",
    "]\n",
    "\n",
    "pairs = [(query, doc) for doc in docs]\n",
    "\n",
    "# Carregue o modelo pré-treinado\n",
    "model_pretrained = CrossEncoder(\"models/MiniLM-ms-marco-L2-v2\")\n",
    "scores_pretrained = model_pretrained.predict(pairs)\n",
    "\n",
    "# Carregue o modelo fine-tunado\n",
    "model_finetuned = CrossEncoder(\"models/ce-minilm-l2-ranknet-listwise\")\n",
    "scores_finetuned = model_finetuned.predict(pairs)\n",
    "\n",
    "# Exiba os resultados lado a lado\n",
    "print(\"Documento\".ljust(40), \"Score (pretrained)\", \"Score (finetuned)\")\n",
    "for doc, score_pre, score_fine in zip(docs, scores_pretrained, scores_finetuned):\n",
    "    print(doc.ljust(40), f\"{score_pre:.4f}\".ljust(17), f\"{score_fine:.4f}\")\n"
   ]
  },
  {
   "cell_type": "code",
   "execution_count": 40,
   "id": "fd95064b",
   "metadata": {},
   "outputs": [
    {
     "name": "stdout",
     "output_type": "stream",
     "text": [
      "\n",
      "Query: What are pandas?\n",
      "----------------------\n",
      "Document                                            Pretrained    Finetuned\n",
      "Pandas are a kind of bear.                          8.1072        8.1414\n",
      "Pandas are kind of like fish.                       7.6291        6.9827\n",
      "\n",
      "Query: What is the capital of France?\n",
      "------------------------------------\n",
      "Document                                            Pretrained    Finetuned\n",
      "Paris is the capital of France.                     8.2788        8.3409\n",
      "Marseille is a city in France.                      -3.5645        -3.8661\n",
      "Berlin is the capital of Germany.                   -2.9833        -2.9342\n"
     ]
    }
   ],
   "source": [
    "from sentence_transformers.cross_encoder import CrossEncoder\n",
    "\n",
    "# 1) Defina suas queries e docs de teste\n",
    "test_data = {\n",
    "    \"What are pandas?\": [\n",
    "        \"Pandas are a kind of bear.\",\n",
    "        \"Pandas are kind of like fish.\"\n",
    "    ],\n",
    "    \"What is the capital of France?\": [\n",
    "        \"Paris is the capital of France.\",\n",
    "        \"Marseille is a city in France.\",\n",
    "        \"Berlin is the capital of Germany.\"\n",
    "    ]\n",
    "}\n",
    "\n",
    "# 2) Prepare os pares (query, doc)\n",
    "pairs_list = []\n",
    "for query, docs in test_data.items():\n",
    "    for doc in docs:\n",
    "        pairs_list.append((query, doc))\n",
    "\n",
    "# 3) Carregue modelo base e modelo fine-tunado\n",
    "model_pre = CrossEncoder(\"models/MiniLM-ms-marco-L2-v2\", device=\"cpu\")\n",
    "model_fine = CrossEncoder(\"models/ce-minilm-l2-ranknet-listwise\", device=\"cpu\")\n",
    "\n",
    "# 4) Gere scores\n",
    "scores_pre = model_pre.predict(pairs_list)\n",
    "scores_fine = model_fine.predict(pairs_list)\n",
    "\n",
    "# 5) Exiba resultados agrupados por query\n",
    "idx = 0\n",
    "for query, docs in test_data.items():\n",
    "    print(f\"\\nQuery: {query}\")\n",
    "    print(\"-\" * (6 + len(query)))\n",
    "    print(f\"{'Document'.ljust(50)}  Pretrained    Finetuned\")\n",
    "    for doc in docs:\n",
    "        print(f\"{doc.ljust(50)}  {scores_pre[idx]:.4f}        {scores_fine[idx]:.4f}\")\n",
    "        idx += 1\n"
   ]
  }
 ],
 "metadata": {
  "kernelspec": {
   "display_name": "venv-genai",
   "language": "python",
   "name": "python3"
  },
  "language_info": {
   "codemirror_mode": {
    "name": "ipython",
    "version": 3
   },
   "file_extension": ".py",
   "mimetype": "text/x-python",
   "name": "python",
   "nbconvert_exporter": "python",
   "pygments_lexer": "ipython3",
   "version": "3.12.10"
  }
 },
 "nbformat": 4,
 "nbformat_minor": 5
}
