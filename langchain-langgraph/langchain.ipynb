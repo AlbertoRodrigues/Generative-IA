{
 "cells": [
  {
   "cell_type": "code",
   "execution_count": 4,
   "metadata": {},
   "outputs": [
    {
     "data": {
      "text/plain": [
       "True"
      ]
     },
     "execution_count": 4,
     "metadata": {},
     "output_type": "execute_result"
    }
   ],
   "source": [
    "from dotenv import load_dotenv\n",
    "from langchain_huggingface import HuggingFaceEndpoint\n",
    "import os\n",
    "from langchain_openai import OpenAI\n",
    "load_dotenv()"
   ]
  },
  {
   "cell_type": "code",
   "execution_count": 11,
   "metadata": {},
   "outputs": [
    {
     "name": "stdout",
     "output_type": "stream",
     "text": [
      "The token has not been saved to the git credentials helper. Pass `add_to_git_credential=True` in this function directly or `--add-to-git-credential` if using via `huggingface-cli` if you want to set the git credential as well.\n",
      "Token is valid (permission: read).\n",
      "Your token has been saved to C:\\Users\\alber\\.cache\\huggingface\\token\n",
      "Login successful\n"
     ]
    }
   ],
   "source": [
    "# Set your Hugging Face API token \n",
    "huggingfacehub_api_token = os.getenv('HF_API_KEY')\n",
    "\n",
    "# Define the LLM\n",
    "llm = HuggingFaceEndpoint(repo_id='tiiuae/falcon-7b-instruct', huggingfacehub_api_token=huggingfacehub_api_token)"
   ]
  },
  {
   "cell_type": "code",
   "execution_count": 12,
   "metadata": {},
   "outputs": [
    {
     "name": "stdout",
     "output_type": "stream",
     "text": [
      " in the winter, even if you don’t have access to a pool? Yes, you can! There are plenty of indoor water parks that will bring the fun of summer to you in the winter. Indoor water parks are often built into malls, hotels, and resorts and have become more popular in the past decade. They are often open year-round, so you can visit them in any season. These parks are not only for summer use, but can be a great way to spend a rainy day when you can’t go outside to play. In addition, indoor water parks are a great way to spend time with family and friends. Here are the top 10 indoor water parks in the USA.\n",
      "#10 – The Cove Resort in Asheville, NC\n",
      "#9 – Kalahari Resort in Milwaukee, WI\n",
      "#8 – Noah’s Ark in Kansas City, MO\n",
      "#7 – Cypress Creek Water Park in Amarillo, TX\n",
      "#6 – Kalahari Resort in Wisconsin Dells, WI\n",
      "#5 – Surfside Indoor Water Park in Denver, CO\n",
      "#4 – Tropical Splash Indoor Water Park in Gilbert, AZ\n",
      "#3 – Wild Waves Indoor Water Park in Federal Way, WA\n",
      "#2 – Desert Springs Resort and Spa in Palm Springs, CA\n",
      "#1 – Holiday Inn Resort Water Park in French Quarter, LA\n",
      "The Holiday Inn Resort Water Park is one of the top indoor water parks in the USA. It is a 200,000-square-foot water park that offers a variety of water slides, pools, and activities. There is also a spa and fitness center. The water park is open year-round and offers several water slide thrill rides, including the Cannonball Drop and Shark Attack.\n",
      "While you may not be able to go to the beach, you can still have fun in the sun. The next time you have a rainy day, consider visiting one of the top indoor water parks in the USA. You can also find indoor water parks that are open year-round.\n",
      "Related posts:\n",
      "- Top 10 Indoor Water Parks in the US\n",
      "- Top 10 Indoor Water Parks in the US\n",
      "- Top 10 Indoor Water Parks in the US\n",
      "- Top 10 Indoor Water Parks in the US\n",
      "- Top 10 Indoor Water Parks in the US\n",
      "- Top 10 Indoor Water Parks in the US\n",
      "- Top 10 Indoor Water Parks in the USA\n",
      "- Top 10 Indoor Water Parks in the USA\n"
     ]
    }
   ],
   "source": [
    "# Predict the words following the text in question\n",
    "question = 'Can you still have fun'\n",
    "output = llm.invoke(question)\n",
    "\n",
    "print(output)"
   ]
  },
  {
   "cell_type": "code",
   "execution_count": 2,
   "metadata": {},
   "outputs": [],
   "source": []
  },
  {
   "cell_type": "code",
   "execution_count": 8,
   "metadata": {},
   "outputs": [
    {
     "name": "stdout",
     "output_type": "stream",
     "text": [
      ".\n",
      "\n",
      "Properly caring for your shoes can extend their lifespan and keep them looking great. Here are some tips for taking care of your shoes:\n",
      "\n",
      "1. Store them properly: When you're not wearing your shoes, make sure to store them in a cool, dry place. Avoid leaving them in direct sunlight or in a damp area, as this can cause damage to the material.\n",
      "\n",
      "2. Clean them regularly: It's important to clean your shoes regularly to remove any dirt or debris that can build up and cause damage. Use a soft brush or cloth to gently wipe away any dirt. For tougher stains, use a mild soap and warm water.\n",
      "\n",
      "3. Protect them from the elements: If you're wearing leather or suede shoes, it's important to protect them from water and other elements that can cause damage. Use a waterproofing spray to help keep your shoes safe from the rain.\n",
      "\n",
      "4. Use shoe trees: Shoe trees help maintain the shape of your shoes and prevent them from developing creases. They also help absorb moisture and odor, keeping your shoes fresh.\n",
      "\n",
      "5. Rotate your shoes: Wearing the same pair of shoes every day can cause them to wear out faster. It's important to rotate your shoes and give them a break to allow them to dry out and\n"
     ]
    }
   ],
   "source": [
    "# Define the LLM\n",
    "llm = OpenAI(model=\"gpt-3.5-turbo-instruct\", api_key=os.getenv('OPENAI_API_KEY'))\n",
    "\n",
    "# Predict the words following the text in question\n",
    "question = 'Whatever you do, take care of your shoes'\n",
    "output = llm.invoke(question)\n",
    "\n",
    "print(output)"
   ]
  },
  {
   "cell_type": "code",
   "execution_count": 9,
   "metadata": {},
   "outputs": [],
   "source": [
    "from langchain_core.prompts import PromptTemplate"
   ]
  },
  {
   "cell_type": "code",
   "execution_count": 10,
   "metadata": {},
   "outputs": [
    {
     "name": "stdout",
     "output_type": "stream",
     "text": [
      "text='You are an artificial intelligence assistant, answer the question. What is LangChain?'\n"
     ]
    }
   ],
   "source": [
    "template = \"You are an artificial intelligence assistant, answer the question. {question}\"\n",
    "prompt_template = PromptTemplate(template=template, input_variables=[\"question\"])\n",
    "print(prompt_template.invoke({\"question\": \"What is LangChain?\"}))"
   ]
  },
  {
   "cell_type": "code",
   "execution_count": 13,
   "metadata": {},
   "outputs": [
    {
     "name": "stdout",
     "output_type": "stream",
     "text": [
      "The token has not been saved to the git credentials helper. Pass `add_to_git_credential=True` in this function directly or `--add-to-git-credential` if using via `huggingface-cli` if you want to set the git credential as well.\n",
      "Token is valid (permission: read).\n",
      "Your token has been saved to C:\\Users\\alber\\.cache\\huggingface\\token\n",
      "Login successful\n",
      "\n",
      "LangChain is a blockchain-based platform for language learning, where users can earn crypto tokens by completing lessons and engaging in language exchange activities.\n"
     ]
    }
   ],
   "source": [
    "llm = HuggingFaceEndpoint(repo_id='tiiuae/falcon-7b-instruct', huggingfacehub_api_token=huggingfacehub_api_token)\n",
    "llm_chain = prompt_template | llm\n",
    "question = \"What is LangChain?\"\n",
    "print(llm_chain.invoke({\"question\": question}))"
   ]
  },
  {
   "cell_type": "code",
   "execution_count": 17,
   "metadata": {},
   "outputs": [],
   "source": [
    "from langchain_core.prompts import ChatPromptTemplate"
   ]
  },
  {
   "cell_type": "code",
   "execution_count": 20,
   "metadata": {},
   "outputs": [],
   "source": [
    "# Create a chat prompt template\n",
    "prompt_template = ChatPromptTemplate.from_messages(\n",
    "    [\n",
    "        (\"system\", \"You are a helpful assistant.\"),\n",
    "        (\"human\", \"Respond to question: {question}\")\n",
    "    ]\n",
    ")"
   ]
  },
  {
   "cell_type": "code",
   "execution_count": 22,
   "metadata": {},
   "outputs": [],
   "source": [
    "from langchain_openai import ChatOpenAI"
   ]
  },
  {
   "cell_type": "code",
   "execution_count": 23,
   "metadata": {},
   "outputs": [
    {
     "name": "stdout",
     "output_type": "stream",
     "text": [
      "Retaining learning effectively involves a combination of strategies that enhance understanding, memory, and application of knowledge. Here are some techniques you can use:\n",
      "\n",
      "1. **Active Engagement**: Instead of passively reading or listening, engage with the material. Take notes, summarize information in your own words, or teach the content to someone else.\n",
      "\n",
      "2. **Spaced Repetition**: Use spaced repetition techniques to review material over increasing intervals of time. This helps reinforce memory and combat forgetting.\n",
      "\n",
      "3. **Practice Retrieval**: Test yourself regularly on the material you’ve learned. This could be through flashcards, quizzes, or practice exams. Retrieval practice strengthens memory.\n",
      "\n",
      "4. **Connect New Information**: Relate new knowledge to what you already know. Creating associations helps deepen understanding and makes it easier to recall information later.\n",
      "\n",
      "5. **Use Multiple Modalities**: Engage with the material through different formats—reading, watching videos, listening to podcasts, or discussing with others. This multi-sensory approach can enhance retention.\n",
      "\n",
      "6. **Create a Study Schedule**: Plan your study sessions and stick to a routine. Consistency helps reinforce learning and makes it easier to retain information over time.\n",
      "\n",
      "7. **Stay Organized**: Keep your notes and materials organized. A clear structure can help you find and review information more easily.\n",
      "\n",
      "8. **Take Breaks**: Incorporate breaks into your study sessions. Short breaks can help prevent burnout and improve focus when you return to studying.\n",
      "\n",
      "9. **Stay Healthy**: Ensure you’re getting enough sleep, eating well, and exercising. Physical health has a significant impact on cognitive function and memory.\n",
      "\n",
      "10. **Reflect on Learning**: Take time to reflect on what you’ve learned. Consider how it applies to real-life situations or how it connects to your goals.\n",
      "\n",
      "By incorporating these strategies into your learning routine, you can improve your ability to retain and recall information effectively.\n"
     ]
    }
   ],
   "source": [
    "# Chain the prompt template and model, and invoke the chain\n",
    "llm = ChatOpenAI(model=\"gpt-4o-mini-2024-07-18\", temperature=0, api_key=os.getenv('OPENAI_API_KEY'))\t\n",
    "llm_chain = prompt_template | llm\n",
    "response = llm_chain.invoke({\"question\": \"How can I retain learning?\"})\n",
    "print(response.content)"
   ]
  },
  {
   "cell_type": "code",
   "execution_count": 32,
   "metadata": {},
   "outputs": [
    {
     "name": "stdout",
     "output_type": "stream",
     "text": [
      "text='I want to learn how to play golf. Can you suggest how I can learn this step-by-step?'\n"
     ]
    }
   ],
   "source": [
    "# Create a prompt template that takes an input activity\n",
    "learning_prompt = PromptTemplate(\n",
    "    input_variables=[\"activity\"],\n",
    "    template=\"I want to learn how to {activity}. Can you suggest how I can learn this step-by-step?\"\n",
    ")\n",
    "\n",
    "# Create a prompt template that places a time constraint on the output\n",
    "time_prompt = PromptTemplate(\n",
    "    input_variables=[\"learning_plan\"],\n",
    "    template=\"I only have one week. Can you create a plan to help me hit this goal: {learning_plan}.\"\n",
    ")\n",
    "\n",
    "# Invoke the learning_prompt with an activity\n",
    "print(learning_prompt.invoke({\"activity\": \"play golf\"}))"
   ]
  },
  {
   "cell_type": "code",
   "execution_count": 33,
   "metadata": {},
   "outputs": [],
   "source": [
    "from langchain.schema import StrOutputParser"
   ]
  },
  {
   "cell_type": "code",
   "execution_count": 34,
   "metadata": {},
   "outputs": [
    {
     "name": "stdout",
     "output_type": "stream",
     "text": [
      "Given that you have only one week to start learning about generative AI, we can create a focused and intensive plan to help you make the most of your time. Here’s a structured 7-day plan that balances foundational knowledge, hands-on practice, and community engagement.\n",
      "\n",
      "### Day 1: Understand the Basics of AI and Machine Learning\n",
      "- **Morning**:\n",
      "  - **Online Course**: Enroll in an introductory AI course (e.g., \"AI For Everyone\" by Andrew Ng on Coursera).\n",
      "  - **Reading**: Read the first few chapters of \"Artificial Intelligence: A Modern Approach\" to grasp key concepts.\n",
      "\n",
      "- **Afternoon**:\n",
      "  - **Mathematics Review**: Watch Khan Academy videos on linear algebra and probability basics (focus on concepts relevant to AI).\n",
      "\n",
      "- **Evening**:\n",
      "  - **Summary**: Write a summary of what you learned today. Identify key terms and concepts.\n",
      "\n",
      "### Day 2: Dive into Deep Learning\n",
      "- **Morning**:\n",
      "  - **Deep Learning Course**: Start Andrew Ng’s Deep Learning Specialization (focus on the first course, \"Neural Networks and Deep Learning\").\n",
      "\n",
      "- **Afternoon**:\n",
      "  - **Framework Familiarization**: Install TensorFlow or PyTorch and follow a beginner tutorial to understand the basics of the framework.\n",
      "\n",
      "- **Evening**:\n",
      "  - **Hands-On Practice**: Implement a simple neural network using a dataset like MNIST.\n",
      "\n",
      "### Day 3: Explore Generative Models\n",
      "- **Morning**:\n",
      "  - **Research**: Read introductory articles on GANs, VAEs, and diffusion models. Use resources like Towards Data Science or Medium.\n",
      "\n",
      "- **Afternoon**:\n",
      "  - **Video Lectures**: Watch YouTube videos or lectures on GANs and VAEs to visualize how they work.\n",
      "\n",
      "- **Evening**:\n",
      "  - **Hands-On Practice**: Follow a tutorial to implement a basic GAN using TensorFlow or PyTorch.\n",
      "\n",
      "### Day 4: Hands-On Practice with Generative Models\n",
      "- **Morning**:\n",
      "  - **Project Work**: Continue working on your GAN project. Try generating images from the MNIST dataset.\n",
      "\n",
      "- **Afternoon**:\n",
      "  - **Explore VAEs**: Follow a tutorial to implement a Variational Autoencoder. Use a simple dataset for practice.\n",
      "\n",
      "- **Evening**:\n",
      "  - **Documentation**: Document your projects and note any challenges you faced and how you overcame them.\n",
      "\n",
      "### Day 5: Engage with the Community and Stay Updated\n",
      "- **Morning**:\n",
      "  - **Join Online Communities**: Sign up for Reddit (r/MachineLearning), Stack Overflow, and Discord servers related to AI.\n",
      "\n",
      "- **Afternoon**:\n",
      "  - **Follow Research**: Read recent papers on generative AI from arXiv.org. Focus on understanding the latest advancements.\n",
      "\n",
      "- **Evening**:\n",
      "  - **Networking**: Engage in discussions on forums or social media. Ask questions and share your learning journey.\n",
      "\n",
      "### Day 6: Advanced Topics and Specialization\n",
      "- **Morning**:\n",
      "  - **Advanced Techniques**: Watch videos or read articles on advanced topics like conditional GANs and transformers.\n",
      "\n",
      "- **Afternoon**:\n",
      "  - **Choose a Specialization**: Decide on an area of interest (e.g., text generation, image synthesis) and find resources to dive deeper.\n",
      "\n",
      "- **Evening**:\n",
      "  - **Plan a Mini-Project**: Outline a mini-project based on your chosen specialization. Identify the tools and datasets you will use.\n",
      "\n",
      "### Day 7: Build a Portfolio and Continuous Learning\n",
      "- **Morning**:\n",
      "  - **Portfolio Creation**: Set up a GitHub repository to showcase your projects. Include documentation and explanations.\n",
      "\n",
      "- **Afternoon**:\n",
      "  - **Open Source Contribution**: Look for beginner-friendly open-source projects related to generative AI on GitHub and contribute.\n",
      "\n",
      "- **Evening**:\n",
      "  - **Reflect and Plan**: Reflect on what you’ve learned over the week. Create a plan for continuous learning, including resources and topics to explore further.\n",
      "\n",
      "### Additional Tips:\n",
      "- **Stay Flexible**: Adjust the plan based on your pace and understanding. If a topic takes longer, feel free to spend more time on it.\n",
      "- **Practice Regularly**: Hands-on practice is crucial. Try to implement what you learn immediately.\n",
      "- **Stay Curious**: Keep exploring new resources, tutorials, and papers even after this week.\n",
      "\n",
      "By following this intensive plan, you’ll gain a solid foundation in generative AI and be well on your way to further exploration and specialization in the field. Good luck!\n"
     ]
    }
   ],
   "source": [
    "learning_prompt = PromptTemplate(\n",
    "    input_variables=[\"activity\"],\n",
    "    template=\"I want to learn how to {activity}. Can you suggest how I can learn this step-by-step?\"\n",
    ")\n",
    "\n",
    "time_prompt = PromptTemplate(\n",
    "    input_variables=[\"learning_plan\"],\n",
    "    template=\"I only have one week. Can you create a plan to help me hit this goal: {learning_plan}.\"\n",
    ")\n",
    "\n",
    "# Complete the sequential chain with LCEL\n",
    "seq_chain = ({\"learning_plan\": learning_prompt | llm | StrOutputParser()}\n",
    "    | time_prompt\n",
    "    | llm\n",
    "    | StrOutputParser())\n",
    "\n",
    "# Call the chain\n",
    "print(seq_chain.invoke({\"activity\": \"learn generative ai\"}))"
   ]
  },
  {
   "cell_type": "code",
   "execution_count": 35,
   "metadata": {},
   "outputs": [],
   "source": [
    "from langgraph.prebuilt import create_react_agent\n",
    "from langchain_community.agent_toolkits.load_tools import load_tools"
   ]
  },
  {
   "cell_type": "code",
   "execution_count": 36,
   "metadata": {},
   "outputs": [
    {
     "name": "stdout",
     "output_type": "stream",
     "text": [
      "As of 2023, the estimated population of New York City is approximately 8,258,035 people.\n"
     ]
    }
   ],
   "source": [
    "# Define the tools\n",
    "tools = load_tools([\"wikipedia\"])\n",
    "\n",
    "# Define the agent\n",
    "agent = create_react_agent(llm, tools)\n",
    "\n",
    "# Invoke the agent\n",
    "response = agent.invoke({\"messages\": [(\"human\", \"How many people live in New York City?\")]})\n",
    "print(response['messages'][-1].content)"
   ]
  },
  {
   "cell_type": "code",
   "execution_count": 38,
   "metadata": {},
   "outputs": [],
   "source": [
    "from langchain_core.tools import tool"
   ]
  },
  {
   "cell_type": "code",
   "execution_count": 40,
   "metadata": {},
   "outputs": [],
   "source": [
    "import pandas as pd\n",
    "\n",
    "# Dados\n",
    "data = {\n",
    "    \"id\": [101, 102, 103, 104, 105, 106, 107, 108, 109, 110],\n",
    "    \"name\": [\n",
    "        \"Tech Innovators Inc.\",\n",
    "        \"Green Solutions Ltd.\",\n",
    "        \"Global Enterprises\",\n",
    "        \"Peak Performance Co.\",\n",
    "        \"Visionary Ventures\",\n",
    "        \"NextGen Technologies\",\n",
    "        \"Dynamic Dynamics LLC\",\n",
    "        \"Infinity Services\",\n",
    "        \"Eco-Friendly Products\",\n",
    "        \"Future Insights\",\n",
    "    ],\n",
    "    \"subscription_type\": [\n",
    "        \"Premium\",\n",
    "        \"Standard\",\n",
    "        \"Basic\",\n",
    "        \"Premium\",\n",
    "        \"Standard\",\n",
    "        \"Basic\",\n",
    "        \"Premium\",\n",
    "        \"Standard\",\n",
    "        \"Basic\",\n",
    "        \"Premium\",\n",
    "    ],\n",
    "    \"active_users\": [450, 300, 150, 800, 600, 200, 700, 500, 100, 900],\n",
    "    \"auto_renewal\": [True, False, True, True, False, True, True, False, True, True],\n",
    "}\n",
    "\n",
    "# Criando o dataframe\n",
    "customers = pd.DataFrame(data)"
   ]
  },
  {
   "cell_type": "code",
   "execution_count": 41,
   "metadata": {},
   "outputs": [
    {
     "name": "stdout",
     "output_type": "stream",
     "text": [
      "**Customer Summary: Peak Performance Co.**\n",
      "\n",
      "- **ID:** 104\n",
      "- **Name:** Peak Performance Co.\n",
      "- **Subscription Type:** Premium\n",
      "- **Active Users:** 800\n",
      "- **Auto Renewal:** Yes\n"
     ]
    }
   ],
   "source": [
    "@tool\n",
    "def retrieve_customer_info(name: str) -> str:\n",
    "    \"\"\"Retrieve customer information based on their name.\"\"\"\n",
    "    customer_info = customers[customers['name'] == name]\n",
    "    return customer_info.to_string()\n",
    "\n",
    "# Create a ReAct agent\n",
    "agent = create_react_agent(llm, [retrieve_customer_info])\n",
    "\n",
    "# Invoke the agent on the input\n",
    "messages = agent.invoke({\"messages\": [(\"human\", \"Create a summary of our customer: Peak Performance Co.\")]})\n",
    "print(messages['messages'][-1].content)"
   ]
  },
  {
   "cell_type": "code",
   "execution_count": null,
   "metadata": {},
   "outputs": [],
   "source": []
  },
  {
   "cell_type": "code",
   "execution_count": null,
   "metadata": {},
   "outputs": [],
   "source": []
  }
 ],
 "metadata": {
  "kernelspec": {
   "display_name": "env_gen_ai",
   "language": "python",
   "name": "python3"
  },
  "language_info": {
   "codemirror_mode": {
    "name": "ipython",
    "version": 3
   },
   "file_extension": ".py",
   "mimetype": "text/x-python",
   "name": "python",
   "nbconvert_exporter": "python",
   "pygments_lexer": "ipython3",
   "version": "3.10.14"
  }
 },
 "nbformat": 4,
 "nbformat_minor": 2
}
