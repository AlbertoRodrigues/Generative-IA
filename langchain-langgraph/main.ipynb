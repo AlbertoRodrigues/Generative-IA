{
 "cells": [
  {
   "cell_type": "code",
   "execution_count": 4,
   "metadata": {},
   "outputs": [
    {
     "data": {
      "text/plain": [
       "True"
      ]
     },
     "execution_count": 4,
     "metadata": {},
     "output_type": "execute_result"
    }
   ],
   "source": [
    "# Module imports  \n",
    "from langchain_core.tools import tool  \n",
    "from langchain_openai import ChatOpenAI  \n",
    "from langgraph.prebuilt import create_react_agent\n",
    "from langchain_core.messages import  HumanMessage, AIMessage\n",
    "import math\n",
    "from dotenv import load_dotenv\n",
    "import os\n",
    "from langchain_openai import ChatOpenAI\n",
    "from typing import Annotated\n",
    "from typing_extensions import TypedDict\n",
    "from langgraph.graph import StateGraph, START, END, MessagesState\n",
    "from langgraph.graph.message import add_messages\n",
    "from langchain_community.utilities import WikipediaAPIWrapper\n",
    "from langchain_community.tools import WikipediaQueryRun\n",
    "from langgraph.prebuilt import ToolNode, tools_condition\n",
    "from langgraph.checkpoint.memory import MemorySaver\n",
    "from IPython.display import  Image, display\n",
    "load_dotenv()"
   ]
  },
  {
   "cell_type": "code",
   "execution_count": 2,
   "metadata": {},
   "outputs": [],
   "source": [
    "# LLM Setup\n",
    "model = ChatOpenAI(openai_api_key=os.getenv('OPENAI_API_KEY'), model=\"gpt-4o-mini-2024-07-18\")"
   ]
  },
  {
   "cell_type": "code",
   "execution_count": 3,
   "metadata": {},
   "outputs": [],
   "source": [
    "@tool\n",
    "def hypotenuse_length(input: str) -> float:\n",
    "    \"\"\"Calculates the length of the hypotenuse of a right-angled triangle given the lengths of the other two sides.\"\"\"\n",
    "    \n",
    "    # Split the input string to get the lengths of the triangle\n",
    "    sides = input.split(',')\n",
    "    \n",
    "    # Convert the input values to floats, removing extra spaces\n",
    "    a = float(sides[0].strip())\n",
    "    b = float(sides[1].strip())\n",
    "    \n",
    "    # Square each of the values, add them together, and find the square root \n",
    "    return math.sqrt(a**2 + b**2)"
   ]
  },
  {
   "cell_type": "code",
   "execution_count": 4,
   "metadata": {},
   "outputs": [],
   "source": [
    "# Create a query using natural language\n",
    "query = \"What is the hypotenuse length of a triangle with side lengths of 10 and 12?\"\n",
    "\n",
    "# Pass in the hypotenuse length tool and create the agent\n",
    "app = create_react_agent(model, [hypotenuse_length])"
   ]
  },
  {
   "cell_type": "code",
   "execution_count": 5,
   "metadata": {},
   "outputs": [
    {
     "name": "stdout",
     "output_type": "stream",
     "text": [
      "The length of the hypotenuse of the triangle with side lengths of 10 and 12 is approximately 15.62.\n"
     ]
    }
   ],
   "source": [
    "# Invoke the agent and print the response\n",
    "response = app.invoke({\"messages\": [(\"human\", query)]})\n",
    "print(response['messages'][-1].content)"
   ]
  },
  {
   "cell_type": "code",
   "execution_count": 6,
   "metadata": {},
   "outputs": [],
   "source": [
    "# Create the ReAct agent\n",
    "app = create_react_agent(model, [hypotenuse_length])"
   ]
  },
  {
   "cell_type": "code",
   "execution_count": 7,
   "metadata": {},
   "outputs": [
    {
     "name": "stdout",
     "output_type": "stream",
     "text": [
      "{'user_input': 'What is the hypotenuse length of a triangle with side lengths of 10 and 12?', 'agent_output': 'The length of the hypotenuse of a triangle with side lengths of 10 and 12 is approximately 15.62.'}\n"
     ]
    }
   ],
   "source": [
    "# Invoke the agent with a query and store the messages\n",
    "response = app.invoke({\"messages\": [(\"human\", query)]})\n",
    "\n",
    "# Define and print the input and output messages\n",
    "print({\n",
    "    \"user_input\": query,\n",
    "    \"agent_output\": response[\"messages\"][-1].content\n",
    "})"
   ]
  },
  {
   "cell_type": "code",
   "execution_count": 10,
   "metadata": {},
   "outputs": [
    {
     "data": {
      "text/plain": [
       "[HumanMessage(content='What is the hypotenuse length of a triangle with side lengths of 10 and 12?', id='744b5394-b447-4c05-82ec-6c684f815c25'),\n",
       " AIMessage(content='', additional_kwargs={'tool_calls': [{'id': 'call_leetsXeySYHn97ghTQ5oWBa7', 'function': {'arguments': '{\"input\":\"10,12\"}', 'name': 'hypotenuse_length'}, 'type': 'function'}], 'refusal': None}, response_metadata={'token_usage': {'completion_tokens': 20, 'prompt_tokens': 82, 'total_tokens': 102, 'completion_tokens_details': {'accepted_prediction_tokens': 0, 'audio_tokens': 0, 'reasoning_tokens': 0, 'rejected_prediction_tokens': 0}, 'prompt_tokens_details': {'audio_tokens': 0, 'cached_tokens': 0}}, 'model_name': 'gpt-4o-mini-2024-07-18', 'system_fingerprint': 'fp_0aa8d3e20b', 'finish_reason': 'tool_calls', 'logprobs': None}, id='run-c2786e26-9218-4a25-bc68-8552ca63de3f-0', tool_calls=[{'name': 'hypotenuse_length', 'args': {'input': '10,12'}, 'id': 'call_leetsXeySYHn97ghTQ5oWBa7', 'type': 'tool_call'}], usage_metadata={'input_tokens': 82, 'output_tokens': 20, 'total_tokens': 102}),\n",
       " ToolMessage(content='15.620499351813308', name='hypotenuse_length', id='716e50fc-f09e-451c-ab4a-ef8f857e7f9d', tool_call_id='call_leetsXeySYHn97ghTQ5oWBa7'),\n",
       " AIMessage(content='The length of the hypotenuse of a triangle with side lengths of 10 and 12 is approximately 15.62.', additional_kwargs={'refusal': None}, response_metadata={'token_usage': {'completion_tokens': 28, 'prompt_tokens': 118, 'total_tokens': 146, 'completion_tokens_details': {'accepted_prediction_tokens': 0, 'audio_tokens': 0, 'reasoning_tokens': 0, 'rejected_prediction_tokens': 0}, 'prompt_tokens_details': {'audio_tokens': 0, 'cached_tokens': 0}}, 'model_name': 'gpt-4o-mini-2024-07-18', 'system_fingerprint': 'fp_0aa8d3e20b', 'finish_reason': 'stop', 'logprobs': None}, id='run-b961fb72-0933-4000-afce-15a64e8c04e3-0', usage_metadata={'input_tokens': 118, 'output_tokens': 28, 'total_tokens': 146})]"
      ]
     },
     "execution_count": 10,
     "metadata": {},
     "output_type": "execute_result"
    }
   ],
   "source": [
    "response[\"messages\"]"
   ]
  },
  {
   "cell_type": "code",
   "execution_count": 11,
   "metadata": {},
   "outputs": [],
   "source": [
    "message_history = response[\"messages\"]\n",
    "new_query = \"What about one with sides 12 and 14?\""
   ]
  },
  {
   "cell_type": "code",
   "execution_count": 14,
   "metadata": {},
   "outputs": [],
   "source": [
    "# Invoke the app with the full message history\n",
    "response = app.invoke({\"messages\": message_history + [(\"human\", new_query)]})\n",
    "\n",
    "# Extract the human and AI messages from the result\n",
    "filtered_messages = [msg for msg in response[\"messages\"] if isinstance(msg, (HumanMessage, AIMessage)) and msg.content.strip()]"
   ]
  },
  {
   "cell_type": "code",
   "execution_count": 15,
   "metadata": {},
   "outputs": [
    {
     "name": "stdout",
     "output_type": "stream",
     "text": [
      "{'user_input': 'What about one with sides 12 and 14?', 'agent_output': ['HumanMessage: What is the hypotenuse length of a triangle with side lengths of 10 and 12?', 'AIMessage: The length of the hypotenuse of a triangle with side lengths of 10 and 12 is approximately 15.62.', 'HumanMessage: What about one with sides 12 and 14?', 'AIMessage: The length of the hypotenuse of a triangle with side lengths of 12 and 14 is approximately 18.44.']}\n"
     ]
    }
   ],
   "source": [
    "\n",
    "# Pass the new query as input and print the final outputs\n",
    "print({\n",
    "    \"user_input\": new_query,\n",
    "    \"agent_output\": [f\"{msg.__class__.__name__}: {msg.content}\" for msg in filtered_messages]\n",
    "})"
   ]
  },
  {
   "cell_type": "markdown",
   "metadata": {},
   "source": [
    "## LangGraph"
   ]
  },
  {
   "cell_type": "code",
   "execution_count": 14,
   "metadata": {},
   "outputs": [],
   "source": [
    "# Define the State\n",
    "class State(TypedDict):\n",
    "    \n",
    "    # Define messages with metadata\n",
    "    messages: Annotated[list, add_messages]\n",
    "\n",
    "# Initialize StateGraph\n",
    "graph_builder = StateGraph(State)"
   ]
  },
  {
   "cell_type": "code",
   "execution_count": 26,
   "metadata": {},
   "outputs": [],
   "source": [
    "# Define chatbot function to respond with the model\n",
    "def chatbot(state: State):\n",
    "    return {\"messages\": [model.invoke(state[\"messages\"])]}\n",
    "\n",
    "# Add chatbot node to the graph\n",
    "graph_builder.add_node(\"chatbot\", chatbot)\n",
    "\n",
    "# Define the start and end of the conversation flow\n",
    "graph_builder.add_edge(START, \"chatbot\")\n",
    "graph_builder.add_edge(\"chatbot\", END)\n",
    "\n",
    "# Compile the graph to prepare for execution\n",
    "graph = graph_builder.compile()"
   ]
  },
  {
   "cell_type": "code",
   "execution_count": 21,
   "metadata": {},
   "outputs": [],
   "source": [
    "# Define a function to execute the chatbot based on user input\n",
    "def stream_graph_updates(user_input: str):\n",
    "    \n",
    "    # Start streaming events from the graph with the user's input\n",
    "    for event in graph.stream({\"messages\": [(\"user\", user_input)]}):\n",
    "        \n",
    "        # Retrieve and print the chatbot node responses\n",
    "        for item in event.values():\n",
    "            print(\"Agent:\", item[\"messages\"])"
   ]
  },
  {
   "cell_type": "code",
   "execution_count": 27,
   "metadata": {},
   "outputs": [
    {
     "name": "stdout",
     "output_type": "stream",
     "text": [
      "Agent: [AIMessage(content=\"Ada Lovelace, born on December 10, 1815, was an English mathematician and writer, widely recognized as one of the first computer programmers. She is best known for her work on Charles Babbage's early mechanical general-purpose computer, the Analytical Engine. Lovelace's notes on the engine, particularly her description of an algorithm intended for implementation on the machine, are considered to be the first computer program.\\n\\nLovelace's contributions extended beyond mere programming; she also conceptualized the idea that machines could go beyond number-crunching to perform tasks related to any form of data, including music and graphics. Her vision of computing as a means to manipulate symbols and create complex outputs laid the groundwork for the later development of modern computing.\\n\\nIn recognition of her pioneering work, Ada Lovelace is often celebrated as a symbol of women in technology and computing. Ada Lovelace Day, held annually on the second Tuesday of October, aims to highlight the achievements of women in science, technology, engineering, and mathematics (STEM). Lovelace passed away on November 27, 1852, but her legacy continues to inspire generations of computer scientists and engineers.\", additional_kwargs={'refusal': None}, response_metadata={'token_usage': {'completion_tokens': 239, 'prompt_tokens': 14, 'total_tokens': 253, 'completion_tokens_details': {'accepted_prediction_tokens': 0, 'audio_tokens': 0, 'reasoning_tokens': 0, 'rejected_prediction_tokens': 0}, 'prompt_tokens_details': {'audio_tokens': 0, 'cached_tokens': 0}}, 'model_name': 'gpt-4o-mini-2024-07-18', 'system_fingerprint': 'fp_d02d531b47', 'finish_reason': 'stop', 'logprobs': None}, id='run-43dba1fb-d8f0-4512-8c9c-cf420237de20-0', usage_metadata={'input_tokens': 14, 'output_tokens': 239, 'total_tokens': 253})]\n"
     ]
    }
   ],
   "source": [
    "# Define the user query and run the chatbot\n",
    "user_query = \"Who is Ada Lovelace?\"\n",
    "stream_graph_updates(user_query)"
   ]
  },
  {
   "cell_type": "code",
   "execution_count": 18,
   "metadata": {},
   "outputs": [],
   "source": []
  },
  {
   "cell_type": "code",
   "execution_count": 30,
   "metadata": {},
   "outputs": [
    {
     "data": {
      "image/jpeg": "[encoded data removed]",
      "text/plain": [
       "<IPython.core.display.Image object>"
      ]
     },
     "metadata": {},
     "output_type": "display_data"
    }
   ],
   "source": [
    "display(Image(graph.get_graph().draw_mermaid_png()))"
   ]
  },
  {
   "cell_type": "code",
   "execution_count": 7,
   "metadata": {},
   "outputs": [],
   "source": []
  },
  {
   "cell_type": "code",
   "execution_count": 8,
   "metadata": {},
   "outputs": [],
   "source": [
    "# Initialize Wikipedia API wrapper to fetch top 1 result \n",
    "api_wrapper = WikipediaAPIWrapper(top_k_results=1)    \n",
    "# Create a Wikipedia query tool using the API wrapper \n",
    "wikipedia_tool = WikipediaQueryRun(api_wrapper=api_wrapper)  \n",
    "tools = [wikipedia_tool]"
   ]
  },
  {
   "cell_type": "code",
   "execution_count": 34,
   "metadata": {},
   "outputs": [],
   "source": [
    "# Bind the Wikipedia tool to the language model\n",
    "model_with_tools = model.bind_tools(tools)\n",
    "\n",
    "# Modify chatbot function to respond with Wikipedia\n",
    "def chatbot(state: State):\n",
    "    return {\"messages\": [model_with_tools.invoke(state[\"messages\"])]}"
   ]
  },
  {
   "cell_type": "code",
   "execution_count": 35,
   "metadata": {},
   "outputs": [],
   "source": []
  },
  {
   "cell_type": "code",
   "execution_count": 36,
   "metadata": {},
   "outputs": [
    {
     "data": {
      "image/jpeg": "[encoded data removed]",
      "text/plain": [
       "<IPython.core.display.Image object>"
      ]
     },
     "metadata": {},
     "output_type": "display_data"
    }
   ],
   "source": [
    "# Initialize StateGraph\n",
    "graph_builder = StateGraph(State)\n",
    "# Add chatbot node to the graph\n",
    "graph_builder.add_node(\"chatbot\", chatbot)\n",
    "\n",
    "# Create a ToolNode to handle tool calls and add it to the graph\n",
    "tool_node = ToolNode(tools=[wikipedia_tool])\n",
    "graph_builder.add_node(\"tools\", tool_node)\n",
    "\n",
    "# Set up a condition to direct from chatbot to tool or END node\n",
    "graph_builder.add_conditional_edges(\"chatbot\", tools_condition)\n",
    "\n",
    "# Connect tools back to chatbot and connect START and END nodes\n",
    "graph_builder.add_edge(\"tools\", \"chatbot\")\n",
    "graph_builder.add_edge(START, \"chatbot\")\n",
    "graph_builder.add_edge(\"chatbot\", END)\n",
    "\n",
    "graph = graph_builder.compile()\n",
    "display(Image(graph.get_graph().draw_mermaid_png()))"
   ]
  },
  {
   "cell_type": "code",
   "execution_count": 37,
   "metadata": {},
   "outputs": [
    {
     "name": "stdout",
     "output_type": "stream",
     "text": [
      "Agent: [AIMessage(content='', additional_kwargs={'tool_calls': [{'id': 'call_Jb13ZiW2fN105RmMqHizrHS9', 'function': {'arguments': '{\"query\":\"US Congress\"}', 'name': 'wikipedia'}, 'type': 'function'}], 'refusal': None}, response_metadata={'token_usage': {'completion_tokens': 15, 'prompt_tokens': 83, 'total_tokens': 98, 'completion_tokens_details': {'accepted_prediction_tokens': 0, 'audio_tokens': 0, 'reasoning_tokens': 0, 'rejected_prediction_tokens': 0}, 'prompt_tokens_details': {'audio_tokens': 0, 'cached_tokens': 0}}, 'model_name': 'gpt-4o-mini-2024-07-18', 'system_fingerprint': 'fp_d02d531b47', 'finish_reason': 'tool_calls', 'logprobs': None}, id='run-462ecf33-1407-4ed4-88bc-0b27dc887530-0', tool_calls=[{'name': 'wikipedia', 'args': {'query': 'US Congress'}, 'id': 'call_Jb13ZiW2fN105RmMqHizrHS9', 'type': 'tool_call'}], usage_metadata={'input_tokens': 83, 'output_tokens': 15, 'total_tokens': 98})]\n",
      "Agent: [ToolMessage(content=\"Page: United States Congress\\nSummary: The United States Congress is the legislature of the federal government of the United States. It is bicameral, composed of a lower body, the United States House of Representatives, and an upper body, the United States Senate. It meets in the United States Capitol in Washington, D.C. Members are chosen through direct election, though vacancies in the Senate may be filled by a governor's appointment. Congress has 535 voting members: 100 senators and 435 representatives. The vice president of the United States, as President of the Senate, has a vote in the Senate only when there is a tie. The House of Representatives has six non-voting members.\\nCongress convenes for a two-year term, commencing every other January. Elections are held every even-numbered year on Election Day. The members of the House of Representatives are elected for the two-year term of a Congress. The Reapportionment Act of 1929 established that there be 435 representatives, and the Uniform Congressional Redistricting Act requires that they be elected from single-member constituencies or districts. It is also required that the congressional districts be apportioned among states by population every ten years using the U.S. census results, provided that each state has at least one congressional representative. Each senator is elected at-large in their state for a six-year term, with terms staggered, so every two years approximately one-third of the Senate is up for election. Each state, regardless of population or size, has two senators, so currently, there are 100 senators for the 50 states.\\nArticle One of the U.S. Constitution requires that members of Congress be at least 25 years old for the House and at least 30 years old for the U.S. Senate, be a U.S. citizen for seven years for the House and nine years for the Senate, and be an inhabitant of the state which they represent. Members in both chambers may stand for re-election an unlimited number of times.\\nThe Congress was created by the U.S. Constitution and first met in 1789, replacing the Congress of the Confederation in its legislative function. Although not legally mandated, in practice since the 19th century, members of Congress are typically affiliated with one of the two major parties, the Democratic Party or the Republican Party, and only rarely with a third party or independents affiliated with no party. In the case of the latter, the lack of affiliation with a political party does not mean that such members are unable to caucus with members of the political parties. Members can also switch parties at any time, although this is quite uncommon.\\n\\n\", name='wikipedia', id='e2c825e4-dfaa-4d0a-a5a9-84567a27eb86', tool_call_id='call_Jb13ZiW2fN105RmMqHizrHS9')]\n",
      "Agent: [AIMessage(content='The United States Congress is the legislative body of the federal government of the United States. It is composed of two chambers: the United States House of Representatives (the lower body) and the United States Senate (the upper body). Congress meets in the United States Capitol in Washington, D.C., and consists of 535 voting members—100 senators and 435 representatives.\\n\\nKey points about the U.S. Congress include:\\n\\n- **Elections and Terms**: Members of the House of Representatives are elected for two-year terms, while senators serve six-year terms, with elections staggered so that approximately one-third of the Senate is up for election every two years. Congressional elections are held every even-numbered year on Election Day.\\n\\n- **Composition**: Each state has two senators, regardless of its population, leading to a total of 100 senators for the 50 states. The House of Representatives is apportioned based on state populations, with each state having at least one representative.\\n\\n- **Eligibility**: To be a member of the House, one must be at least 25 years old, a U.S. citizen for at least seven years, and an inhabitant of the state represented. For the Senate, the requirements are at least 30 years old, a U.S. citizen for nine years, and an inhabitant of the state represented.\\n\\n- **Political Affiliation**: While members of Congress may belong to various parties, they are typically affiliated with the two major parties: the Democratic Party and the Republican Party. Independent members can caucus with either party despite not being formally affiliated.\\n\\n- **Historical Context**: The Congress was established by the U.S. Constitution and first convened in 1789, replacing the Congress of the Confederation in its legislative role.\\n\\nFor more detailed information, please refer to the full article on [Wikipedia](https://en.wikipedia.org/wiki/United_States_Congress).', additional_kwargs={'refusal': None}, response_metadata={'token_usage': {'completion_tokens': 387, 'prompt_tokens': 639, 'total_tokens': 1026, 'completion_tokens_details': {'accepted_prediction_tokens': 0, 'audio_tokens': 0, 'reasoning_tokens': 0, 'rejected_prediction_tokens': 0}, 'prompt_tokens_details': {'audio_tokens': 0, 'cached_tokens': 0}}, 'model_name': 'gpt-4o-mini-2024-07-18', 'system_fingerprint': 'fp_d02d531b47', 'finish_reason': 'stop', 'logprobs': None}, id='run-9858f59a-2140-48ab-865c-6b6ec11b1a3d-0', usage_metadata={'input_tokens': 639, 'output_tokens': 387, 'total_tokens': 1026})]\n"
     ]
    }
   ],
   "source": [
    "def stream_tool_responses(user_input: str):\n",
    "    for event in graph.stream({\"messages\": [(\"user\", user_input)]}):\n",
    "        \n",
    "        # Return the agent's last response\n",
    "        for value in event.values():\n",
    "            print(\"Agent:\", value[\"messages\"])\n",
    "            \n",
    "# Define the query and run the chatbot\n",
    "user_query = \"US Congress\"\n",
    "stream_tool_responses(user_query)"
   ]
  },
  {
   "cell_type": "code",
   "execution_count": 16,
   "metadata": {},
   "outputs": [],
   "source": [
    "\n",
    "\n",
    "# Modify the graph with memory checkpointing\n",
    "memory = MemorySaver()"
   ]
  },
  {
   "cell_type": "code",
   "execution_count": 39,
   "metadata": {},
   "outputs": [],
   "source": [
    "# Initialize StateGraph\n",
    "graph_builder = StateGraph(State)\n",
    "# Add chatbot node to the graph\n",
    "graph_builder.add_node(\"chatbot\", chatbot)\n",
    "\n",
    "# Create a ToolNode to handle tool calls and add it to the graph\n",
    "tool_node = ToolNode(tools=[wikipedia_tool])\n",
    "graph_builder.add_node(\"tools\", tool_node)\n",
    "\n",
    "# Set up a condition to direct from chatbot to tool or END node\n",
    "graph_builder.add_conditional_edges(\"chatbot\", tools_condition)\n",
    "\n",
    "# Connect tools back to chatbot and connect START and END nodes\n",
    "graph_builder.add_edge(\"tools\", \"chatbot\")\n",
    "graph_builder.add_edge(START, \"chatbot\")\n",
    "graph_builder.add_edge(\"chatbot\", END)\n",
    "\n",
    "graph = graph_builder.compile(checkpointer=memory)"
   ]
  },
  {
   "cell_type": "code",
   "execution_count": 40,
   "metadata": {},
   "outputs": [],
   "source": [
    "# Set up a streaming function for a single user\n",
    "def stream_memory_responses(user_input: str):\n",
    "    config = {\"configurable\": {\"thread_id\": \"single_session_memory\"}}\n",
    "    # Stream the events in the graph\n",
    "    for event in graph.stream({\"messages\": [(\"user\", user_input)]}, config):\n",
    "        # Return the agent's last response\n",
    "        for value in event.values():\n",
    "            if \"messages\" in value and value[\"messages\"]:\n",
    "                print(\"Agent:\", value[\"messages\"])"
   ]
  },
  {
   "cell_type": "code",
   "execution_count": 41,
   "metadata": {},
   "outputs": [
    {
     "name": "stdout",
     "output_type": "stream",
     "text": [
      "Agent: [AIMessage(content='', additional_kwargs={'tool_calls': [{'id': 'call_wlVGWTqdWNcZtWRI9X8tvxGI', 'function': {'arguments': '{\"query\":\"Eiffel Tower\"}', 'name': 'wikipedia'}, 'type': 'function'}], 'refusal': None}, response_metadata={'token_usage': {'completion_tokens': 16, 'prompt_tokens': 88, 'total_tokens': 104, 'completion_tokens_details': {'accepted_prediction_tokens': 0, 'audio_tokens': 0, 'reasoning_tokens': 0, 'rejected_prediction_tokens': 0}, 'prompt_tokens_details': {'audio_tokens': 0, 'cached_tokens': 0}}, 'model_name': 'gpt-4o-mini-2024-07-18', 'system_fingerprint': 'fp_0aa8d3e20b', 'finish_reason': 'tool_calls', 'logprobs': None}, id='run-6cd2ceea-513e-48b2-aca3-cc99c9d3e084-0', tool_calls=[{'name': 'wikipedia', 'args': {'query': 'Eiffel Tower'}, 'id': 'call_wlVGWTqdWNcZtWRI9X8tvxGI', 'type': 'tool_call'}], usage_metadata={'input_tokens': 88, 'output_tokens': 16, 'total_tokens': 104})]\n",
      "Agent: [ToolMessage(content='Page: Eiffel Tower\\nSummary: The Eiffel Tower (  EYE-fəl; French: Tour Eiffel [tuʁ ɛfɛl] ) is a wrought-iron lattice tower on the Champ de Mars in Paris, France. It is named after the engineer Gustave Eiffel, whose company designed and built the tower from 1887 to 1889.\\nLocally nicknamed \"La dame de fer\" (French for \"Iron Lady\"), it was constructed as the centerpiece of the 1889 World\\'s Fair, and to crown the centennial anniversary of the French Revolution. Although initially criticised by some of France\\'s leading artists and intellectuals for its design, it has since become a global cultural icon of France and one of the most recognisable structures in the world. The tower received 5,889,000 visitors in 2022. The Eiffel Tower is the most visited monument with an entrance fee in the world: 6.91 million people ascended it in 2015. It was designated a monument historique in 1964, and was named part of a UNESCO World Heritage Site (\"Paris, Banks of the Seine\") in 1991.\\nThe tower is 330 metres (1,083 ft) tall, about the same height as an 81-storey building, and the tallest structure in Paris. Its base is square, measuring 125 metres (410 ft) on each side. During its construction, the Eiffel Tower surpassed the Washington Monument to become the tallest human-made structure in the world, a title it held for 41 years until the Chrysler Building in New York City was finished in 1930. It was the first structure in the world to surpass both the 200-metre and 300-metre mark in height. Due to the addition of a broadcasting aerial at the top of the tower in 1957, it is now taller than the Chrysler Building by 5.2 metres (17 ft). Excluding transmitters, the Eiffel Tower is the second tallest free-standing structure in France after the Millau Viaduct.\\nThe tower has three levels for visitors, with restaurants on the first and second levels. The top level\\'s upper platform is 276 m (906 ft) above the ground—the highest observation deck accessible to the public in the European Union. Tickets can be purchased to ascend by stairs or lift to the first and second levels. The climb from ground level to the first level is over 300 steps, as is the climb from the first level to the second, making the entire ascent a 600 step climb. Although there is a staircase to the top level, it is usually accessible only by lift. On this top, third level is a private apartment built for Gustave Eiffel\\'s personal use. He decorated it with furniture by Jean Lachaise and invited friends such as Thomas Edison.', name='wikipedia', id='ea064098-e1ba-401c-b5e0-3388ca691e21', tool_call_id='call_wlVGWTqdWNcZtWRI9X8tvxGI')]\n",
      "Agent: [AIMessage(content='The Eiffel Tower is a wrought-iron lattice tower located on the Champ de Mars in Paris, France. Named after the engineer Gustave Eiffel, whose company designed and built it from 1887 to 1889, the tower is locally nicknamed \"La dame de fer,\" meaning \"Iron Lady.\" It was constructed as the centerpiece for the 1889 World\\'s Fair, celebrating the centennial anniversary of the French Revolution.\\n\\nInitially, the Eiffel Tower faced criticism from some of France\\'s leading artists and intellectuals regarding its design. However, it has since become a global cultural icon of France and one of the most recognizable structures in the world. In 2022, the tower received 5,889,000 visitors, making it the most visited monument with an entrance fee globally.\\n\\nStanding at 330 meters (1,083 ft) tall, the Eiffel Tower is about the height of an 81-storey building and is the tallest structure in Paris. Its base is square, measuring 125 meters (410 ft) on each side. When it was completed, the Eiffel Tower surpassed the Washington Monument to become the tallest human-made structure in the world, a title it held for 41 years until the Chrysler Building was finished in 1930. It was also the first structure to exceed both the 200-meter and 300-meter height marks.\\n\\nThe tower has three visitor levels, with restaurants on the first and second levels. The highest observation deck, located on the third level, is 276 meters (906 ft) above ground, making it the highest accessible observation point in the European Union. Visitors can ascend the tower either by stairs or lift, with the climb to the first and second levels consisting of over 300 steps each. While there is a staircase to the top level, it is typically accessible only by lift. Gustave Eiffel\\'s private apartment is located on this top level, furnished with pieces by Jean Lachaise and visited by notable friends like Thomas Edison.\\n\\nThe Eiffel Tower was designated a monument historique in 1964 and became part of a UNESCO World Heritage Site called \"Paris, Banks of the Seine\" in 1991.', additional_kwargs={'refusal': None}, response_metadata={'token_usage': {'completion_tokens': 434, 'prompt_tokens': 684, 'total_tokens': 1118, 'completion_tokens_details': {'accepted_prediction_tokens': 0, 'audio_tokens': 0, 'reasoning_tokens': 0, 'rejected_prediction_tokens': 0}, 'prompt_tokens_details': {'audio_tokens': 0, 'cached_tokens': 0}}, 'model_name': 'gpt-4o-mini-2024-07-18', 'system_fingerprint': 'fp_0aa8d3e20b', 'finish_reason': 'stop', 'logprobs': None}, id='run-d89df27c-99ba-45b4-8572-e25e714b6b70-0', usage_metadata={'input_tokens': 684, 'output_tokens': 434, 'total_tokens': 1118})]\n",
      "Agent: [AIMessage(content='', additional_kwargs={'tool_calls': [{'id': 'call_8K850jvG9kB2bXKropXqGVuN', 'function': {'arguments': '{\"query\":\"Gustave Eiffel\"}', 'name': 'wikipedia'}, 'type': 'function'}], 'refusal': None}, response_metadata={'token_usage': {'completion_tokens': 17, 'prompt_tokens': 1128, 'total_tokens': 1145, 'completion_tokens_details': {'accepted_prediction_tokens': 0, 'audio_tokens': 0, 'reasoning_tokens': 0, 'rejected_prediction_tokens': 0}, 'prompt_tokens_details': {'audio_tokens': 0, 'cached_tokens': 1024}}, 'model_name': 'gpt-4o-mini-2024-07-18', 'system_fingerprint': 'fp_0aa8d3e20b', 'finish_reason': 'tool_calls', 'logprobs': None}, id='run-7a8e18d8-be52-4dff-a3ef-bf77f46bf86b-0', tool_calls=[{'name': 'wikipedia', 'args': {'query': 'Gustave Eiffel'}, 'id': 'call_8K850jvG9kB2bXKropXqGVuN', 'type': 'tool_call'}], usage_metadata={'input_tokens': 1128, 'output_tokens': 17, 'total_tokens': 1145})]\n",
      "Agent: [ToolMessage(content='Page: Gustave Eiffel\\nSummary: Alexandre Gustave Eiffel (  EYE-fəl, French: [alɛksɑ̃dʁ ɡystav ɛfɛl]; né Bonickhausen dit Eiffel; 15 December 1832 – 27 December 1923) was a French civil engineer. A graduate of École Centrale des Arts et Manufactures, he made his name with various bridges for the French railway network, most famously the Garabit Viaduct. He is best known for the world-famous Eiffel Tower, designed by his company and built for the 1889 Universal Exposition in Paris, and his contribution to building the Statue of Liberty in New York. After his retirement from engineering, Eiffel focused on research into meteorology and aerodynamics, making significant contributions in both fields.', name='wikipedia', id='932a2460-f6a2-426c-9c58-3839a6e8bb62', tool_call_id='call_8K850jvG9kB2bXKropXqGVuN')]\n",
      "Agent: [AIMessage(content='The Eiffel Tower was built by Alexandre Gustave Eiffel, a French civil engineer. Eiffel graduated from the École Centrale des Arts et Manufactures and initially gained recognition for designing various bridges for the French railway network, including the Garabit Viaduct. He is most famous for the Eiffel Tower, which was designed by his company and constructed for the 1889 Universal Exposition in Paris. \\n\\nIn addition to the Eiffel Tower, Gustave Eiffel also contributed to the construction of the Statue of Liberty in New York. After retiring from engineering, he focused on research in meteorology and aerodynamics, making significant advancements in those fields. He was born on December 15, 1832, and passed away on December 27, 1923.', additional_kwargs={'refusal': None}, response_metadata={'token_usage': {'completion_tokens': 152, 'prompt_tokens': 1318, 'total_tokens': 1470, 'completion_tokens_details': {'accepted_prediction_tokens': 0, 'audio_tokens': 0, 'reasoning_tokens': 0, 'rejected_prediction_tokens': 0}, 'prompt_tokens_details': {'audio_tokens': 0, 'cached_tokens': 1024}}, 'model_name': 'gpt-4o-mini-2024-07-18', 'system_fingerprint': 'fp_0aa8d3e20b', 'finish_reason': 'stop', 'logprobs': None}, id='run-da6120ef-ae52-4191-9bde-f0c22e5db415-0', usage_metadata={'input_tokens': 1318, 'output_tokens': 152, 'total_tokens': 1470})]\n"
     ]
    }
   ],
   "source": [
    "stream_memory_responses(\"Tell me about the Eiffel Tower.\")\n",
    "stream_memory_responses(\"Who built it?\")"
   ]
  },
  {
   "cell_type": "markdown",
   "metadata": {},
   "source": [
    "## Graph com múltiplas tools"
   ]
  },
  {
   "cell_type": "code",
   "execution_count": 22,
   "metadata": {},
   "outputs": [],
   "source": [
    "# Use a decorator to label the tool and set the input format to string\n",
    "@tool\n",
    "def historical_events(date_input: str) -> str:\n",
    "    \"\"\"Provide a list of important historical events for a given date in any format.\"\"\"\n",
    "    try:\n",
    "\n",
    "      \t# Invoke the LLM to interpret the date and generate historical events\n",
    "        response = model.invoke(f\"List important historical events that occurred on {date_input}.\")\n",
    "        \n",
    "        # Return the response\n",
    "        return response.content\n",
    "\n",
    "    # Set an exception block for errors in retrieval\n",
    "    except Exception as e:\n",
    "        return f\"Error retrieving events: {str(e)}\""
   ]
  },
  {
   "cell_type": "code",
   "execution_count": 6,
   "metadata": {},
   "outputs": [],
   "source": [
    "@tool\n",
    "# Set input format to string\n",
    "def palindrome_checker(text: str) -> str:\n",
    "    \"\"\"Check if a word or phrase is a palindrome.\"\"\"\n",
    "    \n",
    "    # Remove non-alphanumeric characters and convert to lowercase\n",
    "    cleaned_text = ''.join(char.lower() for char in text if char.isalnum())\n",
    "    \n",
    "    # Set up if-else block to check reversed text against original text\n",
    "    if cleaned_text == cleaned_text[::-1]:\n",
    "        return f\"The phrase or word '{text}' is a palindrome.\"\n",
    "    else:\n",
    "        # Print an alternative statement if text is not a palindrome\n",
    "        return f\"The phrase or word '{text}' is not a palindrome.\""
   ]
  },
  {
   "cell_type": "code",
   "execution_count": 23,
   "metadata": {},
   "outputs": [],
   "source": [
    "# List of tools\n",
    "tools = [wikipedia_tool, palindrome_checker, historical_events]\n",
    "\n",
    "# Pass the tools to the ToolNode()\n",
    "tool_node = ToolNode(tools)\n",
    "\n",
    "# Bind tools to the LLM\n",
    "model_with_tools = model.bind_tools(tools)"
   ]
  },
  {
   "cell_type": "code",
   "execution_count": 10,
   "metadata": {},
   "outputs": [],
   "source": [
    "\n",
    "# Use MessagesState to define the state of the stopping function\n",
    "def should_continue(state: MessagesState):\n",
    "    # Get the last message from the state\n",
    "    last_message = state[\"messages\"][-1]\n",
    "    # Check if the last message includes tool calls\n",
    "    if last_message.tool_calls:\n",
    "        return \"tools\"\n",
    "    # End the conversation if no tool calls are present\n",
    "    return END"
   ]
  },
  {
   "cell_type": "code",
   "execution_count": 11,
   "metadata": {},
   "outputs": [],
   "source": [
    "def call_model(state: MessagesState):\n",
    "    last_message = state[\"messages\"][-1]\n",
    "    # If the last message has tool calls, return the tool's response\n",
    "    if isinstance(last_message, AIMessage) and last_message.tool_calls:\n",
    "    # Return the messages from the tool call\n",
    "        return {\"messages\": [AIMessage(content=last_message.tool_calls[0][\"response\"])]}\n",
    "    # Otherwise, proceed with a regular LLM response\n",
    "    return {\"messages\": [model_with_tools.invoke(state[\"messages\"])]}"
   ]
  },
  {
   "cell_type": "code",
   "execution_count": 24,
   "metadata": {},
   "outputs": [
    {
     "data": {
      "image/jpeg": "[encoded data removed]",
      "text/plain": [
       "<IPython.core.display.Image object>"
      ]
     },
     "metadata": {},
     "output_type": "display_data"
    }
   ],
   "source": [
    "workflow = StateGraph(State)\n",
    "# Add nodes for chatbot and tools\n",
    "workflow.add_node(\"chatbot\", call_model)\n",
    "workflow.add_node(\"tools\", tool_node)\n",
    "\n",
    "# Connect the START node to the chatbot\n",
    "workflow.add_edge(START, \"chatbot\")\n",
    "# Define conditions, then loop back to chatbot\n",
    "workflow.add_conditional_edges(\"chatbot\", should_continue, [\"tools\", END])\n",
    "workflow.add_edge(\"tools\", \"chatbot\")\n",
    "\n",
    "# Set up memory and compile the workflow\n",
    "memory = MemorySaver()\n",
    "app = workflow.compile(checkpointer=memory)\n",
    "\n",
    "display(Image(app.get_graph().draw_mermaid_png()))"
   ]
  },
  {
   "cell_type": "code",
   "execution_count": 20,
   "metadata": {},
   "outputs": [],
   "source": [
    "from langchain_core.messages import AIMessage, HumanMessage\n",
    "config = {\"configurable\": {\"thread_id\": \"1\"}}\n",
    "# Create input message with the user's query\n",
    "def multi_tool_output(query):\n",
    "    inputs = {\"messages\": [HumanMessage(content=query)]}\n",
    "    # Stream messages and metadata from the chatbot application\n",
    "    for msg, metadata in app.stream(inputs, config, stream_mode=\"messages\"):\n",
    "    # Check if the message has content and is not from a human\n",
    "        if msg.content and not isinstance(msg, HumanMessage):\n",
    "            print(msg.content, end=\"\", flush=True)\n",
    "    print(\"\\n\")"
   ]
  },
  {
   "cell_type": "code",
   "execution_count": 25,
   "metadata": {},
   "outputs": [
    {
     "name": "stdout",
     "output_type": "stream",
     "text": [
      "The phrase or word 'may a moody baby doom a yam' is a palindrome.Yes, the phrase \"may a moody baby doom a yam\" is a palindrome.\n",
      "\n",
      "On July 20, 1969, one of the most significant events in human history took place: the Apollo 11 mission successfully landed the first humans on the Moon. Astronauts Neil Armstrong and Buzz Aldrin became the first and second people to walk on the lunar surface, while Michael Collins remained in orbit around the Moon in the command module. Armstrong's famous words as he stepped onto the Moon were, \"That's one small step for [a] man, one giant leap for mankind.\" This event marked a major milestone in the space race and the exploration of outer space.On July 20, 1969, one of the most significant events in human history took place: the Apollo 11 mission successfully landed the first humans on the Moon. Astronauts Neil Armstrong and Buzz Aldrin became the first and second people to walk on the lunar surface, while Michael Collins remained in orbit around the Moon in the command module. Armstrong's famous words as he stepped onto the Moon were, \"That's one small step for [a] man, one giant leap for mankind.\" This event marked a major milestone in the space race and the exploration of outer space.On July 20, 1969, the Apollo 11 mission successfully landed the first humans on the Moon. Astronauts Neil Armstrong and Buzz Aldrin became the first and second people to walk on the lunar surface, while Michael Collins remained in orbit around the Moon in the command module. Armstrong famously stated, \"That's one small step for [a] man, one giant leap for mankind,\" as he stepped onto the Moon. This event marked a major milestone in the space race and the exploration of outer space.\n",
      "\n"
     ]
    }
   ],
   "source": [
    "# Call the chatbot with different tools\n",
    "multi_tool_output(\"Is `may a moody baby doom a yam` a palindrome?\")\n",
    "multi_tool_output(\"What happened on 20th July, 1969?\")"
   ]
  },
  {
   "cell_type": "code",
   "execution_count": 26,
   "metadata": {},
   "outputs": [],
   "source": [
    "# Print the user query first for every interaction \n",
    "def user_agent_multiturn(queries):\n",
    "    for query in queries:\n",
    "        print(f\"User: {query}\")\n",
    "    # Stream through messages corresponding to queries, excluding metadata\n",
    "        print(\"Agent: \" + \"\".join(msg.content for msg, metadata in app.stream(\n",
    "    {\"messages\": [HumanMessage(content=query)]}, config, stream_mode=\"messages\")\n",
    "    # Filter out the human messages to print agent messages\n",
    "        if msg.content and not isinstance(msg, HumanMessage)) + \"\\n\")"
   ]
  },
  {
   "cell_type": "code",
   "execution_count": 27,
   "metadata": {},
   "outputs": [
    {
     "name": "stdout",
     "output_type": "stream",
     "text": [
      "User: Is `stressed desserts?` a palindrome?\n",
      "Agent: The phrase or word 'stressed desserts?' is a palindrome.Yes, the phrase \"stressed desserts?\" is a palindrome.\n",
      "\n",
      "User: What about the word `kayak`?\n",
      "Agent: The phrase or word 'kayak' is a palindrome.Yes, the word \"kayak\" is a palindrome.\n",
      "\n",
      "User: What happened on the May 8th, 1945?\n",
      "Agent: On May 8, 1945, several significant historical events occurred, the most notable being:\n",
      "\n",
      "1. **Victory in Europe Day (V-E Day)**: This day marked the official end of World War II in Europe. Germany's unconditional surrender to the Allied forces was ratified, leading to widespread celebrations across Europe and North America. It signified the defeat of Nazi Germany and the conclusion of the war in Europe, although fighting would continue in the Pacific until Japan's surrender later in 1945.\n",
      "\n",
      "2. **Surrender of German Forces**: The surrender was formally signed in multiple locations, including in Berlin and Reims, France. The surrender document included representatives from the Allied nations, solidifying the end of hostilities in Europe.\n",
      "\n",
      "3. **Allied Celebrations**: Cities across the Allied nations held massive celebrations, with parades, fireworks, and public gatherings, as people rejoiced at the end of years of brutal conflict that had resulted in immense loss of life and destruction.\n",
      "\n",
      "These events marked a pivotal moment in 20th-century history, shaping the future of Europe and international relations in the post-war era.On May 8, 1945, several significant historical events occurred, the most notable being:\n",
      "\n",
      "1. **Victory in Europe Day (V-E Day)**: This day marked the official end of World War II in Europe. Germany's unconditional surrender to the Allied forces was ratified, leading to widespread celebrations across Europe and North America. It signified the defeat of Nazi Germany and the conclusion of the war in Europe, although fighting would continue in the Pacific until Japan's surrender later in 1945.\n",
      "\n",
      "2. **Surrender of German Forces**: The surrender was formally signed in multiple locations, including in Berlin and Reims, France. The surrender document included representatives from the Allied nations, solidifying the end of hostilities in Europe.\n",
      "\n",
      "3. **Allied Celebrations**: Cities across the Allied nations held massive celebrations, with parades, fireworks, and public gatherings, as people rejoiced at the end of years of brutal conflict that had resulted in immense loss of life and destruction.\n",
      "\n",
      "These events marked a pivotal moment in 20th-century history, shaping the future of Europe and international relations in the post-war era.On May 8, 1945, several significant events occurred, most notably:\n",
      "\n",
      "1. **Victory in Europe Day (V-E Day)**: This day marked the official end of World War II in Europe. Germany's unconditional surrender to the Allied forces was ratified, leading to widespread celebrations across Europe and North America. It signified the defeat of Nazi Germany and the conclusion of the war in Europe, although fighting would continue in the Pacific until Japan's surrender later in 1945.\n",
      "\n",
      "2. **Surrender of German Forces**: The surrender was formally signed in multiple locations, including Berlin and Reims, France, with representatives from the Allied nations, solidifying the end of hostilities in Europe.\n",
      "\n",
      "3. **Allied Celebrations**: Cities across the Allied nations held massive celebrations, with parades, fireworks, and public gatherings, as people rejoiced at the end of years of brutal conflict that had resulted in immense loss of life and destruction.\n",
      "\n",
      "These events marked a pivotal moment in 20th-century history, shaping the future of Europe and international relations in the post-war era.\n",
      "\n",
      "User: What about 9 November 1989?\n",
      "Agent: On November 9, 1989, one of the most significant historical events of the 20th century took place: the fall of the Berlin Wall. This event marked the beginning of the end of the Cold War and was a pivotal moment in the history of Germany and Europe. The Berlin Wall had divided East and West Berlin since its construction in 1961, symbolizing the broader division between the communist Eastern Bloc and the democratic Western nations.\n",
      "\n",
      "The announcement by East German authorities that citizens could cross the border freely led to massive crowds gathering at the wall, and many people began to climb over it and celebrate the newfound freedom. The fall of the Berlin Wall not only signified the reunification of Germany but also inspired movements for democracy and reform across Eastern Europe, contributing to the eventual dissolution of the Soviet Union in 1991.On November 9, 1989, one of the most significant historical events of the 20th century took place: the fall of the Berlin Wall. This event marked the beginning of the end of the Cold War and was a pivotal moment in the history of Germany and Europe. The Berlin Wall had divided East and West Berlin since its construction in 1961, symbolizing the broader division between the communist Eastern Bloc and the democratic Western nations.\n",
      "\n",
      "The announcement by East German authorities that citizens could cross the border freely led to massive crowds gathering at the wall, and many people began to climb over it and celebrate the newfound freedom. The fall of the Berlin Wall not only signified the reunification of Germany but also inspired movements for democracy and reform across Eastern Europe, contributing to the eventual dissolution of the Soviet Union in 1991.On November 9, 1989, a significant historical event occurred: the fall of the Berlin Wall. This event marked the beginning of the end of the Cold War and was pivotal in the history of Germany and Europe. The Berlin Wall had divided East and West Berlin since its construction in 1961, symbolizing the broader division between the communist Eastern Bloc and the democratic Western nations.\n",
      "\n",
      "The announcement by East German authorities that citizens could cross the border freely led to massive crowds gathering at the wall, with many people climbing over it and celebrating their newfound freedom. The fall of the Berlin Wall not only signified the reunification of Germany but also inspired movements for democracy and reform across Eastern Europe, contributing to the eventual dissolution of the Soviet Union in 1991.\n",
      "\n"
     ]
    }
   ],
   "source": [
    "queries = [\"Is `stressed desserts?` a palindrome?\", \"What about the word `kayak`?\",\n",
    "    \"What happened on the May 8th, 1945?\", \"What about 9 November 1989?\"]\n",
    "user_agent_multiturn(queries)"
   ]
  },
  {
   "cell_type": "code",
   "execution_count": null,
   "metadata": {},
   "outputs": [],
   "source": []
  },
  {
   "cell_type": "code",
   "execution_count": null,
   "metadata": {},
   "outputs": [],
   "source": []
  }
 ],
 "metadata": {
  "kernelspec": {
   "display_name": "env_gen_ai",
   "language": "python",
   "name": "python3"
  },
  "language_info": {
   "codemirror_mode": {
    "name": "ipython",
    "version": 3
   },
   "file_extension": ".py",
   "mimetype": "text/x-python",
   "name": "python",
   "nbconvert_exporter": "python",
   "pygments_lexer": "ipython3",
   "version": "3.10.14"
  }
 },
 "nbformat": 4,
 "nbformat_minor": 2
}
