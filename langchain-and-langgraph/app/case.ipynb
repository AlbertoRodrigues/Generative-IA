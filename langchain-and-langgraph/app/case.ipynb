{
 "cells": [
  {
   "cell_type": "code",
   "execution_count": 4,
   "metadata": {},
   "outputs": [
    {
     "data": {
      "text/plain": [
       "True"
      ]
     },
     "execution_count": 4,
     "metadata": {},
     "output_type": "execute_result"
    }
   ],
   "source": [
    "from IPython.display import  Image, display\n",
    "from langchain_openai import ChatOpenAI\n",
    "from typing import Annotated\n",
    "from typing_extensions import TypedDict\n",
    "from langgraph.graph import StateGraph, START, END\n",
    "from langgraph.graph.message import add_messages\n",
    "from langchain_community.utilities import WikipediaAPIWrapper \n",
    "from langchain_community.tools import WikipediaQueryRun\n",
    "from langgraph.prebuilt import create_react_agent\n",
    "from langgraph.prebuilt import ToolNode, tools_condition\n",
    "from dotenv import load_dotenv\n",
    "from IPython.display import  Image, display\n",
    "import os\n",
    "load_dotenv()"
   ]
  },
  {
   "cell_type": "code",
   "execution_count": 2,
   "metadata": {},
   "outputs": [],
   "source": [
    "# LLM Setup \n",
    "model = ChatOpenAI(openai_api_key=os.getenv('OPENAI_API_KEY'), model=\"gpt-4o-mini-2024-07-18\")"
   ]
  },
  {
   "cell_type": "code",
   "execution_count": 3,
   "metadata": {},
   "outputs": [],
   "source": [
    "# Define the State\n",
    "class State(TypedDict):\n",
    "    \n",
    "    # Define messages with metadata\n",
    "    messages: Annotated[list, add_messages]"
   ]
  },
  {
   "cell_type": "code",
   "execution_count": 19,
   "metadata": {},
   "outputs": [],
   "source": [
    "# Initialize Wikipedia API wrapper to fetch top 1 result \n",
    "api_wrapper = WikipediaAPIWrapper(top_k_results=1)    \n",
    "# Create a Wikipedia query tool using the API wrapper \n",
    "wikipedia_tool = WikipediaQueryRun(api_wrapper=api_wrapper)  \n",
    "tools = [wikipedia_tool]"
   ]
  },
  {
   "cell_type": "code",
   "execution_count": 20,
   "metadata": {},
   "outputs": [],
   "source": [
    "model_with_tools = model.bind_tools(tools)"
   ]
  },
  {
   "cell_type": "code",
   "execution_count": 21,
   "metadata": {},
   "outputs": [],
   "source": [
    "def search_agent(state: State):\n",
    "    return {\"messages\": [model_with_tools.invoke(state[\"messages\"])]}"
   ]
  },
  {
   "cell_type": "code",
   "execution_count": 32,
   "metadata": {},
   "outputs": [],
   "source": [
    "# Initialize StateGraph\n",
    "graph_builder = StateGraph(State)\n",
    "\n",
    "# Add chatbot node to the graph\n",
    "graph_builder.add_node(\"Search Agent\", search_agent)\n",
    "tool_node = ToolNode(tools=[wikipedia_tool])\n",
    "graph_builder.add_node(\"tools\", tool_node)\n",
    "\n",
    "\n",
    "# Define the start and end of the conversation flow\n",
    "graph_builder.add_edge(START, \"Search Agent\")\n",
    "graph_builder.add_edge(\"tools\", \"Search Agent\")\n",
    "graph_builder.add_conditional_edges(\"Search Agent\", tools_condition)\n",
    "graph_builder.add_edge(\"Search Agent\", END)\n",
    "\n",
    "# Compile the graph to prepare for execution\n",
    "graph = graph_builder.compile()"
   ]
  },
  {
   "cell_type": "code",
   "execution_count": 33,
   "metadata": {},
   "outputs": [
    {
     "data": {
      "image/png": "[encoded data removed]",
      "text/plain": [
       "<IPython.core.display.Image object>"
      ]
     },
     "metadata": {},
     "output_type": "display_data"
    }
   ],
   "source": [
    "display(Image(graph.get_graph().draw_mermaid_png()))"
   ]
  },
  {
   "cell_type": "code",
   "execution_count": 34,
   "metadata": {},
   "outputs": [],
   "source": [
    "# Define a function to execute the chatbot based on user input\n",
    "def stream_graph_updates(user_input: str):\n",
    "    \n",
    "    # Start streaming events from the graph with the user's input\n",
    "    for event in graph.stream({\"messages\": [(\"user\", user_input)]}):\n",
    "        \n",
    "        # Retrieve and print the chatbot node responses\n",
    "        for item in event.values():\n",
    "            print(\"Agent:\", item[\"messages\"])"
   ]
  },
  {
   "cell_type": "code",
   "execution_count": 36,
   "metadata": {},
   "outputs": [
    {
     "name": "stdout",
     "output_type": "stream",
     "text": [
      "Agent: [AIMessage(content='', additional_kwargs={'tool_calls': [{'id': 'call_jh2urDMqQFj7s6E3QgIYDAC4', 'function': {'arguments': '{\"query\":\"Brasil\"}', 'name': 'wikipedia'}, 'type': 'function'}], 'refusal': None}, response_metadata={'token_usage': {'completion_tokens': 13, 'prompt_tokens': 82, 'total_tokens': 95, 'completion_tokens_details': {'accepted_prediction_tokens': 0, 'audio_tokens': 0, 'reasoning_tokens': 0, 'rejected_prediction_tokens': 0}, 'prompt_tokens_details': {'audio_tokens': 0, 'cached_tokens': 0}}, 'model_name': 'gpt-4o-mini-2024-07-18', 'system_fingerprint': 'fp_0aa8d3e20b', 'finish_reason': 'tool_calls', 'logprobs': None}, id='run-85b9ac11-8a9f-44e8-bd4d-dfbc79460649-0', tool_calls=[{'name': 'wikipedia', 'args': {'query': 'Brasil'}, 'id': 'call_jh2urDMqQFj7s6E3QgIYDAC4', 'type': 'tool_call'}], usage_metadata={'input_tokens': 82, 'output_tokens': 13, 'total_tokens': 95, 'input_token_details': {'audio': 0, 'cache_read': 0}, 'output_token_details': {'audio': 0, 'reasoning': 0}})]\n",
      "Agent: [ToolMessage(content=\"Page: Brazil\\nSummary: Brazil, officially the Federative Republic of Brazil, is the largest and easternmost country in South America and Latin America. It is the world's fifth-largest country by area and the seventh largest by population, with over 203 million people. Brazil is a federation composed of 26 states and a Federal District, which hosts the capital, Brasília. Its most populous city is São Paulo, followed by Rio de Janeiro. Brazil has the most Portuguese speakers in the world and is the only country in the Americas where Portuguese is an official language. It is among the world's most multicultural and ethnically diverse nations, due to over a century of mass immigration from around the world.\\nBounded by the Atlantic Ocean on the east, Brazil has a coastline of 7,491 kilometers (4,655 mi). Covering roughly half of South America's land area, it borders all other countries and territories on the continent except Ecuador and Chile. Brazil encompasses a wide range of tropical and subtropical landscapes, including wetlands, savannas, plateaus, and low mountains. It contains most of the Amazon basin, including the world’s largest river system and most extensive virgin tropical forest, which is home to diverse wildlife, a variety of ecological systems, and extensive natural resources spanning numerous protected habitats. Brazil ranks first among 17 megadiverse countries, with its natural heritage being the subject of significant global interest, as environmental degradation (through processes such as deforestation) directly global issues such as climate change and biodiversity loss.\\nBrazil was inhabited by numerous tribal nations prior to the landing of explorer Pedro Álvares Cabral in 1500. It was claimed and settled by the Portuguese Empire and remained a colony of Portugal until 1808, when the imperial capital was transferred from Lisbon to Rio de Janeiro. In 1815, the colony was elevated to the rank of kingdom upon the formation of the United Kingdom of Portugal, Brazil and the Algarves. Independence was achieved in 1822 with the creation of the Empire of Brazil, a unitary state governed under a parliamentary constitutional monarchy. Its first constitution in 1824 established a bicameral legislature, now called the National Congress, and enshrined principles such as freedom of religion and the press. The empire enjoyed political stability, vibrant economic growth, and social progress, including the abolition of slavery in 1888. Brazil became a presidential republic in 1889 following a military coup d'état. An authoritarian military dictatorship emerged in 1964 and ruled until 1985, after which civilian governance resumed. Brazil's current constitution, formulated in 1988, defines it as a democratic federal republic. Due to its rich culture and history, the country ranks thirteenth in the world by number of UNESCO World Heritage Sites.\\nBrazil is a regional and middle power and rising global power. It is an emerging, upper-middle income economy and newly industrialized country; Brazil has one of the 10 largest economies in the world in both nominal and PPP terms, the largest in Latin America and the Southern Hemisphere, and the largest share of wealth in South America. With a complex and highly diversified economy, Brazil is one of the world's major or primary sources of agricultural goods, mineral wealth, and manufactured products. \\nDespite its growing economic and global profile, the country continues to face high levels of corruption, crime and social inequality. Brazil is a founding member of the United Nations, the G20, BRICS, G4, Mercosul, Organization of American States, Organization of Ibero-American States, and the Community of Portuguese Language Countries; it is also an observer state of the Arab League and a major non-NATO ally of the United States.\", name='wikipedia', id='7dd178b6-5413-4c6d-af62-77a9abfe4c5e', tool_call_id='call_jh2urDMqQFj7s6E3QgIYDAC4')]\n",
      "Agent: [AIMessage(content=\"Brazil, officially the Federative Republic of Brazil, is the largest country in South America and Latin America. It ranks as the world's fifth-largest country by area and the seventh largest by population, with over 203 million people. The country is a federation composed of 26 states and a Federal District, where the capital, Brasília, is located. São Paulo is the most populous city, followed by Rio de Janeiro.\\n\\nBrazil is unique in the Americas for having Portuguese as its official language, due to its colonization by the Portuguese Empire. The country is known for its multicultural and ethnically diverse population, a result of over a century of mass immigration from various parts of the world.\\n\\nGeographically, Brazil has a vast coastline of 7,491 kilometers along the Atlantic Ocean and covers roughly half of South America's land area. It shares borders with all South American countries except Ecuador and Chile and contains a variety of landscapes, including the Amazon basin, which is home to the world's largest river system and extensive tropical forests.\\n\\nHistorically, Brazil was inhabited by numerous tribal nations before the arrival of explorer Pedro Álvares Cabral in 1500. It became a Portuguese colony until it achieved independence in 1822, establishing the Empire of Brazil. After a period of political stability and economic growth, Brazil transitioned to a presidential republic in 1889. The country experienced a military dictatorship from 1964 to 1985 and has been governed by a democratic federal republic since the adoption of its current constitution in 1988.\\n\\nEconomically, Brazil is an emerging upper-middle-income country with one of the largest economies in the world, known for its agricultural, mineral, and manufactured goods. Despite its economic growth, Brazil faces challenges such as corruption, crime, and social inequality. It is a member of various international organizations, including the United Nations, G20, and BRICS.\", additional_kwargs={'refusal': None}, response_metadata={'token_usage': {'completion_tokens': 377, 'prompt_tokens': 846, 'total_tokens': 1223, 'completion_tokens_details': {'accepted_prediction_tokens': 0, 'audio_tokens': 0, 'reasoning_tokens': 0, 'rejected_prediction_tokens': 0}, 'prompt_tokens_details': {'audio_tokens': 0, 'cached_tokens': 0}}, 'model_name': 'gpt-4o-mini-2024-07-18', 'system_fingerprint': 'fp_0aa8d3e20b', 'finish_reason': 'stop', 'logprobs': None}, id='run-f11eccde-8522-4daa-9575-eb95ccd26775-0', usage_metadata={'input_tokens': 846, 'output_tokens': 377, 'total_tokens': 1223, 'input_token_details': {'audio': 0, 'cache_read': 0}, 'output_token_details': {'audio': 0, 'reasoning': 0}})]\n"
     ]
    }
   ],
   "source": [
    "stream_graph_updates(\"Brasil\")"
   ]
  },
  {
   "cell_type": "code",
   "execution_count": null,
   "metadata": {},
   "outputs": [],
   "source": []
  },
  {
   "cell_type": "code",
   "execution_count": null,
   "metadata": {},
   "outputs": [],
   "source": []
  },
  {
   "cell_type": "markdown",
   "metadata": {},
   "source": [
    "## Estudar essa biblioteca\n",
    "## Próximos passos: Como usar os dados do my profit para ajudar no orientador"
   ]
  },
  {
   "cell_type": "code",
   "execution_count": 2,
   "metadata": {},
   "outputs": [],
   "source": [
    "import yfinance as yf\n",
    "dat = yf.Ticker(\"HGLG11.SA\")"
   ]
  },
  {
   "cell_type": "code",
   "execution_count": 18,
   "metadata": {},
   "outputs": [],
   "source": [
    "data = dat.history(start=\"2025-01-01\", end=\"2025-01-10\")\n",
    "data"
   ]
  },
  {
   "cell_type": "code",
   "execution_count": 24,
   "metadata": {},
   "outputs": [
    {
     "data": {
      "text/html": [
       "<div>\n",
       "<style scoped>\n",
       "    .dataframe tbody tr th:only-of-type {\n",
       "        vertical-align: middle;\n",
       "    }\n",
       "\n",
       "    .dataframe tbody tr th {\n",
       "        vertical-align: top;\n",
       "    }\n",
       "\n",
       "    .dataframe thead th {\n",
       "        text-align: right;\n",
       "    }\n",
       "</style>\n",
       "<table border=\"1\" class=\"dataframe\">\n",
       "  <thead>\n",
       "    <tr style=\"text-align: right;\">\n",
       "      <th></th>\n",
       "      <th>Date</th>\n",
       "      <th>Open</th>\n",
       "      <th>High</th>\n",
       "      <th>Low</th>\n",
       "      <th>Close</th>\n",
       "      <th>Volume</th>\n",
       "      <th>Dividends</th>\n",
       "      <th>Stock Splits</th>\n",
       "    </tr>\n",
       "  </thead>\n",
       "  <tbody>\n",
       "    <tr>\n",
       "      <th>0</th>\n",
       "      <td>2024-10-01 00:00:00-03:00</td>\n",
       "      <td>153.886277</td>\n",
       "      <td>154.450071</td>\n",
       "      <td>149.521752</td>\n",
       "      <td>151.495026</td>\n",
       "      <td>1199919</td>\n",
       "      <td>1.1</td>\n",
       "      <td>0.0</td>\n",
       "    </tr>\n",
       "    <tr>\n",
       "      <th>1</th>\n",
       "      <td>2024-11-01 00:00:00-03:00</td>\n",
       "      <td>151.120452</td>\n",
       "      <td>152.696358</td>\n",
       "      <td>148.046949</td>\n",
       "      <td>149.025772</td>\n",
       "      <td>1024759</td>\n",
       "      <td>1.1</td>\n",
       "      <td>0.0</td>\n",
       "    </tr>\n",
       "    <tr>\n",
       "      <th>2</th>\n",
       "      <td>2024-12-01 00:00:00-03:00</td>\n",
       "      <td>149.641481</td>\n",
       "      <td>155.033701</td>\n",
       "      <td>139.980829</td>\n",
       "      <td>153.909912</td>\n",
       "      <td>1296618</td>\n",
       "      <td>1.1</td>\n",
       "      <td>0.0</td>\n",
       "    </tr>\n",
       "    <tr>\n",
       "      <th>3</th>\n",
       "      <td>2025-01-01 00:00:00-03:00</td>\n",
       "      <td>155.600006</td>\n",
       "      <td>156.130005</td>\n",
       "      <td>0.000000</td>\n",
       "      <td>154.000000</td>\n",
       "      <td>94511</td>\n",
       "      <td>1.1</td>\n",
       "      <td>0.0</td>\n",
       "    </tr>\n",
       "  </tbody>\n",
       "</table>\n",
       "</div>"
      ],
      "text/plain": [
       "                       Date        Open        High         Low       Close  \\\n",
       "0 2024-10-01 00:00:00-03:00  153.886277  154.450071  149.521752  151.495026   \n",
       "1 2024-11-01 00:00:00-03:00  151.120452  152.696358  148.046949  149.025772   \n",
       "2 2024-12-01 00:00:00-03:00  149.641481  155.033701  139.980829  153.909912   \n",
       "3 2025-01-01 00:00:00-03:00  155.600006  156.130005    0.000000  154.000000   \n",
       "\n",
       "    Volume  Dividends  Stock Splits  \n",
       "0  1199919        1.1           0.0  \n",
       "1  1024759        1.1           0.0  \n",
       "2  1296618        1.1           0.0  \n",
       "3    94511        1.1           0.0  "
      ]
     },
     "execution_count": 24,
     "metadata": {},
     "output_type": "execute_result"
    }
   ],
   "source": [
    "#\n",
    "dat = yf.Ticker(\"HGLG11.SA\")\n",
    "data = dat.history(start=\"2024-10-01\", end=\"2025-01-10\", interval ='1mo').reset_index()\n",
    "data"
   ]
  },
  {
   "cell_type": "code",
   "execution_count": 13,
   "metadata": {},
   "outputs": [],
   "source": [
    "res = dat.info"
   ]
  },
  {
   "cell_type": "code",
   "execution_count": 16,
   "metadata": {},
   "outputs": [
    {
     "data": {
      "text/plain": [
       "{'address1': 'Avenida Presidente Juscelino; Torre IV - 7º andar - Itaim Bibi',\n",
       " 'address2': 'Kubitschek',\n",
       " 'city': 'Sao Paulo',\n",
       " 'state': 'SP',\n",
       " 'zip': '1830',\n",
       " 'country': 'Brazil',\n",
       " 'website': 'https://www.cshg.com.br/site/publico/imob/imob.seam',\n",
       " 'industry': 'REIT - Diversified',\n",
       " 'industryKey': 'reit-diversified',\n",
       " 'industryDisp': 'REIT - Diversified',\n",
       " 'sector': 'Real Estate',\n",
       " 'sectorKey': 'real-estate',\n",
       " 'sectorDisp': 'Real Estate',\n",
       " 'longBusinessSummary': 'Cshg Logistica - Fundo De Investimento Imobiliario specializes in real estate investments.',\n",
       " 'maxAge': 86400,\n",
       " 'priceHint': 2,\n",
       " 'previousClose': 154.64,\n",
       " 'regularMarketPreviousClose': 154.64,\n",
       " 'dividendRate': 13.2,\n",
       " 'dividendYield': 0.08140001,\n",
       " 'exDividendDate': 1717372800,\n",
       " 'payoutRatio': 0.83489996,\n",
       " 'beta': 0.328,\n",
       " 'trailingPE': 9.4944515,\n",
       " 'averageVolume': 56701,\n",
       " 'averageVolume10days': 47352,\n",
       " 'averageDailyVolume10Day': 47352,\n",
       " 'bid': 154.0,\n",
       " 'ask': 155.0,\n",
       " 'marketCap': 5203290624,\n",
       " 'fiftyTwoWeekHigh': 170.71,\n",
       " 'priceToSalesTrailing12Months': 11.816664,\n",
       " 'fiftyDayAverage': 152.4788,\n",
       " 'twoHundredDayAverage': 159.22745,\n",
       " 'currency': 'BRL',\n",
       " 'enterpriseValue': 5476113408,\n",
       " 'profitMargins': 1.24485,\n",
       " 'sharesOutstanding': 33787600,\n",
       " 'heldPercentInstitutions': 0.04364,\n",
       " 'impliedSharesOutstanding': 33787600,\n",
       " 'bookValue': 158.239,\n",
       " 'priceToBook': 0.9732114,\n",
       " 'lastFiscalYearEnd': 1703980800,\n",
       " 'nextFiscalYearEnd': 1735603200,\n",
       " 'mostRecentQuarter': 1703980800,\n",
       " 'earningsQuarterlyGrowth': 0.02,\n",
       " 'netIncomeToCommon': 548153024,\n",
       " 'trailingEps': 16.22,\n",
       " 'lastSplitFactor': '10:1',\n",
       " 'lastSplitDate': 1524009600,\n",
       " 'enterpriseToRevenue': 12.436,\n",
       " '52WeekChange': -0.050027788,\n",
       " 'SandP52WeekChange': 0.24749029,\n",
       " 'lastDividendValue': 1.1,\n",
       " 'lastDividendDate': 1735776000,\n",
       " 'exchange': 'SAO',\n",
       " 'quoteType': 'EQUITY',\n",
       " 'symbol': 'HGLG11.SA',\n",
       " 'underlyingSymbol': 'HGLG11.SA',\n",
       " 'shortName': 'FII HGLG PAXCI  ER',\n",
       " 'longName': 'Cshg Logistica - Fundo De Investimento Imobiliario',\n",
       " 'firstTradeDateEpochUtc': 1299070800,\n",
       " 'timeZoneFullName': 'America/Sao_Paulo',\n",
       " 'timeZoneShortName': 'BRT',\n",
       " 'uuid': '5f314d9d-55bb-33df-aa3a-06d8b7e4a95e',\n",
       " 'messageBoardId': 'finmb_108502334',\n",
       " 'gmtOffSetMilliseconds': -10800000,\n",
       " 'currentPrice': 154.0,\n",
       " 'recommendationKey': 'none',\n",
       " 'totalCash': 2542000,\n",
       " 'totalCashPerShare': 0.075,\n",
       " 'quickRatio': 0.418,\n",
       " 'currentRatio': 0.451,\n",
       " 'totalRevenue': 440335008,\n",
       " 'revenuePerShare': 13.032,\n",
       " 'returnOnAssets': 0.049390003,\n",
       " 'returnOnEquity': 0.12236,\n",
       " 'freeCashflow': 299934624,\n",
       " 'operatingCashflow': 327032000,\n",
       " 'earningsGrowth': -0.292,\n",
       " 'revenueGrowth': 0.879,\n",
       " 'grossMargins': 0.97710997,\n",
       " 'operatingMargins': 0.94329,\n",
       " 'financialCurrency': 'BRL',\n",
       " 'trailingPegRatio': None}"
      ]
     },
     "execution_count": 16,
     "metadata": {},
     "output_type": "execute_result"
    }
   ],
   "source": [
    "res"
   ]
  },
  {
   "cell_type": "code",
   "execution_count": 11,
   "metadata": {},
   "outputs": [
    {
     "data": {
      "text/plain": [
       "13.2"
      ]
     },
     "execution_count": 11,
     "metadata": {},
     "output_type": "execute_result"
    }
   ],
   "source": [
    "res.get(\"dividendRate\", 0)"
   ]
  },
  {
   "cell_type": "code",
   "execution_count": 12,
   "metadata": {},
   "outputs": [
    {
     "data": {
      "text/plain": [
       "{'address1': 'Avenida Presidente Juscelino; Torre IV - 7º andar - Itaim Bibi',\n",
       " 'address2': 'Kubitschek',\n",
       " 'city': 'Sao Paulo',\n",
       " 'state': 'SP',\n",
       " 'zip': '1830',\n",
       " 'country': 'Brazil',\n",
       " 'website': 'https://www.cshg.com.br/site/publico/imob/imob.seam',\n",
       " 'industry': 'REIT - Diversified',\n",
       " 'industryKey': 'reit-diversified',\n",
       " 'industryDisp': 'REIT - Diversified',\n",
       " 'sector': 'Real Estate',\n",
       " 'sectorKey': 'real-estate',\n",
       " 'sectorDisp': 'Real Estate',\n",
       " 'longBusinessSummary': 'Cshg Logistica - Fundo De Investimento Imobiliario specializes in real estate investments.',\n",
       " 'maxAge': 86400,\n",
       " 'priceHint': 2,\n",
       " 'previousClose': 154.64,\n",
       " 'regularMarketPreviousClose': 154.64,\n",
       " 'dividendRate': 13.2,\n",
       " 'dividendYield': 0.08140001,\n",
       " 'exDividendDate': 1717372800,\n",
       " 'payoutRatio': 0.83489996,\n",
       " 'beta': 0.328,\n",
       " 'trailingPE': 9.4944515,\n",
       " 'averageVolume': 56701,\n",
       " 'averageVolume10days': 47352,\n",
       " 'averageDailyVolume10Day': 47352,\n",
       " 'bid': 154.01,\n",
       " 'ask': 154.98,\n",
       " 'marketCap': 5203290624,\n",
       " 'fiftyTwoWeekHigh': 170.71,\n",
       " 'priceToSalesTrailing12Months': 11.816664,\n",
       " 'fiftyDayAverage': 152.4788,\n",
       " 'twoHundredDayAverage': 159.22745,\n",
       " 'currency': 'BRL',\n",
       " 'enterpriseValue': 5476113408,\n",
       " 'profitMargins': 1.24485,\n",
       " 'sharesOutstanding': 33787600,\n",
       " 'heldPercentInstitutions': 0.04364,\n",
       " 'impliedSharesOutstanding': 33787600,\n",
       " 'bookValue': 158.239,\n",
       " 'priceToBook': 0.9732114,\n",
       " 'lastFiscalYearEnd': 1703980800,\n",
       " 'nextFiscalYearEnd': 1735603200,\n",
       " 'mostRecentQuarter': 1703980800,\n",
       " 'earningsQuarterlyGrowth': 0.02,\n",
       " 'netIncomeToCommon': 548153024,\n",
       " 'trailingEps': 16.22,\n",
       " 'lastSplitFactor': '10:1',\n",
       " 'lastSplitDate': 1524009600,\n",
       " 'enterpriseToRevenue': 12.436,\n",
       " '52WeekChange': -0.050027788,\n",
       " 'SandP52WeekChange': 0.24749029,\n",
       " 'lastDividendValue': 1.1,\n",
       " 'lastDividendDate': 1735776000,\n",
       " 'exchange': 'SAO',\n",
       " 'quoteType': 'EQUITY',\n",
       " 'symbol': 'HGLG11.SA',\n",
       " 'underlyingSymbol': 'HGLG11.SA',\n",
       " 'shortName': 'FII HGLG PAXCI',\n",
       " 'longName': 'Cshg Logistica - Fundo De Investimento Imobiliario',\n",
       " 'firstTradeDateEpochUtc': 1299070800,\n",
       " 'timeZoneFullName': 'America/Sao_Paulo',\n",
       " 'timeZoneShortName': 'BRT',\n",
       " 'uuid': '5f314d9d-55bb-33df-aa3a-06d8b7e4a95e',\n",
       " 'messageBoardId': 'finmb_108502334',\n",
       " 'gmtOffSetMilliseconds': -10800000,\n",
       " 'currentPrice': 154.0,\n",
       " 'recommendationKey': 'none',\n",
       " 'totalCash': 2542000,\n",
       " 'totalCashPerShare': 0.075,\n",
       " 'quickRatio': 0.418,\n",
       " 'currentRatio': 0.451,\n",
       " 'totalRevenue': 440335008,\n",
       " 'revenuePerShare': 13.032,\n",
       " 'returnOnAssets': 0.049390003,\n",
       " 'returnOnEquity': 0.12236,\n",
       " 'freeCashflow': 299934624,\n",
       " 'operatingCashflow': 327032000,\n",
       " 'earningsGrowth': -0.292,\n",
       " 'revenueGrowth': 0.879,\n",
       " 'grossMargins': 0.97710997,\n",
       " 'operatingMargins': 0.94329,\n",
       " 'financialCurrency': 'BRL',\n",
       " 'trailingPegRatio': None}"
      ]
     },
     "execution_count": 12,
     "metadata": {},
     "output_type": "execute_result"
    }
   ],
   "source": [
    "res"
   ]
  },
  {
   "cell_type": "code",
   "execution_count": 11,
   "metadata": {},
   "outputs": [
    {
     "data": {
      "text/plain": [
       "154.0"
      ]
     },
     "execution_count": 11,
     "metadata": {},
     "output_type": "execute_result"
    }
   ],
   "source": [
    "res[\"currentPrice\"]"
   ]
  },
  {
   "cell_type": "code",
   "execution_count": 3,
   "metadata": {},
   "outputs": [
    {
     "data": {
      "text/plain": [
       "0.9732114080599599"
      ]
     },
     "execution_count": 3,
     "metadata": {},
     "output_type": "execute_result"
    }
   ],
   "source": [
    "res[\"currentPrice\"] / res[\"bookValue\"]"
   ]
  },
  {
   "cell_type": "code",
   "execution_count": 1,
   "metadata": {},
   "outputs": [],
   "source": [
    "import yfinance as yf"
   ]
  },
  {
   "cell_type": "code",
   "execution_count": 6,
   "metadata": {},
   "outputs": [],
   "source": [
    "df_price = yf.download('HGLG11.SA', start='2024-11-01', end='2024-11-06', progress=False)"
   ]
  },
  {
   "cell_type": "code",
   "execution_count": 7,
   "metadata": {},
   "outputs": [
    {
     "data": {
      "text/html": [
       "<div>\n",
       "<style scoped>\n",
       "    .dataframe tbody tr th:only-of-type {\n",
       "        vertical-align: middle;\n",
       "    }\n",
       "\n",
       "    .dataframe tbody tr th {\n",
       "        vertical-align: top;\n",
       "    }\n",
       "\n",
       "    .dataframe thead tr th {\n",
       "        text-align: left;\n",
       "    }\n",
       "\n",
       "    .dataframe thead tr:last-of-type th {\n",
       "        text-align: right;\n",
       "    }\n",
       "</style>\n",
       "<table border=\"1\" class=\"dataframe\">\n",
       "  <thead>\n",
       "    <tr>\n",
       "      <th>Price</th>\n",
       "      <th>Close</th>\n",
       "      <th>High</th>\n",
       "      <th>Low</th>\n",
       "      <th>Open</th>\n",
       "      <th>Volume</th>\n",
       "    </tr>\n",
       "    <tr>\n",
       "      <th>Ticker</th>\n",
       "      <th>HGLG11.SA</th>\n",
       "      <th>HGLG11.SA</th>\n",
       "      <th>HGLG11.SA</th>\n",
       "      <th>HGLG11.SA</th>\n",
       "      <th>HGLG11.SA</th>\n",
       "    </tr>\n",
       "    <tr>\n",
       "      <th>Date</th>\n",
       "      <th></th>\n",
       "      <th></th>\n",
       "      <th></th>\n",
       "      <th></th>\n",
       "      <th></th>\n",
       "    </tr>\n",
       "  </thead>\n",
       "  <tbody>\n",
       "    <tr>\n",
       "      <th>2024-11-01</th>\n",
       "      <td>152.303101</td>\n",
       "      <td>152.549546</td>\n",
       "      <td>150.873722</td>\n",
       "      <td>152.194664</td>\n",
       "      <td>64555</td>\n",
       "    </tr>\n",
       "    <tr>\n",
       "      <th>2024-11-04</th>\n",
       "      <td>150.853989</td>\n",
       "      <td>153.515593</td>\n",
       "      <td>150.824416</td>\n",
       "      <td>152.303087</td>\n",
       "      <td>74077</td>\n",
       "    </tr>\n",
       "    <tr>\n",
       "      <th>2024-11-05</th>\n",
       "      <td>151.199020</td>\n",
       "      <td>152.303090</td>\n",
       "      <td>150.923003</td>\n",
       "      <td>151.800347</td>\n",
       "      <td>40863</td>\n",
       "    </tr>\n",
       "  </tbody>\n",
       "</table>\n",
       "</div>"
      ],
      "text/plain": [
       "Price            Close        High         Low        Open    Volume\n",
       "Ticker       HGLG11.SA   HGLG11.SA   HGLG11.SA   HGLG11.SA HGLG11.SA\n",
       "Date                                                                \n",
       "2024-11-01  152.303101  152.549546  150.873722  152.194664     64555\n",
       "2024-11-04  150.853989  153.515593  150.824416  152.303087     74077\n",
       "2024-11-05  151.199020  152.303090  150.923003  151.800347     40863"
      ]
     },
     "execution_count": 7,
     "metadata": {},
     "output_type": "execute_result"
    }
   ],
   "source": [
    "df_price"
   ]
  },
  {
   "cell_type": "code",
   "execution_count": 8,
   "metadata": {},
   "outputs": [],
   "source": [
    "df_price.reset_index(inplace=True)"
   ]
  },
  {
   "cell_type": "code",
   "execution_count": 10,
   "metadata": {},
   "outputs": [
    {
     "data": {
      "text/plain": [
       "MultiIndex([(  'Date',          ''),\n",
       "            ( 'Close', 'HGLG11.SA'),\n",
       "            (  'High', 'HGLG11.SA'),\n",
       "            (   'Low', 'HGLG11.SA'),\n",
       "            (  'Open', 'HGLG11.SA'),\n",
       "            ('Volume', 'HGLG11.SA')],\n",
       "           names=['Price', 'Ticker'])"
      ]
     },
     "execution_count": 10,
     "metadata": {},
     "output_type": "execute_result"
    }
   ],
   "source": [
    "df_price.columns"
   ]
  },
  {
   "cell_type": "code",
   "execution_count": 14,
   "metadata": {},
   "outputs": [],
   "source": [
    "df_price.columns = df_price.columns.get_level_values('Price')"
   ]
  },
  {
   "cell_type": "code",
   "execution_count": 15,
   "metadata": {},
   "outputs": [
    {
     "data": {
      "text/html": [
       "<div>\n",
       "<style scoped>\n",
       "    .dataframe tbody tr th:only-of-type {\n",
       "        vertical-align: middle;\n",
       "    }\n",
       "\n",
       "    .dataframe tbody tr th {\n",
       "        vertical-align: top;\n",
       "    }\n",
       "\n",
       "    .dataframe thead th {\n",
       "        text-align: right;\n",
       "    }\n",
       "</style>\n",
       "<table border=\"1\" class=\"dataframe\">\n",
       "  <thead>\n",
       "    <tr style=\"text-align: right;\">\n",
       "      <th>Price</th>\n",
       "      <th>Date</th>\n",
       "      <th>Close</th>\n",
       "      <th>High</th>\n",
       "      <th>Low</th>\n",
       "      <th>Open</th>\n",
       "      <th>Volume</th>\n",
       "    </tr>\n",
       "  </thead>\n",
       "  <tbody>\n",
       "    <tr>\n",
       "      <th>0</th>\n",
       "      <td>2024-11-01</td>\n",
       "      <td>152.303101</td>\n",
       "      <td>152.549546</td>\n",
       "      <td>150.873722</td>\n",
       "      <td>152.194664</td>\n",
       "      <td>64555</td>\n",
       "    </tr>\n",
       "    <tr>\n",
       "      <th>1</th>\n",
       "      <td>2024-11-04</td>\n",
       "      <td>150.853989</td>\n",
       "      <td>153.515593</td>\n",
       "      <td>150.824416</td>\n",
       "      <td>152.303087</td>\n",
       "      <td>74077</td>\n",
       "    </tr>\n",
       "    <tr>\n",
       "      <th>2</th>\n",
       "      <td>2024-11-05</td>\n",
       "      <td>151.199020</td>\n",
       "      <td>152.303090</td>\n",
       "      <td>150.923003</td>\n",
       "      <td>151.800347</td>\n",
       "      <td>40863</td>\n",
       "    </tr>\n",
       "  </tbody>\n",
       "</table>\n",
       "</div>"
      ],
      "text/plain": [
       "Price       Date       Close        High         Low        Open  Volume\n",
       "0     2024-11-01  152.303101  152.549546  150.873722  152.194664   64555\n",
       "1     2024-11-04  150.853989  153.515593  150.824416  152.303087   74077\n",
       "2     2024-11-05  151.199020  152.303090  150.923003  151.800347   40863"
      ]
     },
     "execution_count": 15,
     "metadata": {},
     "output_type": "execute_result"
    }
   ],
   "source": [
    "df_price"
   ]
  }
 ],
 "metadata": {
  "kernelspec": {
   "display_name": "app_invest_genai",
   "language": "python",
   "name": "python3"
  },
  "language_info": {
   "codemirror_mode": {
    "name": "ipython",
    "version": 3
   },
   "file_extension": ".py",
   "mimetype": "text/x-python",
   "name": "python",
   "nbconvert_exporter": "python",
   "pygments_lexer": "ipython3",
   "version": "3.10.16"
  }
 },
 "nbformat": 4,
 "nbformat_minor": 2
}
