{
 "cells": [
  {
   "cell_type": "markdown",
   "id": "deba7a75",
   "metadata": {},
   "source": [
    "#### Esse notebook tem o propósito de entender e explorar algumas funcionalidades de um processo chamado Function Calling. O objetivo desse processo é gerar os parâmetros de uma função pré-definida de forma totalmente automática. Nesse caso, o retorno da API da OpenAI deve ser os parâmetros dessa função. "
   ]
  },
  {
   "cell_type": "code",
   "execution_count": 10,
   "id": "57920af9",
   "metadata": {},
   "outputs": [],
   "source": [
    "from openai import OpenAI\n",
    "from dotenv import load_dotenv\n",
    "import os"
   ]
  },
  {
   "cell_type": "code",
   "execution_count": 11,
   "id": "432f06ed",
   "metadata": {},
   "outputs": [],
   "source": [
    "load_dotenv()\n",
    "\n",
    "api_key = os.getenv('OPENAI_API_KEY')"
   ]
  },
  {
   "cell_type": "code",
   "execution_count": 12,
   "id": "e8e91a7e",
   "metadata": {},
   "outputs": [],
   "source": [
    "client = OpenAI(api_key = api_key)"
   ]
  },
  {
   "cell_type": "code",
   "execution_count": 4,
   "id": "1e82b630",
   "metadata": {},
   "outputs": [],
   "source": [
    "message_listing = \\\n",
    "[{'role': 'system',\n",
    "  'content': \"Don't make assumptions about what values to plug into functions. Ask for clarification if a user request \\\n",
    "  is ambiguous.\"},\n",
    " {'role': 'user',\n",
    "  'content': 'Step into this beautiful two-story, single-family home located in Springfield, USA,\\\n",
    "  priced at $350,000. This charming property features 4 bedrooms, 2.5 bathrooms, a spacious living room with a \\\n",
    "  cozy fireplace, a modern kitchen with stainless steel appliances, and a large backyard perfect for family gatherings.\\\n",
    "  The master bedroom includes an en-suite bathroom and a walk-in closet. Enjoy the convenience of an attached two-car \\\n",
    "  garage and a recently updated HVAC system. Located near top-rated schools, parks, and shopping centers, this home is \\\n",
    "  ideal for families looking for comfort and convenience.'}]"
   ]
  },
  {
   "cell_type": "code",
   "execution_count": 5,
   "id": "85788d10",
   "metadata": {},
   "outputs": [],
   "source": [
    "function_definition = \\\n",
    "[\n",
    "    {'type': 'function',\n",
    "  'function': {'name': 'real_estate_info',\n",
    "   'description': 'Get the information about homes for sale from the body of the input text',\n",
    "   'parameters': {'type': 'object',\n",
    "    'properties':{\n",
    "                 'home type': {'type': 'string', 'description': 'Home type'},\n",
    "                 'location': {'type': 'string', 'description': 'Location'},\n",
    "                 'price': {'type': 'integer', 'description': 'Price'},\n",
    "                 'bedrooms': {'type': 'integer', 'description': 'Number of bedrooms'}\n",
    "                  }\n",
    "                 }\n",
    "              }\n",
    " }\n",
    "]"
   ]
  },
  {
   "cell_type": "code",
   "execution_count": 13,
   "id": "db03b908",
   "metadata": {},
   "outputs": [],
   "source": [
    "response= client.chat.completions.create(\n",
    "    model=\"gpt-3.5-turbo\",\n",
    "    # Add the message\n",
    "    messages=message_listing,\n",
    "    # Add your function definition\n",
    "    tools=function_definition\n",
    ")"
   ]
  },
  {
   "cell_type": "code",
   "execution_count": 14,
   "id": "9893f356",
   "metadata": {},
   "outputs": [
    {
     "name": "stdout",
     "output_type": "stream",
     "text": [
      "ChatCompletionMessageToolCall(id='call_MhoB8pSp7qOpUgEQ3rU4Zoxk', function=Function(arguments='{\"home type\":\"single-family\",\"location\":\"Springfield, USA\",\"price\":350000,\"bedrooms\":4}', name='real_estate_info'), type='function')\n"
     ]
    }
   ],
   "source": [
    "print(response.choices[0].message.tool_calls[0])"
   ]
  },
  {
   "cell_type": "code",
   "execution_count": 15,
   "id": "39e04dbe",
   "metadata": {},
   "outputs": [
    {
     "name": "stdout",
     "output_type": "stream",
     "text": [
      "{\"home type\":\"single-family\",\"location\":\"Springfield, USA\",\"price\":350000,\"bedrooms\":4}\n"
     ]
    }
   ],
   "source": [
    "print(response.choices[0].message.tool_calls[0].function.arguments)"
   ]
  },
  {
   "cell_type": "code",
   "execution_count": null,
   "id": "46ba42f2",
   "metadata": {},
   "outputs": [],
   "source": []
  },
  {
   "cell_type": "code",
   "execution_count": null,
   "id": "cc7f6c99",
   "metadata": {},
   "outputs": [],
   "source": []
  },
  {
   "cell_type": "code",
   "execution_count": null,
   "id": "94132656",
   "metadata": {},
   "outputs": [],
   "source": []
  },
  {
   "cell_type": "code",
   "execution_count": null,
   "id": "fb4bc429",
   "metadata": {},
   "outputs": [],
   "source": []
  },
  {
   "cell_type": "code",
   "execution_count": null,
   "id": "9a07f0a7",
   "metadata": {},
   "outputs": [],
   "source": []
  }
 ],
 "metadata": {
  "kernelspec": {
   "display_name": "base",
   "language": "python",
   "name": "python3"
  },
  "language_info": {
   "codemirror_mode": {
    "name": "ipython",
    "version": 3
   },
   "file_extension": ".py",
   "mimetype": "text/x-python",
   "name": "python",
   "nbconvert_exporter": "python",
   "pygments_lexer": "ipython3",
   "version": "3.9.7"
  }
 },
 "nbformat": 4,
 "nbformat_minor": 5
}
