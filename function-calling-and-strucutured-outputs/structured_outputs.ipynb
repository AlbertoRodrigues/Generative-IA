{
 "cells": [
  {
   "cell_type": "code",
   "execution_count": 2,
   "metadata": {},
   "outputs": [],
   "source": [
    "from openai import OpenAI\n",
    "from dotenv import load_dotenv\n",
    "import os\n",
    "import json"
   ]
  },
  {
   "cell_type": "code",
   "execution_count": 3,
   "metadata": {},
   "outputs": [],
   "source": [
    "load_dotenv()\n",
    "\n",
    "api_key = os.getenv('OPENAI_API_KEY')\n",
    "client = OpenAI(api_key = api_key)"
   ]
  },
  {
   "cell_type": "code",
   "execution_count": 4,
   "metadata": {},
   "outputs": [],
   "source": [
    "query = \"Hi there, I have a question about my bill. Can you help me?\"\n",
    "\n",
    "messages = [\n",
    "    {\n",
    "        \"role\": \"system\",\n",
    "        \"content\": \"\"\"\n",
    "        You're a helpful customer care assistant that can classify incoming messages and create a response.\n",
    "        Always response in the following JSON format: {\"content\": <response>, \"category\": <classification>}\n",
    "        Available categories: 'general', 'order', 'billing'\n",
    "        \"\"\",\n",
    "    },\n",
    "    {\n",
    "        \"role\": \"user\",\n",
    "        \"content\": query,\n",
    "    },\n",
    "]\n",
    "\n",
    "response = client.chat.completions.create(\n",
    "    model=\"gpt-4o\",\n",
    "    messages=messages,\n",
    "    response_format={\"type\": \"json_object\"},\n",
    ")\n",
    "message = response.choices[0].message.content\n",
    "\n"
   ]
  },
  {
   "cell_type": "code",
   "execution_count": 5,
   "metadata": {},
   "outputs": [
    {
     "name": "stdout",
     "output_type": "stream",
     "text": [
      "{\"content\": \"Of course! I'd be happy to help you with your billing question. Could you please provide more details about your issue?\", \"category\": \"billing\"}\n"
     ]
    }
   ],
   "source": [
    "print(message)"
   ]
  },
  {
   "cell_type": "code",
   "execution_count": 6,
   "metadata": {},
   "outputs": [
    {
     "data": {
      "text/plain": [
       "str"
      ]
     },
     "execution_count": 6,
     "metadata": {},
     "output_type": "execute_result"
    }
   ],
   "source": [
    "type(message)  # str"
   ]
  },
  {
   "cell_type": "code",
   "execution_count": 7,
   "metadata": {},
   "outputs": [
    {
     "data": {
      "text/plain": [
       "dict"
      ]
     },
     "execution_count": 7,
     "metadata": {},
     "output_type": "execute_result"
    }
   ],
   "source": [
    "message_json = json.loads(message)\n",
    "type(message_json)  # dict"
   ]
  },
  {
   "cell_type": "code",
   "execution_count": 34,
   "metadata": {},
   "outputs": [],
   "source": [
    "query = \"\"\"\n",
    "Hi, I'm having trouble with my recent order. I received the wrong item and need to return it for a refund. \n",
    "Can you help me with the return process and let me know when I can expect my refund?\n",
    "\"\"\"\n",
    "\n",
    "# --------------------------------------------------------------\n",
    "# Providing a JSON Schema with detailed parameter descriptions\n",
    "# --------------------------------------------------------------\n",
    "\n",
    "system_prompt = \"\"\"\n",
    "You are an AI customer care assistant. You will be provided with a customer inquiry,\n",
    "and your goal is to respond with a structured solution, including the steps taken to resolve the issue and the final resolution.\n",
    "For each step, provide a detailed description and the action taken.\n",
    "\"\"\"\n",
    "\n",
    "def get_ticket_response_json(query):\n",
    "    response = client.chat.completions.create(\n",
    "        model='gpt-4o',\n",
    "        messages=[\n",
    "            {\"role\": \"system\", \"content\": system_prompt},\n",
    "            {\"role\": \"user\", \"content\": query},\n",
    "        ],\n",
    "        response_format={\n",
    "            \"type\": \"json_schema\",\n",
    "            \"json_schema\": {\n",
    "                \"name\": \"ticket_resolution\",\n",
    "                \"schema\": {\n",
    "                    \"type\": \"object\",\n",
    "                    \"properties\": {\n",
    "                        \"steps\": {\n",
    "                            \"type\": \"array\",\n",
    "                            \"description\": (\n",
    "                                \"An ordered list of steps taken to resolve the customer's inquiry. \"\n",
    "                                \"Each step is an object containing a detailed description and the specific action performed.\"\n",
    "                            ),\n",
    "                            \"items\": {\n",
    "                                \"type\": \"object\",\n",
    "                                \"description\": \"A single step in the resolution process.\",\n",
    "                                \"properties\": {\n",
    "                                    \"description\": {\n",
    "                                        \"type\": \"string\",\n",
    "                                        \"description\": \"A detailed explanation of the step taken.\"\n",
    "                                    },\n",
    "                                    \"action\": {\n",
    "                                        \"type\": \"string\",\n",
    "                                        \"description\": \"The specific action performed in this step.\"\n",
    "                                    }\n",
    "                                },\n",
    "                                \"required\": [\"description\", \"action\"],\n",
    "                                \"additionalProperties\": False\n",
    "                            }\n",
    "                        },\n",
    "                        \"final_resolution\": {\n",
    "                            \"type\": \"string\",\n",
    "                            \"description\": (\n",
    "                                \"A summary of the final resolution provided to the customer, \"\n",
    "                                \"including any instructions or expected outcomes.\"\n",
    "                            )\n",
    "                        }\n",
    "                    },\n",
    "                    \"required\": [\"steps\", \"final_resolution\"],\n",
    "                    \"additionalProperties\": False,\n",
    "                },\n",
    "                \"strict\": True,\n",
    "            },\n",
    "        },\n",
    "    )\n",
    "\n",
    "    return response.choices[0].message\n"
   ]
  },
  {
   "cell_type": "code",
   "execution_count": 35,
   "metadata": {},
   "outputs": [],
   "source": [
    "response = get_ticket_response_json(query)\n"
   ]
  },
  {
   "cell_type": "code",
   "execution_count": 36,
   "metadata": {},
   "outputs": [],
   "source": [
    "res = json.loads(response.content)"
   ]
  },
  {
   "cell_type": "code",
   "execution_count": 37,
   "metadata": {},
   "outputs": [
    {
     "data": {
      "text/plain": [
       "{'steps': [{'description': 'Verify the order information and the items received by the customer to confirm if they do not match the original order.',\n",
       "   'action': \"Reviewed the customer's order details and confirmed that the item received was indeed incorrect.\"},\n",
       "  {'description': 'Initiate a return process by generating a return label for the incorrect item and providing instructions for the customer',\n",
       "   'action': 'Created a return shipping label for the customer and emailed it to them along with detailed return instructions.'},\n",
       "  {'description': 'Inform the customer of the expected timeline for processing the return and issuing the refund once the item is received.',\n",
       "   'action': 'Explained to the customer that upon receipt of the returned item, the refund process will begin, typically taking 5-7 business days to reflect in their payment method.'}],\n",
       " 'final_resolution': 'I have sent you a return shipping label via email. Please use this label to return the incorrect item. Once received, we will process your refund, which should reflect in your payment method within 5-7 business days.'}"
      ]
     },
     "execution_count": 37,
     "metadata": {},
     "output_type": "execute_result"
    }
   ],
   "source": [
    "res"
   ]
  },
  {
   "cell_type": "code",
   "execution_count": 38,
   "metadata": {},
   "outputs": [
    {
     "data": {
      "text/plain": [
       "[{'description': 'Verify the order information and the items received by the customer to confirm if they do not match the original order.',\n",
       "  'action': \"Reviewed the customer's order details and confirmed that the item received was indeed incorrect.\"},\n",
       " {'description': 'Initiate a return process by generating a return label for the incorrect item and providing instructions for the customer',\n",
       "  'action': 'Created a return shipping label for the customer and emailed it to them along with detailed return instructions.'},\n",
       " {'description': 'Inform the customer of the expected timeline for processing the return and issuing the refund once the item is received.',\n",
       "  'action': 'Explained to the customer that upon receipt of the returned item, the refund process will begin, typically taking 5-7 business days to reflect in their payment method.'}]"
      ]
     },
     "execution_count": 38,
     "metadata": {},
     "output_type": "execute_result"
    }
   ],
   "source": [
    "res['steps']"
   ]
  },
  {
   "cell_type": "code",
   "execution_count": 39,
   "metadata": {},
   "outputs": [
    {
     "data": {
      "text/plain": [
       "'I have sent you a return shipping label via email. Please use this label to return the incorrect item. Once received, we will process your refund, which should reflect in your payment method within 5-7 business days.'"
      ]
     },
     "execution_count": 39,
     "metadata": {},
     "output_type": "execute_result"
    }
   ],
   "source": [
    "res['final_resolution']"
   ]
  },
  {
   "cell_type": "code",
   "execution_count": null,
   "metadata": {},
   "outputs": [],
   "source": []
  },
  {
   "cell_type": "code",
   "execution_count": null,
   "metadata": {},
   "outputs": [],
   "source": []
  }
 ],
 "metadata": {
  "kernelspec": {
   "display_name": "env_gen_ai",
   "language": "python",
   "name": "python3"
  },
  "language_info": {
   "codemirror_mode": {
    "name": "ipython",
    "version": 3
   },
   "file_extension": ".py",
   "mimetype": "text/x-python",
   "name": "python",
   "nbconvert_exporter": "python",
   "pygments_lexer": "ipython3",
   "version": "3.10.14"
  }
 },
 "nbformat": 4,
 "nbformat_minor": 2
}
