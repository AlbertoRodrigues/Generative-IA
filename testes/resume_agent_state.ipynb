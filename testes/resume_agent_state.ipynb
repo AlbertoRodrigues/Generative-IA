{
 "cells": [
  {
   "cell_type": "code",
   "execution_count": null,
   "id": "7c4bc909",
   "metadata": {},
   "outputs": [],
   "source": [
    "from dotenv import load_dotenv\n",
    "import os\n",
    "from openai import OpenAI"
   ]
  },
  {
   "cell_type": "code",
   "execution_count": 2,
   "id": "f97ad95d",
   "metadata": {},
   "outputs": [],
   "source": [
    "load_dotenv()\n",
    "openai_api_key = os.getenv('OPENAI_API_KEY')\n",
    "client = OpenAI()"
   ]
  },
  {
   "cell_type": "code",
   "execution_count": null,
   "id": "ccb3aa82",
   "metadata": {},
   "outputs": [],
   "source": [
    "system_prompt = \"\"\"\n",
    "Você é um modelo especializado em identificar o contexto mais relevante para a última pergunta do cliente.\n",
    "\n",
    "Entrada:\n",
    "- Você receberá um state contendo as últimas 6 mensagens trocadas entre o cliente e o assistente.\n",
    "- Sua tarefa é extrair apenas o conteúdo mais relevante em relação à **última mensagem do cliente**.\n",
    "\n",
    "Instruções:\n",
    "1. Leia todas as mensagens no state.\n",
    "2. Identifique qual é a **última mensagem do cliente**.\n",
    "3. Analise as mensagens anteriores e selecione somente os trechos que contenham informações diretamente úteis ou relacionadas a essa última mensagem.\n",
    "4. Ignore repetições, ruídos e qualquer conteúdo irrelevante (como comentários pessoais, digressões ou exemplos fora de contexto).\n",
    "5. Retorne apenas o texto relevante, de forma concisa e direta.\n",
    "6. Não resuma, não reformule e não adicione explicações.\n",
    "7. Se nenhuma informação relevante for encontrada, retorne a string vazia.\n",
    "8. Saída deve conter somente o texto, sem formatação (sem aspas, sem markdown, sem JSON).\n",
    "\n",
    "Seu objetivo é fornecer exclusivamente o **contexto relevante** que o assistente deveria considerar para responder a última pergunta do cliente.\n",
    "\n",
    "\"\"\""
   ]
  },
  {
   "cell_type": "code",
   "execution_count": 65,
   "id": "d4395066",
   "metadata": {},
   "outputs": [],
   "source": [
    "user_prompt = \"\"\"\n",
    "[\n",
    "  {\n",
    "    \"role\": \"user\",\n",
    "    \"content\": \"Você acha que cachorro pode comer melancia? O meu parece gostar, mas fico em dúvida se faz mal.\"\n",
    "  },\n",
    "  {\n",
    "    \"role\": \"assistant\",\n",
    "    \"content\": \"Em pequenas quantidades, melancia é segura para cães, desde que sem sementes nem casca.\"\n",
    "  },\n",
    "  {\n",
    "    \"role\": \"user\",\n",
    "    \"content\": \"Mudando de assunto, você pode me recomendar alguns investimentos interessantes para começar?\"\n",
    "  },\n",
    "  {\n",
    "    \"role\": \"assistant\",\n",
    "    \"content\": \"Claro. Três opções populares são: Tesouro Direto (renda fixa com baixo risco), Fundos Imobiliários (para quem quer renda mensal) e Ações de grandes empresas (maior risco, mas potencial de retorno maior).\"\n",
    "  },\n",
    "  {\n",
    "    \"role\": \"user\",\n",
    "    \"content\": \"Quero descobrir mais sobre o segundo investimento que você mencionou.\"\n",
    "  }\n",
    "]\n",
    "\"\"\""
   ]
  },
  {
   "cell_type": "code",
   "execution_count": 68,
   "id": "087f2f8e",
   "metadata": {},
   "outputs": [],
   "source": [
    "response = client.chat.completions.create(\n",
    "    model=\"gpt-4.1\",\n",
    "    messages=[\n",
    "        {\"role\": \"system\", \"content\": system_prompt},\n",
    "        {\"role\": \"user\", \"content\": user_prompt},     \n",
    "    ],\n",
    "    temperature=0.0,\n",
    "    #service_tier=\"priority\",\n",
    ")"
   ]
  },
  {
   "cell_type": "code",
   "execution_count": 69,
   "id": "6dc067e8",
   "metadata": {},
   "outputs": [
    {
     "name": "stdout",
     "output_type": "stream",
     "text": [
      "Fundos Imobiliários (para quem quer renda mensal)\n"
     ]
    }
   ],
   "source": [
    "print(response.choices[0].message.content)"
   ]
  },
  {
   "cell_type": "code",
   "execution_count": 41,
   "id": "b2add838",
   "metadata": {},
   "outputs": [],
   "source": [
    "response = client.responses.create(\n",
    "    model=\"gpt-5-nano\",\n",
    "    input=[\n",
    "        {\"role\": \"system\", \"content\": system_prompt},\n",
    "        {\"role\": \"user\", \"content\": user_prompt}\n",
    "    ],\n",
    "    service_tier=\"priority\",\n",
    "    #temperature=0.0,\n",
    ")"
   ]
  },
  {
   "cell_type": "code",
   "execution_count": 23,
   "id": "5cbf1fd2",
   "metadata": {},
   "outputs": [
    {
     "data": {
      "text/plain": [
       "'BM25 calcula a relevância de um documento com base na frequência do termo e no tamanho do documento, usando dois parâmetros principais: k1 (controla a saturação da frequência) e b (ajusta a normalização pelo tamanho do documento), equilibrando o peso de termos frequentes e textos longos, sendo mais robusto que TF-IDF em consultas curtas e padrão em ferramentas como Elasticsearch e Lucene.'"
      ]
     },
     "execution_count": 23,
     "metadata": {},
     "output_type": "execute_result"
    }
   ],
   "source": [
    "response.output[0].content[0].text"
   ]
  },
  {
   "cell_type": "code",
   "execution_count": null,
   "id": "10e7ab70",
   "metadata": {},
   "outputs": [],
   "source": []
  },
  {
   "cell_type": "code",
   "execution_count": null,
   "id": "c471a0ee",
   "metadata": {},
   "outputs": [],
   "source": []
  },
  {
   "cell_type": "code",
   "execution_count": null,
   "id": "1668bfa4",
   "metadata": {},
   "outputs": [],
   "source": []
  }
 ],
 "metadata": {
  "kernelspec": {
   "display_name": "venv",
   "language": "python",
   "name": "python3"
  },
  "language_info": {
   "codemirror_mode": {
    "name": "ipython",
    "version": 3
   },
   "file_extension": ".py",
   "mimetype": "text/x-python",
   "name": "python",
   "nbconvert_exporter": "python",
   "pygments_lexer": "ipython3",
   "version": "3.11.0"
  }
 },
 "nbformat": 4,
 "nbformat_minor": 5
}
