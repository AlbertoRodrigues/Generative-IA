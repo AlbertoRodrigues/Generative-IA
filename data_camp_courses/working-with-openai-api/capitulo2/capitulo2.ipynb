{
 "cells": [
  {
   "cell_type": "markdown",
   "id": "32144d88",
   "metadata": {},
   "source": [
    "## Nesse capítulo vou explorar \n",
    "- Continuação de texto\n",
    "- Parâmetro de aleatoriedade e max_tokens\n",
    "- Tarefas: achar e substituir, resumo, geração de slogans/tags\n",
    "- Tokens\n",
    "- Classificação de texto(por exemplo: sentimento)\n",
    "- Zero-shot, one-shot e few-shot\n",
    "- Criação de histórico de perguntas para um chatbot\n",
    "- Roles e geração de texto estilo chatbot"
   ]
  },
  {
   "cell_type": "code",
   "execution_count": 1,
   "id": "7d893b74",
   "metadata": {},
   "outputs": [],
   "source": [
    "from openai import OpenAI\n",
    "from dotenv import load_dotenv\n",
    "import os"
   ]
  },
  {
   "cell_type": "code",
   "execution_count": 2,
   "id": "41dcefa9",
   "metadata": {},
   "outputs": [],
   "source": [
    "load_dotenv()\n",
    "\n",
    "api_key = os.getenv('OPENAI_API_KEY')"
   ]
  },
  {
   "cell_type": "code",
   "execution_count": 3,
   "id": "224320b8",
   "metadata": {},
   "outputs": [],
   "source": [
    "client = OpenAI(api_key = api_key)"
   ]
  },
  {
   "cell_type": "markdown",
   "id": "72cc3c80",
   "metadata": {},
   "source": [
    "### Uma das tarefas da API da OpenAI é realizar tarefas através de textos usando a função completions.create(). O jeito mais simples de usar essa função é especificar o modelo LLM e o prompt. Cito um exemplo abaixo:"
   ]
  },
  {
   "cell_type": "code",
   "execution_count": 11,
   "id": "10aa26b4",
   "metadata": {},
   "outputs": [
    {
     "data": {
      "text/plain": [
       "ChatCompletion(id='chatcmpl-9cI0gs3PeoqBhHLLJp0qppwDQ6Zoq', choices=[Choice(finish_reason='stop', index=0, logprobs=None, message=ChatCompletionMessage(content='France won the 2018 FIFA World Cup in soccer.', role='assistant', function_call=None, tool_calls=None))], created=1718912722, model='gpt-3.5-turbo-0125', object='chat.completion', system_fingerprint=None, usage=CompletionUsage(completion_tokens=12, prompt_tokens=19, total_tokens=31))"
      ]
     },
     "execution_count": 11,
     "metadata": {},
     "output_type": "execute_result"
    }
   ],
   "source": [
    "response = client.chat.completions.create(\n",
    "  model=\"gpt-3.5-turbo\",\n",
    "  messages=[\n",
    "    {\"role\": \"user\", \"content\": \"Who won the world cup of soccer in 2018?\"}\n",
    "  ]\n",
    ")\n",
    "response"
   ]
  },
  {
   "cell_type": "code",
   "execution_count": 12,
   "id": "994b426d",
   "metadata": {},
   "outputs": [
    {
     "name": "stdout",
     "output_type": "stream",
     "text": [
      "France won the 2018 FIFA World Cup in soccer.\n"
     ]
    }
   ],
   "source": [
    "print(response.choices[0].message.content)"
   ]
  },
  {
   "cell_type": "markdown",
   "id": "6137c783",
   "metadata": {},
   "source": [
    "#### O parametro temperature serve para controlar a subjetividade, aleatoriedade e criatividade da resposta"
   ]
  },
  {
   "cell_type": "code",
   "execution_count": 13,
   "id": "30540b61",
   "metadata": {},
   "outputs": [
    {
     "data": {
      "text/plain": [
       "ChatCompletion(id='chatcmpl-9cI24CXHVj9ijKobZ9CVUh5UWHPBB', choices=[Choice(finish_reason='stop', index=0, logprobs=None, message=ChatCompletionMessage(content=\" You never know what you're gonna get. Each day brings new surprises, challenges, and opportunities. Just like a box of chocolates, life is full of different flavors and experiences. It's up to us to savor each moment and make the most of what comes our way. So, embrace the uncertainty and enjoy the journey, because that's what makes life sweet.\", role='assistant', function_call=None, tool_calls=None))], created=1718912808, model='gpt-3.5-turbo-0125', object='chat.completion', system_fingerprint=None, usage=CompletionUsage(completion_tokens=74, prompt_tokens=15, total_tokens=89))"
      ]
     },
     "execution_count": 13,
     "metadata": {},
     "output_type": "execute_result"
    }
   ],
   "source": [
    "response = client.chat.completions.create(\n",
    "  model=\"gpt-3.5-turbo\",\n",
    "  messages=[\n",
    "    {\"role\": \"user\", \"content\": \"Life is like a box of chocolates.\"}\n",
    "  ],\n",
    "  temperature=0\n",
    ")\n",
    "response"
   ]
  },
  {
   "cell_type": "code",
   "execution_count": 14,
   "id": "0ece68a2",
   "metadata": {},
   "outputs": [
    {
     "name": "stdout",
     "output_type": "stream",
     "text": [
      " You never know what you're gonna get. Each day brings new surprises, challenges, and opportunities. Just like a box of chocolates, life is full of different flavors and experiences. It's up to us to savor each moment and make the most of what comes our way. So, embrace the uncertainty and enjoy the journey, because that's what makes life sweet.\n"
     ]
    }
   ],
   "source": [
    "print(response.choices[0].message.content)"
   ]
  },
  {
   "cell_type": "code",
   "execution_count": 15,
   "id": "bfc0b9d5",
   "metadata": {},
   "outputs": [
    {
     "data": {
      "text/plain": [
       "ChatCompletion(id='chatcmpl-9cI3dCpE5YuIy2VOM66kosmAMmcxj', choices=[Choice(finish_reason='stop', index=0, logprobs=None, message=ChatCompletionMessage(content=\"You never know what you're gonna get.\", role='assistant', function_call=None, tool_calls=None))], created=1718912905, model='gpt-3.5-turbo-0125', object='chat.completion', system_fingerprint=None, usage=CompletionUsage(completion_tokens=9, prompt_tokens=15, total_tokens=24))"
      ]
     },
     "execution_count": 15,
     "metadata": {},
     "output_type": "execute_result"
    }
   ],
   "source": [
    "response = client.chat.completions.create(\n",
    "  model=\"gpt-3.5-turbo\",\n",
    "  messages=[\n",
    "    {\"role\": \"user\", \"content\": \"Life is like a box of chocolates.\"}\n",
    "  ],\n",
    "  temperature=2\n",
    ")\n",
    "response"
   ]
  },
  {
   "cell_type": "code",
   "execution_count": 16,
   "id": "bf78f2e2",
   "metadata": {},
   "outputs": [
    {
     "name": "stdout",
     "output_type": "stream",
     "text": [
      "You never know what you're gonna get.\n"
     ]
    }
   ],
   "source": [
    "print(response.choices[0].message.content)"
   ]
  },
  {
   "cell_type": "code",
   "execution_count": null,
   "id": "bb57b77c",
   "metadata": {},
   "outputs": [],
   "source": []
  },
  {
   "cell_type": "code",
   "execution_count": null,
   "id": "4e3d667d",
   "metadata": {},
   "outputs": [],
   "source": []
  },
  {
   "cell_type": "markdown",
   "id": "ed024a05",
   "metadata": {},
   "source": [
    "### Tarefa find and replace"
   ]
  },
  {
   "cell_type": "code",
   "execution_count": 17,
   "id": "816fdab2",
   "metadata": {},
   "outputs": [
    {
     "name": "stdout",
     "output_type": "stream",
     "text": [
      "Maarten is a Senior Content Developer at DataCamp. His favorite programming language is R, which he uses for his statistical analyses.\n"
     ]
    }
   ],
   "source": [
    "prompt = \"\"\"\n",
    "Update name to Maarten, pronouns to he/him, and job title to Senior Content Developer:  \n",
    "Joanne is a Content Developer at DataCamp. Her favorite programming language is R, which she uses for her statistical analyses.\n",
    "\"\"\"\n",
    "response = client.chat.completions.create(\n",
    "  model=\"gpt-3.5-turbo\",\n",
    "  messages=[\n",
    "    {\"role\": \"user\", \"content\": prompt}\n",
    "  ],\n",
    "  temperature=0\n",
    ")\n",
    "print(response.choices[0].message.content)"
   ]
  },
  {
   "cell_type": "code",
   "execution_count": null,
   "id": "3449bc37",
   "metadata": {},
   "outputs": [],
   "source": []
  },
  {
   "cell_type": "markdown",
   "id": "ece14889",
   "metadata": {},
   "source": [
    "### Tarefa de resumo de textos"
   ]
  },
  {
   "cell_type": "code",
   "execution_count": 18,
   "id": "b77d6b02",
   "metadata": {},
   "outputs": [
    {
     "name": "stdout",
     "output_type": "stream",
     "text": [
      "- Investment involves committing money to an enterprise in order to obtain added income or profit\n",
      "- Various investment options include stocks, bonds, mutual funds, real estate, precious metals, and currencies; careful analysis and diversification can help minimize risk and maximize returns\n"
     ]
    }
   ],
   "source": [
    "prompt=\"\"\"Summarize the following text into two concise bullet points:\n",
    "Investment refers to the act of committing money or capital to an enterprise with the expectation of obtaining an added income or profit in return. \n",
    "There are a variety of investment options available, including stocks, bonds, mutual funds, real estate, precious metals, and currencies. \n",
    "Making an investment decision requires careful analysis, assessment of risk, and evaluation of potential rewards. Good investments have the ability to produce high returns \n",
    "over the long term while minimizing risk. Diversification of investment portfolios reduces risk exposure. Investment can be a valuable tool for building wealth, \n",
    "generating income, and achieving financial security. It is important to be diligent and informed when investing to avoid losses.\"\"\"\n",
    "response = client.chat.completions.create(\n",
    "  model=\"gpt-3.5-turbo\",\n",
    "  messages=[\n",
    "    {\"role\": \"user\", \"content\": prompt}\n",
    "  ],\n",
    "  temperature=0\n",
    ")\n",
    "print(response.choices[0].message.content)"
   ]
  },
  {
   "cell_type": "code",
   "execution_count": null,
   "id": "ee537052",
   "metadata": {},
   "outputs": [],
   "source": []
  },
  {
   "cell_type": "markdown",
   "id": "7fc6a75c",
   "metadata": {},
   "source": [
    "### Tarefa de criação de conteúdo"
   ]
  },
  {
   "cell_type": "code",
   "execution_count": 21,
   "id": "52b5d9a1",
   "metadata": {},
   "outputs": [
    {
     "name": "stdout",
     "output_type": "stream",
     "text": [
      "\"Where every bite is a delight!\"\n"
     ]
    }
   ],
   "source": [
    "response = client.chat.completions.create(\n",
    "  model=\"gpt-3.5-turbo\",\n",
    "  messages=[\n",
    "    {\"role\": \"user\", \"content\": \"Create a slogan for a new restaurant\"}\n",
    "  ],\n",
    "  temperature=0\n",
    ")\n",
    "\n",
    "print(response.choices[0].message.content)"
   ]
  },
  {
   "cell_type": "code",
   "execution_count": null,
   "id": "9a9d1be2",
   "metadata": {},
   "outputs": [],
   "source": []
  },
  {
   "cell_type": "markdown",
   "id": "dfc0fccf",
   "metadata": {},
   "source": [
    "### Parei na parte: Classifying text sentiment, não esquecer de falar no One-Short e Few-Shot"
   ]
  },
  {
   "cell_type": "code",
   "execution_count": 4,
   "id": "4e26fe30",
   "metadata": {},
   "outputs": [
    {
     "name": "stdout",
     "output_type": "stream",
     "text": [
      "- Unbelievably good! - Positive\n",
      "- Shoes fell apart on the second use. - Negative\n",
      "- The shoes look nice, but they aren't very comfortable. - Neutral\n",
      "- Can't wait to show them off! - Positive\n"
     ]
    }
   ],
   "source": [
    "response = client.chat.completions.create(\n",
    "  model=\"gpt-3.5-turbo\",\n",
    "  messages=[\n",
    "    {\"role\": \"user\", \"content\": \"\"\"Classify the sentiment of the following statements as either negative, positive, or neutral:\n",
    "\n",
    "    - Unbelievably good!\n",
    "    - Shoes fell apart on the second use.\n",
    "    - The shoes look nice, but they aren't very comfortable.\n",
    "    - Can't wait to show them off!\"\"\"}\n",
    "  ],\n",
    "  temperature=0\n",
    ")\n",
    "\n",
    "print(response.choices[0].message.content)"
   ]
  },
  {
   "cell_type": "code",
   "execution_count": 5,
   "id": "b16d3fa1",
   "metadata": {},
   "outputs": [
    {
     "name": "stdout",
     "output_type": "stream",
     "text": [
      "Tech: Apple, Microsoft, Alphabet, Amazon, NVIDIA, Meta, Tesla\n",
      "Energy: Saudi Aramco\n",
      "Luxury Goods: LVMH\n",
      "Investment: Berkshire Hathaway\n"
     ]
    }
   ],
   "source": [
    "response = client.chat.completions.create(\n",
    "  model=\"gpt-3.5-turbo\",\n",
    "  messages=[\n",
    "    {\"role\": \"user\", \"content\": \"\"\"Categorize the following companies into four categories: Tech, Energy, Luxury Goods and Investment. \n",
    "     The companies are: Apple, Microsoft, Saudi Aramco, Alphabet, Amazon, Berkshire Hathaway, NVIDIA, Meta, Tesla, and LVMH\"\"\"}\n",
    "  ],\n",
    "  temperature=0\n",
    ")\n",
    "\n",
    "print(response.choices[0].message.content)"
   ]
  },
  {
   "cell_type": "code",
   "execution_count": 6,
   "id": "672c40fb",
   "metadata": {},
   "outputs": [
    {
     "name": "stdout",
     "output_type": "stream",
     "text": [
      "This code calculates the mean height of the individuals listed in the heights_dict dictionary using the numpy library in Python.\n"
     ]
    }
   ],
   "source": [
    "response = client.chat.completions.create(\n",
    "  model=\"gpt-3.5-turbo\",\n",
    "  messages=[\n",
    "    {\"role\": \"user\", \"content\": \"\"\"Explain what this Python code does in one sentence:\n",
    "import numpy as np\n",
    "\n",
    "heights_dict = {\"Mark\": 1.76, \"Steve\": 1.88, \"Adnan\": 1.73}\n",
    "heights = heights_dict.values()\n",
    "print(np.mean(heights))\"\"\"}\n",
    "  ],\n",
    "  temperature=0\n",
    ")\n",
    "\n",
    "print(response.choices[0].message.content)"
   ]
  },
  {
   "cell_type": "code",
   "execution_count": 7,
   "id": "193b8885",
   "metadata": {},
   "outputs": [
    {
     "name": "stdout",
     "output_type": "stream",
     "text": [
      "Neutral\n"
     ]
    }
   ],
   "source": [
    "response = client.chat.completions.create(\n",
    "  model=\"gpt-3.5-turbo\",\n",
    "  messages=[\n",
    "    {\"role\": \"user\", \"content\": \"\"\"Classify sentiment in the following statements: \n",
    "     The service was very slow // Disgruntled \n",
    "     Meal was decent, but I've had better. //\"\"\"}\n",
    "  ],\n",
    "  temperature=0\n",
    ")\n",
    "\n",
    "print(response.choices[0].message.content)"
   ]
  },
  {
   "cell_type": "code",
   "execution_count": 8,
   "id": "26fdeebb",
   "metadata": {},
   "outputs": [
    {
     "name": "stdout",
     "output_type": "stream",
     "text": [
      "Neutral\n"
     ]
    }
   ],
   "source": [
    "response = client.chat.completions.create(\n",
    "  model=\"gpt-3.5-turbo\",\n",
    "  messages=[\n",
    "    {\"role\": \"user\", \"content\": \"\"\"Classify sentiment in the following statements: \n",
    "     The service was very slow // Disgruntled \n",
    "     The steak was awfully tasty! // Delighted \n",
    "     Good experience overall. // Satisfied \n",
    "     Meal was decent, but I've had better. //\"\"\"}\n",
    "  ],\n",
    "  temperature=0\n",
    ")\n",
    "\n",
    "print(response.choices[0].message.content)"
   ]
  },
  {
   "cell_type": "code",
   "execution_count": null,
   "id": "c92b65df",
   "metadata": {},
   "outputs": [],
   "source": []
  }
 ],
 "metadata": {
  "kernelspec": {
   "display_name": "Python 3 (ipykernel)",
   "language": "python",
   "name": "python3"
  },
  "language_info": {
   "codemirror_mode": {
    "name": "ipython",
    "version": 3
   },
   "file_extension": ".py",
   "mimetype": "text/x-python",
   "name": "python",
   "nbconvert_exporter": "python",
   "pygments_lexer": "ipython3",
   "version": "3.9.7"
  }
 },
 "nbformat": 4,
 "nbformat_minor": 5
}
